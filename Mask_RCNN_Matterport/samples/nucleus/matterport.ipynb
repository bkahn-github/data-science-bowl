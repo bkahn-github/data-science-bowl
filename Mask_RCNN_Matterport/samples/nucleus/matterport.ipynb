{
  "nbformat": 4,
  "nbformat_minor": 0,
  "metadata": {
    "colab": {
      "name": "matterport",
      "version": "0.3.2",
      "views": {},
      "default_view": {},
      "provenance": [],
      "collapsed_sections": []
    },
    "kernelspec": {
      "name": "python3",
      "display_name": "Python 3"
    },
    "accelerator": "GPU"
  },
  "cells": [
    {
      "metadata": {
        "id": "5jVFBI04O_fd",
        "colab_type": "code",
        "colab": {
          "autoexec": {
            "startup": false,
            "wait_interval": 0
          }
        }
      },
      "cell_type": "code",
      "source": [
        "import os\n",
        "!rm -rf *`\n",
        "!rm -rf .kaggle/\n",
        "!git clone https://github.com/bkahn-github/data-science-bowl.git\n",
        "!pip install -r data-science-bowl/requirements.txt\n",
        "!pip3 install http://download.pytorch.org/whl/cu80/torch-0.3.0.post4-cp36-cp36m-linux_x86_64.whl \n",
        "!pip3 install torchvision\n",
        "!pip3 install Pillow\n",
        "!mkdir ~/.kaggle\n",
        "f = open(\".kaggle/kaggle.json\", \"w\")\n",
        "f.write('{\"username\":\"bkkaggle\",\"key\":\"bf4e62680116284087ace0484990f87a\"}')\n",
        "f.close()\n",
        "!kaggle competitions download -c data-science-bowl-2018\n",
        "!unzip ~/.kaggle/competitions/data-science-bowl-2018/stage1_train.zip -d ~/.kaggle/competitions/data-science-bowl-2018/stage1_train\n",
        "!unzip ~/.kaggle/competitions/data-science-bowl-2018/stage1_test.zip -d ~/.kaggle/competitions/data-science-bowl-2018/stage1_test\n",
        "!unzip ~/.kaggle/competitions/data-science-bowl-2018/stage2_test_final.zip -d ~/.kaggle/competitions/data-science-bowl-2018/stage2_test\n",
        "!unzip ~/.kaggle/competitions/data-science-bowl-2018/stage1_train_labels.csv.zip -d ~/.kaggle/competitions/data-science-bowl-2018/\n",
        "!unzip ~/.kaggle/competitions/data-science-bowl-2018/stage1_sample_submission.csv.zip -d ~/.kaggle/competitions/data-science-bowl-2018/"
      ],
      "execution_count": 0,
      "outputs": []
    },
    {
      "metadata": {
        "id": "w-S_OOOTPJR9",
        "colab_type": "code",
        "colab": {
          "autoexec": {
            "startup": false,
            "wait_interval": 0
          }
        }
      },
      "cell_type": "code",
      "source": [
        "# !git clone https://github.com/lopuhin/kaggle-dsbowl-2018-dataset-fixes ./kaggle-dsbowl-2018-dataset-fixes\n",
        "# !ln -s ./kaggle-dsbowl-2018-dataset-fixes/stage1_train stage1_train\n",
        "# !mv ~/.kaggle/competitions/data-science-bowl-2018/test/ stage1_test\n",
        "# !mv ~/.kaggle/competitions/data-science-bowl-2018/stage1_train_labels.csv .\n",
        "# !mv ~/.kaggle/competitions/data-science-bowl-2018/stage1_sample_submission.csv ."
      ],
      "execution_count": 0,
      "outputs": []
    },
    {
      "metadata": {
        "id": "gxznGzDzPVpF",
        "colab_type": "code",
        "colab": {
          "autoexec": {
            "startup": false,
            "wait_interval": 0
          }
        }
      },
      "cell_type": "code",
      "source": [
        "!git clone https://github.com/waleedka/coco.git"
      ],
      "execution_count": 0,
      "outputs": []
    },
    {
      "metadata": {
        "id": "3dJJmNigPWvZ",
        "colab_type": "code",
        "colab": {
          "autoexec": {
            "startup": false,
            "wait_interval": 0
          }
        }
      },
      "cell_type": "code",
      "source": [
        "!apt-get install make"
      ],
      "execution_count": 0,
      "outputs": []
    },
    {
      "metadata": {
        "id": "DyAXHlO9PiUp",
        "colab_type": "code",
        "colab": {
          "autoexec": {
            "startup": false,
            "wait_interval": 0
          }
        }
      },
      "cell_type": "code",
      "source": [
        "os.chdir('coco/PythonAPI/')\n",
        "!pip install Cython\n",
        "!make install"
      ],
      "execution_count": 0,
      "outputs": []
    },
    {
      "metadata": {
        "id": "0U9HeooIPjmh",
        "colab_type": "code",
        "colab": {
          "autoexec": {
            "startup": false,
            "wait_interval": 0
          }
        }
      },
      "cell_type": "code",
      "source": [
        "os.chdir('../../')"
      ],
      "execution_count": 0,
      "outputs": []
    },
    {
      "metadata": {
        "id": "xQNAaVRbPk6g",
        "colab_type": "code",
        "colab": {
          "autoexec": {
            "startup": false,
            "wait_interval": 0
          }
        }
      },
      "cell_type": "code",
      "source": [
        "!git clone https://github.com/bkahn-github/Mask_RCNN.git\n",
        "os.chdir('./Mask_RCNN')"
      ],
      "execution_count": 0,
      "outputs": []
    },
    {
      "metadata": {
        "id": "fJoBzGimP7YM",
        "colab_type": "code",
        "colab": {
          "autoexec": {
            "startup": false,
            "wait_interval": 0
          }
        }
      },
      "cell_type": "code",
      "source": [
        "os.chdir('./samples/nucleus/')"
      ],
      "execution_count": 0,
      "outputs": []
    },
    {
      "metadata": {
        "id": "dCsBDpiWQAjC",
        "colab_type": "code",
        "colab": {
          "autoexec": {
            "startup": false,
            "wait_interval": 0
          }
        }
      },
      "cell_type": "code",
      "source": [
        "!pip install -U -q PyDrive\n",
        "from pydrive.auth import GoogleAuth\n",
        "from pydrive.drive import GoogleDrive\n",
        "from google.colab import auth\n",
        "from oauth2client.client import GoogleCredentials\n",
        "\n",
        "auth.authenticate_user()\n",
        "gauth = GoogleAuth()\n",
        "gauth.credentials = GoogleCredentials.get_application_default()\n",
        "drive = GoogleDrive(gauth)\n",
        "\n",
        "file_id = '1bl9uBz4DP3xeTX0BnE35jEvVfFW__Ybh'\n",
        "downloaded = drive.CreateFile({'id': file_id})\n",
        "downloaded.GetContentFile('model.h5')"
      ],
      "execution_count": 0,
      "outputs": []
    },
    {
      "metadata": {
        "id": "8cFYZAE2Ojc4",
        "colab_type": "code",
        "colab": {
          "autoexec": {
            "startup": false,
            "wait_interval": 0
          }
        }
      },
      "cell_type": "code",
      "source": [
        "!pip install imgaug"
      ],
      "execution_count": 0,
      "outputs": []
    },
    {
      "metadata": {
        "id": "Oyzm3hlBQCpE",
        "colab_type": "code",
        "colab": {
          "autoexec": {
            "startup": false,
            "wait_interval": 0
          }
        }
      },
      "cell_type": "code",
      "source": [
        "# !python3 nucleus.py train --dataset='/content/.kaggle/competitions/data-science-bowl-2018/' --subset=train --weights='./model.h5'"
      ],
      "execution_count": 0,
      "outputs": []
    },
    {
      "metadata": {
        "id": "7NCtG_2WW9nQ",
        "colab_type": "code",
        "colab": {
          "autoexec": {
            "startup": false,
            "wait_interval": 0
          }
        }
      },
      "cell_type": "code",
      "source": [
        "!python3 nucleus.py detect --dataset='/content/.kaggle/competitions/data-science-bowl-2018/' --subset=stage2_test --weights='./model.h5'"
      ],
      "execution_count": 0,
      "outputs": []
    },
    {
      "metadata": {
        "id": "iMj7ilwQ1GIf",
        "colab_type": "code",
        "colab": {
          "autoexec": {
            "startup": false,
            "wait_interval": 0
          }
        }
      },
      "cell_type": "code",
      "source": [
        "!mv ../../logs/ saved.h5"
      ],
      "execution_count": 0,
      "outputs": []
    },
    {
      "metadata": {
        "id": "ZK7c1Naa0v0S",
        "colab_type": "code",
        "colab": {
          "autoexec": {
            "startup": false,
            "wait_interval": 0
          }
        }
      },
      "cell_type": "code",
      "source": [
        "!pip install -U -q PyDrive\n",
        "from pydrive.auth import GoogleAuth\n",
        "from pydrive.drive import GoogleDrive\n",
        "from google.colab import auth\n",
        "from oauth2client.client import GoogleCredentials\n",
        "\n",
        "auth.authenticate_user()\n",
        "gauth = GoogleAuth()\n",
        "gauth.credentials = GoogleCredentials.get_application_default()\n",
        "drive = GoogleDrive(gauth)"
      ],
      "execution_count": 0,
      "outputs": []
    },
    {
      "metadata": {
        "id": "9j6tZ_ml7qCs",
        "colab_type": "code",
        "colab": {
          "autoexec": {
            "startup": false,
            "wait_interval": 0
          }
        }
      },
      "cell_type": "code",
      "source": [
        "uploaded = drive.CreateFile({'title': 'matterport-45-epochs.h5'})\n",
        "uploaded.SetContentFile('../../logs/nucleus20180411T1538/mask_rcnn_nucleus_0010.h5')\n",
        "uploaded.Upload()\n",
        "print('Uploaded file with ID {}'.format(uploaded.get('id')))"
      ],
      "execution_count": 0,
      "outputs": []
    },
    {
      "metadata": {
        "id": "gooFv-8uWkUB",
        "colab_type": "code",
        "colab": {
          "autoexec": {
            "startup": false,
            "wait_interval": 0
          }
        }
      },
      "cell_type": "code",
      "source": [
        "from google.colab import files\n",
        "files.download('../../results/nucleus/submit_20180413T181459/submit.csv')"
      ],
      "execution_count": 0,
      "outputs": []
    },
    {
      "metadata": {
        "id": "Yd7JYv5u9oib",
        "colab_type": "code",
        "colab": {
          "autoexec": {
            "startup": false,
            "wait_interval": 0
          }
        }
      },
      "cell_type": "code",
      "source": [
        "len(glob('../../results/nucleus/submit_20180412T031048/*'))"
      ],
      "execution_count": 0,
      "outputs": []
    },
    {
      "metadata": {
        "id": "fohhTvaGZ_th",
        "colab_type": "code",
        "colab": {
          "autoexec": {
            "startup": false,
            "wait_interval": 0
          }
        }
      },
      "cell_type": "code",
      "source": [
        "import numpy as np\n",
        "import matplotlib.pyplot as plt\n",
        "import os\n",
        "import pandas as pd\n",
        "from skimage import io\n",
        "from skimage.segmentation import mark_boundaries\n",
        "from glob import glob\n",
        "from matplotlib.colors import ListedColormap\n",
        "import re\n",
        "\n",
        "%matplotlib inline"
      ],
      "execution_count": 0,
      "outputs": []
    },
    {
      "metadata": {
        "id": "D0ZtLRiEaCAL",
        "colab_type": "code",
        "colab": {
          "autoexec": {
            "startup": false,
            "wait_interval": 0
          }
        }
      },
      "cell_type": "code",
      "source": [
        "def show_image(image_id, title=None, path='../../../.kaggle/competitions/data-science-bowl-2018/stage2_test'):\n",
        "    \"\"\"\n",
        "    Plot colored nuclea on top of the image\n",
        "    \"\"\"\n",
        "    image = io.imread(os.path.join(path, image_id, 'images', image_id + '.png'))[:, :, :3]\n",
        "    masks = glob(os.path.join(path, image_id, 'masks', '*.png'))\n",
        "    \n",
        "    rand_cmap = ListedColormap(np.random.rand(len(masks), 3))\n",
        "    masked_canvas = np.zeros(image.shape[:3])\n",
        "    \n",
        "    for i, mask_path in enumerate(glob(os.path.join(path, image_id, 'masks', '*.png'))):\n",
        "        mask = io.imread(mask_path, as_grey=True)\n",
        "        masked_canvas[mask > 0] = i\n",
        "        \n",
        "    plt.figure(figsize=(20, 20))\n",
        "    transparent_canvas = np.where(masked_canvas > 0, masked_canvas, np.nan)\n",
        "    \n",
        "    if title:\n",
        "        plt.title(title)        \n",
        "    \n",
        "    plt.imshow(image)\n",
        "    \n",
        "    plt.figure(figsize=(20, 20))\n",
        "    plt.imshow(image)\n",
        "    plt.imshow(transparent_canvas, cmap=rand_cmap)\n",
        "    \n",
        "def show_images(image_ids, path='stage1_train'):\n",
        "    for image_id in image_ids:\n",
        "        show_image(image_id, path)\n",
        "\n",
        "def show_images_with_title(df, path='stage1_train'):\n",
        "    for idx, row in df.iterrows():\n",
        "        show_image(row['image_id'], row['image_id'] + ', ' + str(row['mask_count']) + ' masks', path)\n",
        "        \n",
        "def build_labels_df_from_path(path):\n",
        "    ids = []\n",
        "    id_extractor = re.compile(path + '\\/(?P<image_id>.*)\\/masks\\/(?P<mask_id>.*)\\.png')\n",
        "    for path in glob(path + '/**/masks/*.png'):\n",
        "        matches = id_extractor.match(path)\n",
        "        image_id = matches.group('image_id')\n",
        "        mask_id = matches.group('mask_id')\n",
        "        mask = io.imread(path, mode='L')\n",
        "        ids.append([image_id, mask_id, mask.shape[0], mask.shape[1]])\n",
        "        \n",
        "    return pd.DataFrame(ids, columns=['image_id', 'mask_id', 'height', 'width'])\n",
        "\n",
        "def build_test_df_from_path(path):\n",
        "    ids = []\n",
        "    id_extractor = re.compile(path + '\\/(?P<image_id>.*)\\/images\\/.*\\.png')\n",
        "    for path in glob(path + '/**/images/*.png'):\n",
        "        matches = id_extractor.match(path)\n",
        "        image_id = matches.group('image_id')\n",
        "        image = io.imread(path, mode='L')\n",
        "        ids.append([image_id, image.shape[0], image.shape[1]])\n",
        "        \n",
        "    return pd.DataFrame(ids, columns=['image_id', 'height', 'width'])"
      ],
      "execution_count": 0,
      "outputs": []
    },
    {
      "metadata": {
        "id": "Q5WA868EaFFO",
        "colab_type": "code",
        "colab": {
          "autoexec": {
            "startup": false,
            "wait_interval": 0
          }
        }
      },
      "cell_type": "code",
      "source": [
        "train = io.imread_collection('../../../.kaggle/competitions/data-science-bowl-2018/stage1_train/**/images/*.png')\n",
        "test = io.imread_collection('../../../.kaggle/competitions/data-science-bowl-2018/stage2_test/**/images/*.png')\n",
        "train_masks = io.imread_collection('../../../.kaggle/competitions/data-science-bowl-2018/stage1_train/**/masks/*.png')"
      ],
      "execution_count": 0,
      "outputs": []
    },
    {
      "metadata": {
        "id": "l3hdmr8_aHMo",
        "colab_type": "code",
        "colab": {
          "autoexec": {
            "startup": false,
            "wait_interval": 0
          }
        }
      },
      "cell_type": "code",
      "source": [
        "len(train), len(test), len(train_masks)"
      ],
      "execution_count": 0,
      "outputs": []
    },
    {
      "metadata": {
        "id": "bSTd7zhsaSiZ",
        "colab_type": "code",
        "colab": {
          "autoexec": {
            "startup": false,
            "wait_interval": 0
          }
        }
      },
      "cell_type": "code",
      "source": [
        "train_labels_df = build_labels_df_from_path('../../../.kaggle/competitions/data-science-bowl-2018/stage1_train')"
      ],
      "execution_count": 0,
      "outputs": []
    },
    {
      "metadata": {
        "id": "-ZSoi8LMaS7_",
        "colab_type": "code",
        "colab": {
          "autoexec": {
            "startup": false,
            "wait_interval": 0
          }
        }
      },
      "cell_type": "code",
      "source": [
        "train_labels_df.shape"
      ],
      "execution_count": 0,
      "outputs": []
    },
    {
      "metadata": {
        "id": "Evy8HJIaaT-E",
        "colab_type": "code",
        "colab": {
          "autoexec": {
            "startup": false,
            "wait_interval": 0
          }
        }
      },
      "cell_type": "code",
      "source": [
        "train_labels_df.head()"
      ],
      "execution_count": 0,
      "outputs": []
    },
    {
      "metadata": {
        "id": "nc40kqiGaVJ3",
        "colab_type": "code",
        "colab": {
          "autoexec": {
            "startup": false,
            "wait_interval": 0
          }
        }
      },
      "cell_type": "code",
      "source": [
        "train_labels_df[['height', 'width']].describe()"
      ],
      "execution_count": 0,
      "outputs": []
    },
    {
      "metadata": {
        "id": "e_XU4-3HaWax",
        "colab_type": "code",
        "colab": {
          "autoexec": {
            "startup": false,
            "wait_interval": 0
          }
        }
      },
      "cell_type": "code",
      "source": [
        "test_df = build_test_df_from_path('../../../.kaggle/competitions/data-science-bowl-2018/stage2_test')"
      ],
      "execution_count": 0,
      "outputs": []
    },
    {
      "metadata": {
        "id": "rKUQOqPra8Vx",
        "colab_type": "code",
        "colab": {
          "autoexec": {
            "startup": false,
            "wait_interval": 0
          }
        }
      },
      "cell_type": "code",
      "source": [
        "test_df.shape"
      ],
      "execution_count": 0,
      "outputs": []
    },
    {
      "metadata": {
        "id": "ggh1z2EFbOvq",
        "colab_type": "code",
        "colab": {
          "autoexec": {
            "startup": false,
            "wait_interval": 0
          }
        }
      },
      "cell_type": "code",
      "source": [
        "test_df.head()"
      ],
      "execution_count": 0,
      "outputs": []
    },
    {
      "metadata": {
        "id": "0jHRYJmcbSrW",
        "colab_type": "code",
        "colab": {
          "autoexec": {
            "startup": false,
            "wait_interval": 0
          }
        }
      },
      "cell_type": "code",
      "source": [
        "test_df[['height', 'width']].describe()"
      ],
      "execution_count": 0,
      "outputs": []
    },
    {
      "metadata": {
        "id": "0IBGJEcEbZZ3",
        "colab_type": "code",
        "colab": {
          "autoexec": {
            "startup": false,
            "wait_interval": 0
          }
        }
      },
      "cell_type": "code",
      "source": [
        "mask_counts = train_labels_df.groupby('image_id')[['mask_id']].count()\n",
        "mask_counts = mask_counts.reset_index()\n",
        "mask_counts.columns = ['image_id', 'mask_count']"
      ],
      "execution_count": 0,
      "outputs": []
    },
    {
      "metadata": {
        "id": "gE172SYQbbXY",
        "colab_type": "code",
        "colab": {
          "autoexec": {
            "startup": false,
            "wait_interval": 0
          }
        }
      },
      "cell_type": "code",
      "source": [
        "mask_counts.sort_values('mask_count', ascending=False)"
      ],
      "execution_count": 0,
      "outputs": []
    },
    {
      "metadata": {
        "id": "GURBNH2BbcZM",
        "colab_type": "code",
        "colab": {
          "autoexec": {
            "startup": false,
            "wait_interval": 0
          }
        }
      },
      "cell_type": "code",
      "source": [
        "mask_counts['mask_count'].hist(bins=70)"
      ],
      "execution_count": 0,
      "outputs": []
    },
    {
      "metadata": {
        "id": "vmZNtsrpca2T",
        "colab_type": "code",
        "colab": {
          "autoexec": {
            "startup": false,
            "wait_interval": 0
          }
        }
      },
      "cell_type": "code",
      "source": [
        "test_df['image_id'][0]"
      ],
      "execution_count": 0,
      "outputs": []
    },
    {
      "metadata": {
        "id": "rdOk4mANbf8Y",
        "colab_type": "code",
        "colab": {
          "autoexec": {
            "startup": false,
            "wait_interval": 0
          }
        }
      },
      "cell_type": "code",
      "source": [
        "show_images(test_df['image_id'][100:200], path='../../../.kaggle/competitions/data-science-bowl-2018/stage2_test')"
      ],
      "execution_count": 0,
      "outputs": []
    }
  ]
}