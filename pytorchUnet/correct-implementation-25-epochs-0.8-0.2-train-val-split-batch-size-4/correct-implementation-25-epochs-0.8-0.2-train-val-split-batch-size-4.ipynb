{
  "nbformat": 4,
  "nbformat_minor": 0,
  "metadata": {
    "colab": {
      "name": "new-pytorch-unet",
      "version": "0.3.2",
      "views": {},
      "default_view": {},
      "provenance": [],
      "collapsed_sections": []
    },
    "kernelspec": {
      "name": "python3",
      "display_name": "Python 3"
    },
    "accelerator": "GPU"
  },
  "cells": [
    {
      "metadata": {
        "id": "lzKgAbRdkUUO",
        "colab_type": "code",
        "colab": {
          "autoexec": {
            "startup": false,
            "wait_interval": 0
          }
        }
      },
      "cell_type": "code",
      "source": [
        "import os\n",
        "!rm -rf *\n",
        "!rm -rf .kaggle/\n",
        "!git clone https://github.com/bkahn-github/data-science-bowl.git\n",
        "!pip install -r data-science-bowl/requirements.txt\n",
        "!pip3 install http://download.pytorch.org/whl/cu80/torch-0.3.0.post4-cp36-cp36m-linux_x86_64.whl \n",
        "!pip3 install torchvision\n",
        "!pip3 install Pillow\n",
        "!mkdir ~/.kaggle\n",
        "f = open(\".kaggle/kaggle.json\", \"w\")\n",
        "f.write('{\"username\":\"bkkaggle\",\"key\":\"bf4e62680116284087ace0484990f87a\"}')\n",
        "f.close()\n",
        "!kaggle competitions download -c data-science-bowl-2018\n",
        "!unzip ~/.kaggle/competitions/data-science-bowl-2018/stage1_train.zip -d ~/.kaggle/competitions/data-science-bowl-2018/train\n",
        "!unzip ~/.kaggle/competitions/data-science-bowl-2018/stage1_test.zip -d ~/.kaggle/competitions/data-science-bowl-2018/test\n",
        "!unzip ~/.kaggle/competitions/data-science-bowl-2018/stage1_train_labels.csv.zip -d ~/.kaggle/competitions/data-science-bowl-2018/labels\n",
        "os.chdir('data-science-bowl/pytorchUnet')\n",
        "!git checkout new-pytorch-unet"
      ],
      "execution_count": 0,
      "outputs": []
    },
    {
      "metadata": {
        "id": "pIXHKehfknCc",
        "colab_type": "code",
        "colab": {
          "autoexec": {
            "startup": false,
            "wait_interval": 0
          }
        }
      },
      "cell_type": "code",
      "source": [
        "os.chdir('../../')\n",
        "!rm -rf data-science-bowl/\n",
        "!git clone https://github.com/bkahn-github/data-science-bowl.git\n",
        "os.chdir('data-science-bowl/pytorchUnet')\n",
        "!git checkout new-pytorch-unet"
      ],
      "execution_count": 0,
      "outputs": []
    },
    {
      "metadata": {
        "id": "k1AA7Z_zkvKb",
        "colab_type": "code",
        "colab": {
          "autoexec": {
            "startup": false,
            "wait_interval": 0
          }
        }
      },
      "cell_type": "code",
      "source": [
        "import PIL\n",
        "import numpy as np\n",
        "import pandas as pd\n",
        "import matplotlib.pyplot as plt\n",
        "\n",
        "import torch\n",
        "from torch.autograd import Variable\n",
        "from torch.backends import cudnn\n",
        "\n",
        "from tqdm import tqdm, tqdm_notebook\n",
        "\n",
        "np.random.seed(0)\n",
        "torch.manual_seed(0)\n",
        "torch.cuda.manual_seed(0)\n",
        "\n",
        "%matplotlib inline\n",
        "\n",
        "from load_data import load_data\n",
        "from metrics import dice_loss, iou\n",
        "from model import UNet\n",
        "from process_data import predict, encode, upsample\n",
        "from visualize import show_val, show_test\n",
        "from submit import submit"
      ],
      "execution_count": 0,
      "outputs": []
    },
    {
      "metadata": {
        "id": "4ne7Uze49lqm",
        "colab_type": "code",
        "colab": {
          "autoexec": {
            "startup": false,
            "wait_interval": 0
          },
          "output_extras": [
            {
              "item_id": 104
            }
          ],
          "base_uri": "https://localhost:8080/",
          "height": 69
        },
        "outputId": "6d1e4eae-4db7-4c90-9394-82b8699c18b6",
        "executionInfo": {
          "status": "ok",
          "timestamp": 1520393442005,
          "user_tz": 360,
          "elapsed": 53929,
          "user": {
            "displayName": "Imran Khan",
            "photoUrl": "https://lh3.googleusercontent.com/a/default-user=s128",
            "userId": "116974156090080387307"
          }
        }
      },
      "cell_type": "code",
      "source": [
        "train, val, x_test_sizes, train_dataset, val_dataset, test_dataset, train_dataloader, val_dataloader, test_dataloader = load_data()"
      ],
      "execution_count": 4,
      "outputs": [
        {
          "output_type": "stream",
          "text": [
            "100%|██████████| 670/670 [00:52<00:00, 12.69it/s]\n",
            "100%|██████████| 65/65 [00:00<00:00, 141.32it/s]\n",
            "100%|██████████| 65/65 [00:00<00:00, 148.36it/s]\n"
          ],
          "name": "stderr"
        }
      ]
    },
    {
      "metadata": {
        "id": "jqTED64X9nZf",
        "colab_type": "code",
        "colab": {
          "autoexec": {
            "startup": false,
            "wait_interval": 0
          },
          "output_extras": [
            {
              "item_id": 117
            },
            {
              "item_id": 118
            },
            {
              "item_id": 194
            },
            {
              "item_id": 195
            },
            {
              "item_id": 269
            },
            {
              "item_id": 270
            },
            {
              "item_id": 382
            },
            {
              "item_id": 383
            },
            {
              "item_id": 492
            },
            {
              "item_id": 493
            },
            {
              "item_id": 607
            },
            {
              "item_id": 608
            },
            {
              "item_id": 718
            },
            {
              "item_id": 719
            },
            {
              "item_id": 829
            },
            {
              "item_id": 830
            },
            {
              "item_id": 938
            },
            {
              "item_id": 939
            },
            {
              "item_id": 1048
            },
            {
              "item_id": 1049
            },
            {
              "item_id": 1158
            },
            {
              "item_id": 1159
            },
            {
              "item_id": 1266
            },
            {
              "item_id": 1267
            },
            {
              "item_id": 1372
            },
            {
              "item_id": 1373
            },
            {
              "item_id": 1479
            },
            {
              "item_id": 1480
            },
            {
              "item_id": 1586
            },
            {
              "item_id": 1587
            },
            {
              "item_id": 1691
            },
            {
              "item_id": 1692
            },
            {
              "item_id": 1795
            },
            {
              "item_id": 1796
            },
            {
              "item_id": 1899
            },
            {
              "item_id": 1900
            },
            {
              "item_id": 2003
            },
            {
              "item_id": 2004
            },
            {
              "item_id": 2105
            },
            {
              "item_id": 2106
            },
            {
              "item_id": 2205
            },
            {
              "item_id": 2206
            },
            {
              "item_id": 2305
            },
            {
              "item_id": 2306
            },
            {
              "item_id": 2406
            },
            {
              "item_id": 2407
            },
            {
              "item_id": 2506
            },
            {
              "item_id": 2507
            },
            {
              "item_id": 2604
            },
            {
              "item_id": 2605
            },
            {
              "item_id": 2606
            }
          ],
          "base_uri": "https://localhost:8080/",
          "height": 2184
        },
        "outputId": "19989c33-bbcd-47ab-e3b9-678713b4935c",
        "executionInfo": {
          "status": "ok",
          "timestamp": 1520394639832,
          "user_tz": 360,
          "elapsed": 745602,
          "user": {
            "displayName": "Imran Khan",
            "photoUrl": "https://lh3.googleusercontent.com/a/default-user=s128",
            "userId": "116974156090080387307"
          }
        }
      },
      "cell_type": "code",
      "source": [
        "model = UNet(3, 1).cuda()\n",
        "optimizer = torch.optim.Adam(model.parameters(), lr = 1e-4)\n",
        "\n",
        "for epoch in range(25):\n",
        "  train_ious = []\n",
        "  val_ious = []\n",
        "\n",
        "  for x_train, y_train in tqdm(train_dataloader):\n",
        "    x_train = Variable(x_train).cuda()\n",
        "    y_train = Variable(y_train).cuda()\n",
        "\n",
        "    optimizer.zero_grad()\n",
        "\n",
        "    outputs = model(x_train)\n",
        "\n",
        "    loss = dice_loss(outputs, y_train)\n",
        "    train_iou, _ = iou((outputs.cpu().data.squeeze(0).numpy() > 0.5), y_train.cpu().data.numpy())\n",
        "    train_ious.append(train_iou)\n",
        "\n",
        "    loss.backward()\n",
        "    optimizer.step()\n",
        "\n",
        "  for x_val, y_val in tqdm(val_dataloader):\n",
        "    x_val = Variable(x_val).cuda()\n",
        "    y_val = Variable(y_val).cuda()\n",
        "\n",
        "    optimizer.zero_grad()\n",
        "\n",
        "    o = model(x_val)\n",
        "\n",
        "    val_loss = dice_loss(o, y_val)\n",
        "    val_iou, _ = iou((o.cpu().data.squeeze(0).numpy() > 0.5), y_val.cpu().data.numpy())\n",
        "    val_ious.append(val_iou)\n",
        "\n",
        "  print('\\n')\n",
        "  print(f'Epoch: {epoch + 1} Training Loss: {round(loss.data[0], 4)} Training IOU: {np.asarray(train_ious).mean()} Val Loss: {round(val_loss.data[0], 4)} Val IOU: {np.asarray(val_ious).mean()}', end='\\n')\n"
      ],
      "execution_count": 9,
      "outputs": [
        {
          "output_type": "stream",
          "text": [
            "100%|██████████| 134/134 [00:26<00:00,  4.97it/s]\n",
            "100%|██████████| 34/34 [00:02<00:00, 11.85it/s]\n",
            "  0%|          | 0/134 [00:00<?, ?it/s]"
          ],
          "name": "stderr"
        },
        {
          "output_type": "stream",
          "text": [
            "\n",
            "\n",
            "Epoch: 1 Training Loss: 0.6125 Training IOU: 0.0029850746268656717 Val Loss: 0.7632 Val IOU: 0.0058823529411764705\n"
          ],
          "name": "stdout"
        },
        {
          "output_type": "stream",
          "text": [
            "100%|██████████| 134/134 [00:26<00:00,  4.98it/s]\n",
            "100%|██████████| 34/34 [00:02<00:00, 11.84it/s]\n",
            "  0%|          | 0/134 [00:00<?, ?it/s]"
          ],
          "name": "stderr"
        },
        {
          "output_type": "stream",
          "text": [
            "\n",
            "\n",
            "Epoch: 2 Training Loss: 0.5814 Training IOU: 0.004477611940298508 Val Loss: 0.7331 Val IOU: 0.008823529411764707\n"
          ],
          "name": "stdout"
        },
        {
          "output_type": "stream",
          "text": [
            "100%|██████████| 134/134 [00:26<00:00,  4.98it/s]\n",
            "100%|██████████| 34/34 [00:02<00:00, 11.98it/s]\n",
            "  0%|          | 0/134 [00:00<?, ?it/s]"
          ],
          "name": "stderr"
        },
        {
          "output_type": "stream",
          "text": [
            "\n",
            "\n",
            "Epoch: 3 Training Loss: 0.543 Training IOU: 0.013432835820895524 Val Loss: 0.7045 Val IOU: 0.014705882352941176\n"
          ],
          "name": "stdout"
        },
        {
          "output_type": "stream",
          "text": [
            "100%|██████████| 134/134 [00:26<00:00,  4.98it/s]\n",
            "100%|██████████| 34/34 [00:02<00:00, 11.78it/s]\n",
            "  0%|          | 0/134 [00:00<?, ?it/s]"
          ],
          "name": "stderr"
        },
        {
          "output_type": "stream",
          "text": [
            "\n",
            "\n",
            "Epoch: 4 Training Loss: 0.4982 Training IOU: 0.04402985074626866 Val Loss: 0.723 Val IOU: 0.0911764705882353\n"
          ],
          "name": "stdout"
        },
        {
          "output_type": "stream",
          "text": [
            "100%|██████████| 134/134 [00:26<00:00,  4.99it/s]\n",
            "100%|██████████| 34/34 [00:02<00:00, 11.90it/s]\n",
            "  0%|          | 0/134 [00:00<?, ?it/s]"
          ],
          "name": "stderr"
        },
        {
          "output_type": "stream",
          "text": [
            "\n",
            "\n",
            "Epoch: 5 Training Loss: 0.4385 Training IOU: 0.12611940298507465 Val Loss: 0.6345 Val IOU: 0.19117647058823528\n"
          ],
          "name": "stdout"
        },
        {
          "output_type": "stream",
          "text": [
            "100%|██████████| 134/134 [00:26<00:00,  4.98it/s]\n",
            "100%|██████████| 34/34 [00:02<00:00, 11.87it/s]\n",
            "  0%|          | 0/134 [00:00<?, ?it/s]"
          ],
          "name": "stderr"
        },
        {
          "output_type": "stream",
          "text": [
            "\n",
            "\n",
            "Epoch: 6 Training Loss: 0.4433 Training IOU: 0.19999999999999998 Val Loss: 0.5606 Val IOU: 0.19999999999999998\n"
          ],
          "name": "stdout"
        },
        {
          "output_type": "stream",
          "text": [
            "100%|██████████| 134/134 [00:26<00:00,  4.98it/s]\n",
            "100%|██████████| 34/34 [00:02<00:00, 11.84it/s]\n",
            "  0%|          | 0/134 [00:00<?, ?it/s]"
          ],
          "name": "stderr"
        },
        {
          "output_type": "stream",
          "text": [
            "\n",
            "\n",
            "Epoch: 7 Training Loss: 0.3575 Training IOU: 0.2343283582089552 Val Loss: 0.5306 Val IOU: 0.19705882352941176\n"
          ],
          "name": "stdout"
        },
        {
          "output_type": "stream",
          "text": [
            "100%|██████████| 134/134 [00:26<00:00,  4.97it/s]\n",
            "100%|██████████| 34/34 [00:02<00:00, 11.94it/s]\n",
            "  0%|          | 0/134 [00:00<?, ?it/s]"
          ],
          "name": "stderr"
        },
        {
          "output_type": "stream",
          "text": [
            "\n",
            "\n",
            "Epoch: 8 Training Loss: 0.3657 Training IOU: 0.2798507462686567 Val Loss: 0.541 Val IOU: 0.261764705882353\n"
          ],
          "name": "stdout"
        },
        {
          "output_type": "stream",
          "text": [
            "100%|██████████| 134/134 [00:26<00:00,  4.98it/s]\n",
            "100%|██████████| 34/34 [00:02<00:00, 11.94it/s]\n",
            "  0%|          | 0/134 [00:00<?, ?it/s]"
          ],
          "name": "stderr"
        },
        {
          "output_type": "stream",
          "text": [
            "\n",
            "\n",
            "Epoch: 9 Training Loss: 0.3695 Training IOU: 0.3276119402985075 Val Loss: 0.5106 Val IOU: 0.31470588235294117\n"
          ],
          "name": "stdout"
        },
        {
          "output_type": "stream",
          "text": [
            "100%|██████████| 134/134 [00:26<00:00,  4.98it/s]\n",
            "100%|██████████| 34/34 [00:02<00:00, 11.87it/s]\n",
            "  0%|          | 0/134 [00:00<?, ?it/s]"
          ],
          "name": "stderr"
        },
        {
          "output_type": "stream",
          "text": [
            "\n",
            "\n",
            "Epoch: 10 Training Loss: 0.3019 Training IOU: 0.3402985074626866 Val Loss: 0.5214 Val IOU: 0.3470588235294118\n"
          ],
          "name": "stdout"
        },
        {
          "output_type": "stream",
          "text": [
            "100%|██████████| 134/134 [00:26<00:00,  4.99it/s]\n",
            "100%|██████████| 34/34 [00:02<00:00, 11.82it/s]\n",
            "  0%|          | 0/134 [00:00<?, ?it/s]"
          ],
          "name": "stderr"
        },
        {
          "output_type": "stream",
          "text": [
            "\n",
            "\n",
            "Epoch: 11 Training Loss: 0.2873 Training IOU: 0.391044776119403 Val Loss: 0.5 Val IOU: 0.4264705882352941\n"
          ],
          "name": "stdout"
        },
        {
          "output_type": "stream",
          "text": [
            "100%|██████████| 134/134 [00:26<00:00,  4.99it/s]\n",
            "100%|██████████| 34/34 [00:02<00:00, 11.73it/s]\n",
            "  0%|          | 0/134 [00:00<?, ?it/s]"
          ],
          "name": "stderr"
        },
        {
          "output_type": "stream",
          "text": [
            "\n",
            "\n",
            "Epoch: 12 Training Loss: 0.2757 Training IOU: 0.43582089552238806 Val Loss: 0.4567 Val IOU: 0.4352941176470588\n"
          ],
          "name": "stdout"
        },
        {
          "output_type": "stream",
          "text": [
            "100%|██████████| 134/134 [00:26<00:00,  4.99it/s]\n",
            "100%|██████████| 34/34 [00:02<00:00, 11.95it/s]\n",
            "  0%|          | 0/134 [00:00<?, ?it/s]"
          ],
          "name": "stderr"
        },
        {
          "output_type": "stream",
          "text": [
            "\n",
            "\n",
            "Epoch: 13 Training Loss: 0.2214 Training IOU: 0.4753731343283582 Val Loss: 0.4412 Val IOU: 0.5029411764705882\n"
          ],
          "name": "stdout"
        },
        {
          "output_type": "stream",
          "text": [
            "100%|██████████| 134/134 [00:26<00:00,  4.98it/s]\n",
            "100%|██████████| 34/34 [00:02<00:00, 11.92it/s]\n",
            "  0%|          | 0/134 [00:00<?, ?it/s]"
          ],
          "name": "stderr"
        },
        {
          "output_type": "stream",
          "text": [
            "\n",
            "\n",
            "Epoch: 14 Training Loss: 0.1826 Training IOU: 0.47761194029850756 Val Loss: 0.412 Val IOU: 0.4617647058823529\n"
          ],
          "name": "stdout"
        },
        {
          "output_type": "stream",
          "text": [
            "100%|██████████| 134/134 [00:26<00:00,  4.98it/s]\n",
            "100%|██████████| 34/34 [00:02<00:00, 11.84it/s]\n",
            "  0%|          | 0/134 [00:00<?, ?it/s]"
          ],
          "name": "stderr"
        },
        {
          "output_type": "stream",
          "text": [
            "\n",
            "\n",
            "Epoch: 15 Training Loss: 0.1751 Training IOU: 0.5014925373134329 Val Loss: 0.3913 Val IOU: 0.5029411764705882\n"
          ],
          "name": "stdout"
        },
        {
          "output_type": "stream",
          "text": [
            "100%|██████████| 134/134 [00:26<00:00,  4.98it/s]\n",
            "100%|██████████| 34/34 [00:02<00:00, 11.76it/s]\n",
            "  0%|          | 0/134 [00:00<?, ?it/s]"
          ],
          "name": "stderr"
        },
        {
          "output_type": "stream",
          "text": [
            "\n",
            "\n",
            "Epoch: 16 Training Loss: 0.1552 Training IOU: 0.5186567164179104 Val Loss: 0.2904 Val IOU: 0.55\n"
          ],
          "name": "stdout"
        },
        {
          "output_type": "stream",
          "text": [
            "100%|██████████| 134/134 [00:26<00:00,  4.99it/s]\n",
            "100%|██████████| 34/34 [00:02<00:00, 11.88it/s]\n",
            "  0%|          | 0/134 [00:00<?, ?it/s]"
          ],
          "name": "stderr"
        },
        {
          "output_type": "stream",
          "text": [
            "\n",
            "\n",
            "Epoch: 17 Training Loss: 0.1689 Training IOU: 0.5238805970149253 Val Loss: 0.2903 Val IOU: 0.5323529411764706\n"
          ],
          "name": "stdout"
        },
        {
          "output_type": "stream",
          "text": [
            "100%|██████████| 134/134 [00:26<00:00,  4.98it/s]\n",
            "100%|██████████| 34/34 [00:02<00:00, 11.89it/s]\n",
            "  0%|          | 0/134 [00:00<?, ?it/s]"
          ],
          "name": "stderr"
        },
        {
          "output_type": "stream",
          "text": [
            "\n",
            "\n",
            "Epoch: 18 Training Loss: 0.15 Training IOU: 0.5507462686567165 Val Loss: 0.29 Val IOU: 0.5235294117647059\n"
          ],
          "name": "stdout"
        },
        {
          "output_type": "stream",
          "text": [
            "100%|██████████| 134/134 [00:26<00:00,  4.98it/s]\n",
            "100%|██████████| 34/34 [00:02<00:00, 11.77it/s]\n",
            "  0%|          | 0/134 [00:00<?, ?it/s]"
          ],
          "name": "stderr"
        },
        {
          "output_type": "stream",
          "text": [
            "\n",
            "\n",
            "Epoch: 19 Training Loss: 0.1193 Training IOU: 0.5477611940298508 Val Loss: 0.2778 Val IOU: 0.5647058823529413\n"
          ],
          "name": "stdout"
        },
        {
          "output_type": "stream",
          "text": [
            "100%|██████████| 134/134 [00:26<00:00,  4.99it/s]\n",
            "100%|██████████| 34/34 [00:02<00:00, 11.91it/s]\n",
            "  0%|          | 0/134 [00:00<?, ?it/s]"
          ],
          "name": "stderr"
        },
        {
          "output_type": "stream",
          "text": [
            "\n",
            "\n",
            "Epoch: 20 Training Loss: 0.1386 Training IOU: 0.5455223880597017 Val Loss: 0.3131 Val IOU: 0.5441176470588235\n"
          ],
          "name": "stdout"
        },
        {
          "output_type": "stream",
          "text": [
            "100%|██████████| 134/134 [00:26<00:00,  4.98it/s]\n",
            "100%|██████████| 34/34 [00:02<00:00, 11.91it/s]\n",
            "  0%|          | 0/134 [00:00<?, ?it/s]"
          ],
          "name": "stderr"
        },
        {
          "output_type": "stream",
          "text": [
            "\n",
            "\n",
            "Epoch: 21 Training Loss: 0.1281 Training IOU: 0.5664179104477612 Val Loss: 0.3237 Val IOU: 0.5882352941176471\n"
          ],
          "name": "stdout"
        },
        {
          "output_type": "stream",
          "text": [
            "100%|██████████| 134/134 [00:26<00:00,  4.98it/s]\n",
            "100%|██████████| 34/34 [00:02<00:00, 11.90it/s]\n",
            "  0%|          | 0/134 [00:00<?, ?it/s]"
          ],
          "name": "stderr"
        },
        {
          "output_type": "stream",
          "text": [
            "\n",
            "\n",
            "Epoch: 22 Training Loss: 0.1163 Training IOU: 0.5716417910447761 Val Loss: 0.2656 Val IOU: 0.5794117647058824\n"
          ],
          "name": "stdout"
        },
        {
          "output_type": "stream",
          "text": [
            "100%|██████████| 134/134 [00:26<00:00,  4.98it/s]\n",
            "100%|██████████| 34/34 [00:02<00:00, 11.80it/s]\n",
            "  0%|          | 0/134 [00:00<?, ?it/s]"
          ],
          "name": "stderr"
        },
        {
          "output_type": "stream",
          "text": [
            "\n",
            "\n",
            "Epoch: 23 Training Loss: 0.1174 Training IOU: 0.582089552238806 Val Loss: 0.2018 Val IOU: 0.6058823529411765\n"
          ],
          "name": "stdout"
        },
        {
          "output_type": "stream",
          "text": [
            "100%|██████████| 134/134 [00:26<00:00,  4.99it/s]\n",
            "100%|██████████| 34/34 [00:02<00:00, 11.88it/s]\n",
            "  0%|          | 0/134 [00:00<?, ?it/s]"
          ],
          "name": "stderr"
        },
        {
          "output_type": "stream",
          "text": [
            "\n",
            "\n",
            "Epoch: 24 Training Loss: 0.1471 Training IOU: 0.582089552238806 Val Loss: 0.2219 Val IOU: 0.5794117647058823\n"
          ],
          "name": "stdout"
        },
        {
          "output_type": "stream",
          "text": [
            "100%|██████████| 134/134 [00:26<00:00,  4.98it/s]\n",
            "100%|██████████| 34/34 [00:02<00:00, 11.90it/s]"
          ],
          "name": "stderr"
        },
        {
          "output_type": "stream",
          "text": [
            "\n",
            "\n",
            "Epoch: 25 Training Loss: 0.1092 Training IOU: 0.5992537313432836 Val Loss: 0.2492 Val IOU: 0.6000000000000001\n"
          ],
          "name": "stdout"
        },
        {
          "output_type": "stream",
          "text": [
            "\n"
          ],
          "name": "stderr"
        }
      ]
    },
    {
      "metadata": {
        "id": "cE7wpqDugjfT",
        "colab_type": "code",
        "colab": {
          "autoexec": {
            "startup": false,
            "wait_interval": 0
          },
          "output_extras": [
            {
              "item_id": 1
            },
            {
              "item_id": 2
            }
          ],
          "base_uri": "https://localhost:8080/",
          "height": 396
        },
        "outputId": "c4a564ee-ea7b-40df-9f4c-2457eeca8482",
        "executionInfo": {
          "status": "ok",
          "timestamp": 1520394662728,
          "user_tz": 360,
          "elapsed": 816,
          "user": {
            "displayName": "Imran Khan",
            "photoUrl": "https://lh3.googleusercontent.com/a/default-user=s128",
            "userId": "116974156090080387307"
          }
        }
      },
      "cell_type": "code",
      "source": [
        "show_val(1, model, iou, val_dataset)"
      ],
      "execution_count": 10,
      "outputs": [
        {
          "output_type": "stream",
          "text": [
            "0.8\n"
          ],
          "name": "stdout"
        },
        {
          "output_type": "display_data",
          "data": {
            "image/png": "[encoded data removed]",
            "text/plain": [
              "<matplotlib.figure.Figure at 0x7fce632edf28>"
            ]
          },
          "metadata": {
            "tags": []
          }
        }
      ]
    },
    {
      "metadata": {
        "id": "5sNdN2q3gj8g",
        "colab_type": "code",
        "colab": {
          "autoexec": {
            "startup": false,
            "wait_interval": 0
          },
          "output_extras": [
            {
              "item_id": 1
            }
          ],
          "base_uri": "https://localhost:8080/",
          "height": 431
        },
        "outputId": "6aa46478-3b15-40ac-a833-d09e787eb3cc",
        "executionInfo": {
          "status": "ok",
          "timestamp": 1520394663743,
          "user_tz": 360,
          "elapsed": 676,
          "user": {
            "displayName": "Imran Khan",
            "photoUrl": "https://lh3.googleusercontent.com/a/default-user=s128",
            "userId": "116974156090080387307"
          }
        }
      },
      "cell_type": "code",
      "source": [
        "show_test(1, model, test_dataset)"
      ],
      "execution_count": 11,
      "outputs": [
        {
          "output_type": "display_data",
          "data": {
            "image/png": "[encoded data removed]",
            "text/plain": [
              "<matplotlib.figure.Figure at 0x7fce630b5860>"
            ]
          },
          "metadata": {
            "tags": []
          }
        }
      ]
    },
    {
      "metadata": {
        "id": "x8_Liu2NglUX",
        "colab_type": "code",
        "colab": {
          "autoexec": {
            "startup": false,
            "wait_interval": 0
          },
          "output_extras": [
            {
              "item_id": 6
            }
          ],
          "base_uri": "https://localhost:8080/",
          "height": 34
        },
        "outputId": "b30c20fc-d67b-49ad-8af4-8abd8895cc36",
        "executionInfo": {
          "status": "ok",
          "timestamp": 1520394665881,
          "user_tz": 360,
          "elapsed": 1883,
          "user": {
            "displayName": "Imran Khan",
            "photoUrl": "https://lh3.googleusercontent.com/a/default-user=s128",
            "userId": "116974156090080387307"
          }
        }
      },
      "cell_type": "code",
      "source": [
        "preds = predict(model, test_dataset, test_dataloader, optimizer)"
      ],
      "execution_count": 12,
      "outputs": [
        {
          "output_type": "stream",
          "text": [
            "65it [00:01, 44.44it/s]\n"
          ],
          "name": "stderr"
        }
      ]
    },
    {
      "metadata": {
        "id": "Kf4g4kdsgnVr",
        "colab_type": "code",
        "colab": {
          "autoexec": {
            "startup": false,
            "wait_interval": 0
          }
        }
      },
      "cell_type": "code",
      "source": [
        "preds_upsampled = upsample(preds)"
      ],
      "execution_count": 0,
      "outputs": []
    },
    {
      "metadata": {
        "id": "O8GnzZ45gpw2",
        "colab_type": "code",
        "colab": {
          "autoexec": {
            "startup": false,
            "wait_interval": 0
          }
        }
      },
      "cell_type": "code",
      "source": [
        "test_path = '../../.kaggle/competitions/data-science-bowl-2018/test/'\n",
        "test_ids = next(os.walk(test_path))[1]\n",
        "\n",
        "rles, new_test_ids = encode(preds_upsampled, test_ids)"
      ],
      "execution_count": 0,
      "outputs": []
    },
    {
      "metadata": {
        "id": "mWZBQx9-grcg",
        "colab_type": "code",
        "colab": {
          "autoexec": {
            "startup": false,
            "wait_interval": 0
          }
        }
      },
      "cell_type": "code",
      "source": [
        "submit(new_test_ids, rles)"
      ],
      "execution_count": 0,
      "outputs": []
    },
    {
      "metadata": {
        "id": "PSAshUEjgsxY",
        "colab_type": "code",
        "colab": {
          "autoexec": {
            "startup": false,
            "wait_interval": 0
          }
        }
      },
      "cell_type": "code",
      "source": [
        "pd.read_csv('./submission.csv')"
      ],
      "execution_count": 0,
      "outputs": []
    },
    {
      "metadata": {
        "id": "wL6PxJmSguuu",
        "colab_type": "code",
        "colab": {
          "autoexec": {
            "startup": false,
            "wait_interval": 0
          }
        }
      },
      "cell_type": "code",
      "source": [
        "from google.colab import files\n",
        "\n",
        "files.download('submission.csv')"
      ],
      "execution_count": 0,
      "outputs": []
    }
  ]
}