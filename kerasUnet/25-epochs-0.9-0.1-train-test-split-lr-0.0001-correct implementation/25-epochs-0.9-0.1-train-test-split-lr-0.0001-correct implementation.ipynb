{
  "nbformat": 4,
  "nbformat_minor": 0,
  "metadata": {
    "colab": {
      "name": "keras-unet",
      "version": "0.3.2",
      "views": {},
      "default_view": {},
      "provenance": [],
      "collapsed_sections": []
    },
    "kernelspec": {
      "name": "python3",
      "display_name": "Python 3"
    },
    "accelerator": "GPU"
  },
  "cells": [
    {
      "metadata": {
        "id": "B7BwO8YbAB3z",
        "colab_type": "code",
        "colab": {
          "autoexec": {
            "startup": false,
            "wait_interval": 0
          }
        }
      },
      "cell_type": "code",
      "source": [
        "import os\n",
        "!rm -rf *\n",
        "!rm -rf .kaggle/\n",
        "!git clone https://github.com/bkahn-github/data-science-bowl.git\n",
        "!pip install -r data-science-bowl/requirements.txt\n",
        "!pip3 install http://download.pytorch.org/whl/cu80/torch-0.3.0.post4-cp36-cp36m-linux_x86_64.whl \n",
        "!pip3 install torchvision\n",
        "!pip3 install Pillow\n",
        "!mkdir ~/.kaggle\n",
        "f = open(\".kaggle/kaggle.json\", \"w\")\n",
        "f.write('{\"username\":\"bkkaggle\",\"key\":\"bf4e62680116284087ace0484990f87a\"}')\n",
        "f.close()\n",
        "!kaggle competitions download -c data-science-bowl-2018\n",
        "!unzip ~/.kaggle/competitions/data-science-bowl-2018/stage1_train.zip -d ~/.kaggle/competitions/data-science-bowl-2018/train\n",
        "!unzip ~/.kaggle/competitions/data-science-bowl-2018/stage1_test.zip -d ~/.kaggle/competitions/data-science-bowl-2018/test\n",
        "!unzip ~/.kaggle/competitions/data-science-bowl-2018/stage1_train_labels.csv.zip -d ~/.kaggle/competitions/data-science-bowl-2018/labels\n",
        "os.chdir('data-science-bowl/kerasUnet')\n",
        "!git checkout new-keras-unet"
      ],
      "execution_count": 0,
      "outputs": []
    },
    {
      "metadata": {
        "id": "JVhbYHTDwtYW",
        "colab_type": "code",
        "colab": {
          "autoexec": {
            "startup": false,
            "wait_interval": 0
          }
        }
      },
      "cell_type": "code",
      "source": [
        "os.chdir('../../')\n",
        "!rm -rf data-science-bowl/\n",
        "!git clone https://github.com/bkahn-github/data-science-bowl.git\n",
        "os.chdir('data-science-bowl/kerasUnet')\n",
        "!git checkout new-keras-unet"
      ],
      "execution_count": 0,
      "outputs": []
    },
    {
      "metadata": {
        "id": "ZsFLD05DAqVD",
        "colab_type": "code",
        "colab": {
          "autoexec": {
            "startup": false,
            "wait_interval": 0
          },
          "output_extras": [
            {
              "item_id": 1
            }
          ],
          "base_uri": "https://localhost:8080/",
          "height": 34
        },
        "outputId": "e1275acf-44f4-4960-f720-c82fd68462ff",
        "executionInfo": {
          "status": "ok",
          "timestamp": 1520347902044,
          "user_tz": 360,
          "elapsed": 2126,
          "user": {
            "displayName": "Imran Khan",
            "photoUrl": "https://lh3.googleusercontent.com/a/default-user=s128",
            "userId": "116974156090080387307"
          }
        }
      },
      "cell_type": "code",
      "source": [
        "import os\n",
        "import sys\n",
        "import random\n",
        "import warnings\n",
        "\n",
        "import PIL\n",
        "import numpy as np\n",
        "import pandas as pd\n",
        "\n",
        "from keras.preprocessing.image import ImageDataGenerator\n",
        "\n",
        "import imageio\n",
        "import matplotlib.pyplot as plt\n",
        "from skimage.transform import resize\n",
        "from tqdm import tqdm, tqdm_notebook\n",
        "\n",
        "from load_data import load_data, load_test_data, load_test_image_sizes\n",
        "from metrics import dice_loss, iou\n",
        "from model import model\n",
        "from process_data import encode, upsample\n",
        "from submit import submit\n",
        "\n",
        "%matplotlib inline\n",
        "\n",
        "warnings.filterwarnings('ignore', category=UserWarning, module='skimage')\n",
        "seed = 42\n",
        "random.seed = seed\n",
        "np.random.seed = seed"
      ],
      "execution_count": 2,
      "outputs": [
        {
          "output_type": "stream",
          "text": [
            "Using TensorFlow backend.\n"
          ],
          "name": "stderr"
        }
      ]
    },
    {
      "metadata": {
        "id": "xbxPFwprArVV",
        "colab_type": "code",
        "colab": {
          "autoexec": {
            "startup": false,
            "wait_interval": 0
          },
          "output_extras": [
            {
              "item_id": 269
            }
          ],
          "base_uri": "https://localhost:8080/",
          "height": 104
        },
        "outputId": "a9c4ee68-7116-436c-b22b-ace82b8cc382",
        "executionInfo": {
          "status": "ok",
          "timestamp": 1520348030930,
          "user_tz": 360,
          "elapsed": 128465,
          "user": {
            "displayName": "Imran Khan",
            "photoUrl": "https://lh3.googleusercontent.com/a/default-user=s128",
            "userId": "116974156090080387307"
          }
        }
      },
      "cell_type": "code",
      "source": [
        "x_train, y_train, x_val, y_val = load_data(train_val_split=0.1)\n",
        "x_test = load_test_data()\n",
        "x_test_sizes = load_test_image_sizes()"
      ],
      "execution_count": 3,
      "outputs": [
        {
          "output_type": "stream",
          "text": [
            "100%|██████████| 670/670 [02:05<00:00,  5.36it/s]\n",
            "100%|██████████| 65/65 [00:01<00:00, 59.98it/s]\n",
            "100%|██████████| 65/65 [00:00<00:00, 134.88it/s]\n",
            "100%|██████████| 65/65 [00:01<00:00, 61.64it/s]\n",
            "100%|██████████| 65/65 [00:00<00:00, 138.53it/s]\n"
          ],
          "name": "stderr"
        }
      ]
    },
    {
      "metadata": {
        "id": "PPauacPHAzmv",
        "colab_type": "code",
        "colab": {
          "autoexec": {
            "startup": false,
            "wait_interval": 0
          },
          "output_extras": [
            {
              "item_id": 1
            }
          ],
          "base_uri": "https://localhost:8080/",
          "height": 1664
        },
        "outputId": "71c34ed0-88b2-420a-9e75-08e32cacaf68",
        "executionInfo": {
          "status": "ok",
          "timestamp": 1520348035853,
          "user_tz": 360,
          "elapsed": 4839,
          "user": {
            "displayName": "Imran Khan",
            "photoUrl": "https://lh3.googleusercontent.com/a/default-user=s128",
            "userId": "116974156090080387307"
          }
        }
      },
      "cell_type": "code",
      "source": [
        "unet = model()"
      ],
      "execution_count": 4,
      "outputs": [
        {
          "output_type": "stream",
          "text": [
            "__________________________________________________________________________________________________\n",
            "Layer (type)                    Output Shape         Param #     Connected to                     \n",
            "==================================================================================================\n",
            "input_1 (InputLayer)            (None, 128, 128, 3)  0                                            \n",
            "__________________________________________________________________________________________________\n",
            "lambda_1 (Lambda)               (None, 128, 128, 3)  0           input_1[0][0]                    \n",
            "__________________________________________________________________________________________________\n",
            "conv2d_1 (Conv2D)               (None, 128, 128, 16) 448         lambda_1[0][0]                   \n",
            "__________________________________________________________________________________________________\n",
            "dropout_1 (Dropout)             (None, 128, 128, 16) 0           conv2d_1[0][0]                   \n",
            "__________________________________________________________________________________________________\n",
            "conv2d_2 (Conv2D)               (None, 128, 128, 16) 2320        dropout_1[0][0]                  \n",
            "__________________________________________________________________________________________________\n",
            "max_pooling2d_1 (MaxPooling2D)  (None, 64, 64, 16)   0           conv2d_2[0][0]                   \n",
            "__________________________________________________________________________________________________\n",
            "conv2d_3 (Conv2D)               (None, 64, 64, 32)   4640        max_pooling2d_1[0][0]            \n",
            "__________________________________________________________________________________________________\n",
            "dropout_2 (Dropout)             (None, 64, 64, 32)   0           conv2d_3[0][0]                   \n",
            "__________________________________________________________________________________________________\n",
            "conv2d_4 (Conv2D)               (None, 64, 64, 32)   9248        dropout_2[0][0]                  \n",
            "__________________________________________________________________________________________________\n",
            "max_pooling2d_2 (MaxPooling2D)  (None, 32, 32, 32)   0           conv2d_4[0][0]                   \n",
            "__________________________________________________________________________________________________\n",
            "conv2d_5 (Conv2D)               (None, 32, 32, 64)   18496       max_pooling2d_2[0][0]            \n",
            "__________________________________________________________________________________________________\n",
            "dropout_3 (Dropout)             (None, 32, 32, 64)   0           conv2d_5[0][0]                   \n",
            "__________________________________________________________________________________________________\n",
            "conv2d_6 (Conv2D)               (None, 32, 32, 64)   36928       dropout_3[0][0]                  \n",
            "__________________________________________________________________________________________________\n",
            "max_pooling2d_3 (MaxPooling2D)  (None, 16, 16, 64)   0           conv2d_6[0][0]                   \n",
            "__________________________________________________________________________________________________\n",
            "conv2d_7 (Conv2D)               (None, 16, 16, 128)  73856       max_pooling2d_3[0][0]            \n",
            "__________________________________________________________________________________________________\n",
            "dropout_4 (Dropout)             (None, 16, 16, 128)  0           conv2d_7[0][0]                   \n",
            "__________________________________________________________________________________________________\n",
            "conv2d_8 (Conv2D)               (None, 16, 16, 128)  147584      dropout_4[0][0]                  \n",
            "__________________________________________________________________________________________________\n",
            "max_pooling2d_4 (MaxPooling2D)  (None, 8, 8, 128)    0           conv2d_8[0][0]                   \n",
            "__________________________________________________________________________________________________\n",
            "conv2d_9 (Conv2D)               (None, 8, 8, 256)    295168      max_pooling2d_4[0][0]            \n",
            "__________________________________________________________________________________________________\n",
            "dropout_5 (Dropout)             (None, 8, 8, 256)    0           conv2d_9[0][0]                   \n",
            "__________________________________________________________________________________________________\n",
            "conv2d_10 (Conv2D)              (None, 8, 8, 256)    590080      dropout_5[0][0]                  \n",
            "__________________________________________________________________________________________________\n",
            "conv2d_transpose_1 (Conv2DTrans (None, 16, 16, 128)  131200      conv2d_10[0][0]                  \n",
            "__________________________________________________________________________________________________\n",
            "concatenate_1 (Concatenate)     (None, 16, 16, 256)  0           conv2d_transpose_1[0][0]         \n",
            "                                                                 conv2d_8[0][0]                   \n",
            "__________________________________________________________________________________________________\n",
            "conv2d_11 (Conv2D)              (None, 16, 16, 128)  295040      concatenate_1[0][0]              \n",
            "__________________________________________________________________________________________________\n",
            "dropout_6 (Dropout)             (None, 16, 16, 128)  0           conv2d_11[0][0]                  \n",
            "__________________________________________________________________________________________________\n",
            "conv2d_12 (Conv2D)              (None, 16, 16, 128)  147584      dropout_6[0][0]                  \n",
            "__________________________________________________________________________________________________\n",
            "conv2d_transpose_2 (Conv2DTrans (None, 32, 32, 64)   32832       conv2d_12[0][0]                  \n",
            "__________________________________________________________________________________________________\n",
            "concatenate_2 (Concatenate)     (None, 32, 32, 128)  0           conv2d_transpose_2[0][0]         \n",
            "                                                                 conv2d_6[0][0]                   \n",
            "__________________________________________________________________________________________________\n",
            "conv2d_13 (Conv2D)              (None, 32, 32, 64)   73792       concatenate_2[0][0]              \n",
            "__________________________________________________________________________________________________\n",
            "dropout_7 (Dropout)             (None, 32, 32, 64)   0           conv2d_13[0][0]                  \n",
            "__________________________________________________________________________________________________\n",
            "conv2d_14 (Conv2D)              (None, 32, 32, 64)   36928       dropout_7[0][0]                  \n",
            "__________________________________________________________________________________________________\n",
            "conv2d_transpose_3 (Conv2DTrans (None, 64, 64, 32)   8224        conv2d_14[0][0]                  \n",
            "__________________________________________________________________________________________________\n",
            "concatenate_3 (Concatenate)     (None, 64, 64, 64)   0           conv2d_transpose_3[0][0]         \n",
            "                                                                 conv2d_4[0][0]                   \n",
            "__________________________________________________________________________________________________\n",
            "conv2d_15 (Conv2D)              (None, 64, 64, 32)   18464       concatenate_3[0][0]              \n",
            "__________________________________________________________________________________________________\n",
            "dropout_8 (Dropout)             (None, 64, 64, 32)   0           conv2d_15[0][0]                  \n",
            "__________________________________________________________________________________________________\n",
            "conv2d_16 (Conv2D)              (None, 64, 64, 32)   9248        dropout_8[0][0]                  \n",
            "__________________________________________________________________________________________________\n",
            "conv2d_transpose_4 (Conv2DTrans (None, 128, 128, 16) 2064        conv2d_16[0][0]                  \n",
            "__________________________________________________________________________________________________\n",
            "concatenate_4 (Concatenate)     (None, 128, 128, 32) 0           conv2d_transpose_4[0][0]         \n",
            "                                                                 conv2d_2[0][0]                   \n",
            "__________________________________________________________________________________________________\n",
            "conv2d_17 (Conv2D)              (None, 128, 128, 16) 4624        concatenate_4[0][0]              \n",
            "__________________________________________________________________________________________________\n",
            "dropout_9 (Dropout)             (None, 128, 128, 16) 0           conv2d_17[0][0]                  \n",
            "__________________________________________________________________________________________________\n",
            "conv2d_18 (Conv2D)              (None, 128, 128, 16) 2320        dropout_9[0][0]                  \n",
            "__________________________________________________________________________________________________\n",
            "conv2d_19 (Conv2D)              (None, 128, 128, 1)  17          conv2d_18[0][0]                  \n",
            "==================================================================================================\n",
            "Total params: 1,941,105\n",
            "Trainable params: 1,941,105\n",
            "Non-trainable params: 0\n",
            "__________________________________________________________________________________________________\n"
          ],
          "name": "stdout"
        }
      ]
    },
    {
      "metadata": {
        "id": "D7b20zweA28R",
        "colab_type": "code",
        "colab": {
          "autoexec": {
            "startup": false,
            "wait_interval": 0
          },
          "output_extras": [
            {
              "item_id": 128
            },
            {
              "item_id": 221
            },
            {
              "item_id": 305
            },
            {
              "item_id": 398
            },
            {
              "item_id": 542
            },
            {
              "item_id": 652
            },
            {
              "item_id": 801
            },
            {
              "item_id": 911
            },
            {
              "item_id": 1047
            },
            {
              "item_id": 1145
            },
            {
              "item_id": 1146
            }
          ],
          "base_uri": "https://localhost:8080/",
          "height": 938
        },
        "outputId": "2caaf3b4-9787-43f2-abe9-aed6a4cfcef2",
        "executionInfo": {
          "status": "ok",
          "timestamp": 1520348387106,
          "user_tz": 360,
          "elapsed": 349622,
          "user": {
            "displayName": "Imran Khan",
            "photoUrl": "https://lh3.googleusercontent.com/a/default-user=s128",
            "userId": "116974156090080387307"
          }
        }
      },
      "cell_type": "code",
      "source": [
        "unet.fit(x_train, y_train, validation_data=(x_val, y_val), batch_size=4, epochs=25)"
      ],
      "execution_count": 5,
      "outputs": [
        {
          "output_type": "stream",
          "text": [
            "Train on 603 samples, validate on 67 samples\n",
            "Epoch 1/25\n",
            "603/603 [==============================] - 17s 28ms/step - loss: 0.3481 - keras_iou: 0.4198 - val_loss: 0.2477 - val_keras_iou: 0.4546\n",
            "Epoch 2/25\n",
            "603/603 [==============================] - 14s 23ms/step - loss: 0.1454 - keras_iou: 0.5136 - val_loss: 0.1310 - val_keras_iou: 0.5714\n",
            "Epoch 3/25\n",
            "320/603 [==============>...............] - ETA: 6s - loss: 0.1128 - keras_iou: 0.5963"
          ],
          "name": "stdout"
        },
        {
          "output_type": "stream",
          "text": [
            "603/603 [==============================] - 14s 23ms/step - loss: 0.1101 - keras_iou: 0.6113 - val_loss: 0.1091 - val_keras_iou: 0.6428\n",
            "Epoch 4/25\n",
            "603/603 [==============================] - 14s 23ms/step - loss: 0.0984 - keras_iou: 0.6668 - val_loss: 0.0970 - val_keras_iou: 0.6863\n",
            "Epoch 5/25\n",
            "603/603 [==============================] - 14s 23ms/step - loss: 0.0924 - keras_iou: 0.7016 - val_loss: 0.0910 - val_keras_iou: 0.7154\n",
            "Epoch 6/25\n",
            " 12/603 [..............................] - ETA: 12s - loss: 0.1155 - keras_iou: 0.7166"
          ],
          "name": "stdout"
        },
        {
          "output_type": "stream",
          "text": [
            "603/603 [==============================] - 14s 23ms/step - loss: 0.0860 - keras_iou: 0.7262 - val_loss: 0.0915 - val_keras_iou: 0.7360\n",
            "Epoch 7/25\n",
            "603/603 [==============================] - 14s 23ms/step - loss: 0.0842 - keras_iou: 0.7446 - val_loss: 0.0944 - val_keras_iou: 0.7512\n",
            "Epoch 8/25\n",
            "552/603 [==========================>...] - ETA: 1s - loss: 0.0827 - keras_iou: 0.7566"
          ],
          "name": "stdout"
        },
        {
          "output_type": "stream",
          "text": [
            "603/603 [==============================] - 14s 23ms/step - loss: 0.0813 - keras_iou: 0.7571 - val_loss: 0.0832 - val_keras_iou: 0.7630\n",
            "Epoch 9/25\n",
            "603/603 [==============================] - 14s 23ms/step - loss: 0.0784 - keras_iou: 0.7678 - val_loss: 0.0898 - val_keras_iou: 0.7728\n",
            "Epoch 10/25\n",
            "603/603 [==============================] - 14s 23ms/step - loss: 0.0834 - keras_iou: 0.7762 - val_loss: 0.0856 - val_keras_iou: 0.7800\n",
            "Epoch 11/25\n",
            " 48/603 [=>............................] - ETA: 12s - loss: 0.0753 - keras_iou: 0.7805"
          ],
          "name": "stdout"
        },
        {
          "output_type": "stream",
          "text": [
            "603/603 [==============================] - 14s 23ms/step - loss: 0.0768 - keras_iou: 0.7835 - val_loss: 0.0852 - val_keras_iou: 0.7866\n",
            "Epoch 12/25\n",
            "603/603 [==============================] - 14s 23ms/step - loss: 0.0749 - keras_iou: 0.7896 - val_loss: 0.0769 - val_keras_iou: 0.7924\n",
            "Epoch 13/25\n",
            "556/603 [==========================>...] - ETA: 1s - loss: 0.0772 - keras_iou: 0.7946"
          ],
          "name": "stdout"
        },
        {
          "output_type": "stream",
          "text": [
            "603/603 [==============================] - 14s 23ms/step - loss: 0.0767 - keras_iou: 0.7948 - val_loss: 0.0820 - val_keras_iou: 0.7973\n",
            "Epoch 14/25\n",
            "603/603 [==============================] - 14s 23ms/step - loss: 0.0756 - keras_iou: 0.7992 - val_loss: 0.0808 - val_keras_iou: 0.8016\n",
            "Epoch 15/25\n",
            "603/603 [==============================] - 14s 23ms/step - loss: 0.0737 - keras_iou: 0.8035 - val_loss: 0.0803 - val_keras_iou: 0.8053\n",
            "Epoch 16/25\n",
            " 48/603 [=>............................] - ETA: 12s - loss: 0.0785 - keras_iou: 0.8056"
          ],
          "name": "stdout"
        },
        {
          "output_type": "stream",
          "text": [
            "603/603 [==============================] - 14s 23ms/step - loss: 0.0715 - keras_iou: 0.8071 - val_loss: 0.0772 - val_keras_iou: 0.8088\n",
            "Epoch 17/25\n",
            "603/603 [==============================] - 14s 23ms/step - loss: 0.0710 - keras_iou: 0.8105 - val_loss: 0.0754 - val_keras_iou: 0.8121\n",
            "Epoch 18/25\n",
            "556/603 [==========================>...] - ETA: 1s - loss: 0.0699 - keras_iou: 0.8134"
          ],
          "name": "stdout"
        },
        {
          "output_type": "stream",
          "text": [
            "603/603 [==============================] - 14s 23ms/step - loss: 0.0691 - keras_iou: 0.8135 - val_loss: 0.0740 - val_keras_iou: 0.8149\n",
            "Epoch 19/25\n",
            "603/603 [==============================] - 14s 23ms/step - loss: 0.0681 - keras_iou: 0.8163 - val_loss: 0.0782 - val_keras_iou: 0.8177\n",
            "Epoch 20/25\n",
            "603/603 [==============================] - 14s 23ms/step - loss: 0.0767 - keras_iou: 0.8186 - val_loss: 0.0783 - val_keras_iou: 0.8197\n",
            "Epoch 21/25\n",
            " 48/603 [=>............................] - ETA: 12s - loss: 0.0669 - keras_iou: 0.8198"
          ],
          "name": "stdout"
        },
        {
          "output_type": "stream",
          "text": [
            "603/603 [==============================] - 14s 23ms/step - loss: 0.0714 - keras_iou: 0.8207 - val_loss: 0.0744 - val_keras_iou: 0.8216\n",
            "Epoch 22/25\n",
            "603/603 [==============================] - 14s 23ms/step - loss: 0.0681 - keras_iou: 0.8226 - val_loss: 0.0759 - val_keras_iou: 0.8237\n",
            "Epoch 23/25\n",
            "556/603 [==========================>...] - ETA: 1s - loss: 0.0690 - keras_iou: 0.8246"
          ],
          "name": "stdout"
        },
        {
          "output_type": "stream",
          "text": [
            "603/603 [==============================] - 14s 23ms/step - loss: 0.0681 - keras_iou: 0.8246 - val_loss: 0.0708 - val_keras_iou: 0.8255\n",
            "Epoch 24/25\n",
            "603/603 [==============================] - 14s 23ms/step - loss: 0.0673 - keras_iou: 0.8266 - val_loss: 0.0726 - val_keras_iou: 0.8274\n",
            "Epoch 25/25\n",
            "603/603 [==============================] - 14s 23ms/step - loss: 0.0669 - keras_iou: 0.8282 - val_loss: 0.0704 - val_keras_iou: 0.8291\n"
          ],
          "name": "stdout"
        },
        {
          "output_type": "execute_result",
          "data": {
            "text/plain": [
              "<keras.callbacks.History at 0x7feef3050b38>"
            ]
          },
          "metadata": {
            "tags": []
          },
          "execution_count": 5
        }
      ]
    },
    {
      "metadata": {
        "id": "Fx1GPMOjDRkw",
        "colab_type": "code",
        "colab": {
          "autoexec": {
            "startup": false,
            "wait_interval": 0
          }
        }
      },
      "cell_type": "code",
      "source": [
        "preds = unet.predict(x_test)"
      ],
      "execution_count": 0,
      "outputs": []
    },
    {
      "metadata": {
        "id": "-sddHitGDa5n",
        "colab_type": "code",
        "colab": {
          "autoexec": {
            "startup": false,
            "wait_interval": 0
          }
        }
      },
      "cell_type": "code",
      "source": [
        "test_path = '../../.kaggle/competitions/data-science-bowl-2018/test/'\n",
        "test_ids = next(os.walk(test_path))[1]\n",
        "\n",
        "preds_upsampled = upsample(preds)"
      ],
      "execution_count": 0,
      "outputs": []
    },
    {
      "metadata": {
        "id": "-aOie88ytsWx",
        "colab_type": "code",
        "colab": {
          "autoexec": {
            "startup": false,
            "wait_interval": 0
          }
        }
      },
      "cell_type": "code",
      "source": [
        "rles, new_test_ids = encode(preds_upsampled, test_ids)"
      ],
      "execution_count": 0,
      "outputs": []
    },
    {
      "metadata": {
        "id": "Ca0jpJRltt-s",
        "colab_type": "code",
        "colab": {
          "autoexec": {
            "startup": false,
            "wait_interval": 0
          }
        }
      },
      "cell_type": "code",
      "source": [
        "submit(new_test_ids, rles)"
      ],
      "execution_count": 0,
      "outputs": []
    },
    {
      "metadata": {
        "id": "3f6tVZe6txM8",
        "colab_type": "code",
        "colab": {
          "autoexec": {
            "startup": false,
            "wait_interval": 0
          }
        }
      },
      "cell_type": "code",
      "source": [
        "pd.read_csv('./submission.csv')"
      ],
      "execution_count": 0,
      "outputs": []
    },
    {
      "metadata": {
        "id": "IpIe9M91tyFq",
        "colab_type": "code",
        "colab": {
          "autoexec": {
            "startup": false,
            "wait_interval": 0
          }
        }
      },
      "cell_type": "code",
      "source": [
        "from google.colab import files\n",
        "\n",
        "files.download('submission.csv')"
      ],
      "execution_count": 0,
      "outputs": []
    }
  ]
}