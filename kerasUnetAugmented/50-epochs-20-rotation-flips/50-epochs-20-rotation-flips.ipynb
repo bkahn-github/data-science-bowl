{
  "nbformat": 4,
  "nbformat_minor": 0,
  "metadata": {
    "colab": {
      "name": "keras-unet",
      "version": "0.3.2",
      "views": {},
      "default_view": {},
      "provenance": [],
      "collapsed_sections": []
    },
    "kernelspec": {
      "name": "python3",
      "display_name": "Python 3"
    },
    "accelerator": "GPU"
  },
  "cells": [
    {
      "metadata": {
        "id": "B7BwO8YbAB3z",
        "colab_type": "code",
        "colab": {
          "autoexec": {
            "startup": false,
            "wait_interval": 0
          }
        }
      },
      "cell_type": "code",
      "source": [
        "import os\n",
        "!rm -rf *\n",
        "!rm -rf .kaggle/\n",
        "!git clone https://github.com/bkahn-github/data-science-bowl.git\n",
        "!pip install -r data-science-bowl/requirements.txt\n",
        "!pip3 install http://download.pytorch.org/whl/cu80/torch-0.3.0.post4-cp36-cp36m-linux_x86_64.whl \n",
        "!pip3 install torchvision\n",
        "!pip3 install Pillow\n",
        "!mkdir ~/.kaggle\n",
        "f = open(\".kaggle/kaggle.json\", \"w\")\n",
        "f.write('{\"username\":\"bkkaggle\",\"key\":\"bf4e62680116284087ace0484990f87a\"}')\n",
        "f.close()\n",
        "!kaggle competitions download -c data-science-bowl-2018\n",
        "!unzip ~/.kaggle/competitions/data-science-bowl-2018/stage1_train.zip -d ~/.kaggle/competitions/data-science-bowl-2018/train\n",
        "!unzip ~/.kaggle/competitions/data-science-bowl-2018/stage1_test.zip -d ~/.kaggle/competitions/data-science-bowl-2018/test\n",
        "!unzip ~/.kaggle/competitions/data-science-bowl-2018/stage1_train_labels.csv.zip -d ~/.kaggle/competitions/data-science-bowl-2018/labels\n",
        "os.chdir('data-science-bowl')\n",
        "!git checkout keras-unet-augmented\n",
        "os.chdir('kerasUnetAugmented/')"
      ],
      "execution_count": 0,
      "outputs": []
    },
    {
      "metadata": {
        "id": "JVhbYHTDwtYW",
        "colab_type": "code",
        "colab": {
          "autoexec": {
            "startup": false,
            "wait_interval": 0
          }
        }
      },
      "cell_type": "code",
      "source": [
        "os.chdir('../../')\n",
        "!rm -rf data-science-bowl/\n",
        "!git clone https://github.com/bkahn-github/data-science-bowl.git\n",
        "os.chdir('data-science-bowl/kerasUnet')"
      ],
      "execution_count": 0,
      "outputs": []
    },
    {
      "metadata": {
        "id": "ZsFLD05DAqVD",
        "colab_type": "code",
        "colab": {
          "autoexec": {
            "startup": false,
            "wait_interval": 0
          },
          "output_extras": [
            {
              "item_id": 1
            }
          ],
          "base_uri": "https://localhost:8080/",
          "height": 34
        },
        "outputId": "c216a47a-1c84-427f-e66f-2aca4b9ba25e",
        "executionInfo": {
          "status": "ok",
          "timestamp": 1520709879712,
          "user_tz": 360,
          "elapsed": 1287,
          "user": {
            "displayName": "Imran Khan",
            "photoUrl": "https://lh3.googleusercontent.com/a/default-user=s128",
            "userId": "116974156090080387307"
          }
        }
      },
      "cell_type": "code",
      "source": [
        "import os\n",
        "import sys\n",
        "import random\n",
        "import warnings\n",
        "\n",
        "import PIL\n",
        "import numpy as np\n",
        "import pandas as pd\n",
        "\n",
        "from keras.preprocessing.image import ImageDataGenerator\n",
        "\n",
        "import skimage\n",
        "from skimage.transform import resize\n",
        "\n",
        "import imageio\n",
        "import matplotlib.pyplot as plt\n",
        "from tqdm import tqdm, tqdm_notebook\n",
        "\n",
        "from load_data import load_data, load_test_data, load_test_image_sizes\n",
        "from metrics import dice_loss, iou, iou_metric\n",
        "from model import model\n",
        "from process_data import encode, upsample\n",
        "from submit import submit\n",
        "\n",
        "%matplotlib inline\n",
        "\n",
        "warnings.filterwarnings('ignore', category=UserWarning, module='skimage')\n",
        "seed = 42\n",
        "random.seed = seed\n",
        "np.random.seed(seed=seed)"
      ],
      "execution_count": 2,
      "outputs": [
        {
          "output_type": "stream",
          "text": [
            "Using TensorFlow backend.\n"
          ],
          "name": "stderr"
        }
      ]
    },
    {
      "metadata": {
        "id": "xbxPFwprArVV",
        "colab_type": "code",
        "colab": {
          "autoexec": {
            "startup": false,
            "wait_interval": 0
          },
          "output_extras": [
            {
              "item_id": 145
            }
          ],
          "base_uri": "https://localhost:8080/",
          "height": 104
        },
        "outputId": "38860783-cbea-4477-f9f6-b6b9818312df",
        "executionInfo": {
          "status": "ok",
          "timestamp": 1520710005659,
          "user_tz": 360,
          "elapsed": 125924,
          "user": {
            "displayName": "Imran Khan",
            "photoUrl": "https://lh3.googleusercontent.com/a/default-user=s128",
            "userId": "116974156090080387307"
          }
        }
      },
      "cell_type": "code",
      "source": [
        "x_train, y_train, x_val, y_val, train_datagen = load_data(train_val_split=0.1, batch_size=4)\n",
        "x_test = load_test_data()\n",
        "x_test_sizes = load_test_image_sizes()"
      ],
      "execution_count": 3,
      "outputs": [
        {
          "output_type": "stream",
          "text": [
            "100%|██████████| 670/670 [01:59<00:00,  5.62it/s]\n",
            "100%|██████████| 65/65 [00:01<00:00, 63.93it/s]\n",
            "100%|██████████| 65/65 [00:00<00:00, 137.91it/s]\n",
            "100%|██████████| 65/65 [00:01<00:00, 62.07it/s]\n",
            "100%|██████████| 65/65 [00:00<00:00, 143.75it/s]\n"
          ],
          "name": "stderr"
        }
      ]
    },
    {
      "metadata": {
        "id": "PPauacPHAzmv",
        "colab_type": "code",
        "colab": {
          "autoexec": {
            "startup": false,
            "wait_interval": 0
          },
          "output_extras": [
            {
              "item_id": 1
            }
          ],
          "base_uri": "https://localhost:8080/",
          "height": 1664
        },
        "outputId": "6629340a-b86a-4104-83cc-897106b36b61",
        "executionInfo": {
          "status": "ok",
          "timestamp": 1520710008429,
          "user_tz": 360,
          "elapsed": 2752,
          "user": {
            "displayName": "Imran Khan",
            "photoUrl": "https://lh3.googleusercontent.com/a/default-user=s128",
            "userId": "116974156090080387307"
          }
        }
      },
      "cell_type": "code",
      "source": [
        "unet = model()"
      ],
      "execution_count": 4,
      "outputs": [
        {
          "output_type": "stream",
          "text": [
            "__________________________________________________________________________________________________\n",
            "Layer (type)                    Output Shape         Param #     Connected to                     \n",
            "==================================================================================================\n",
            "input_1 (InputLayer)            (None, 128, 128, 3)  0                                            \n",
            "__________________________________________________________________________________________________\n",
            "lambda_1 (Lambda)               (None, 128, 128, 3)  0           input_1[0][0]                    \n",
            "__________________________________________________________________________________________________\n",
            "conv2d_1 (Conv2D)               (None, 128, 128, 16) 448         lambda_1[0][0]                   \n",
            "__________________________________________________________________________________________________\n",
            "dropout_1 (Dropout)             (None, 128, 128, 16) 0           conv2d_1[0][0]                   \n",
            "__________________________________________________________________________________________________\n",
            "conv2d_2 (Conv2D)               (None, 128, 128, 16) 2320        dropout_1[0][0]                  \n",
            "__________________________________________________________________________________________________\n",
            "max_pooling2d_1 (MaxPooling2D)  (None, 64, 64, 16)   0           conv2d_2[0][0]                   \n",
            "__________________________________________________________________________________________________\n",
            "conv2d_3 (Conv2D)               (None, 64, 64, 32)   4640        max_pooling2d_1[0][0]            \n",
            "__________________________________________________________________________________________________\n",
            "dropout_2 (Dropout)             (None, 64, 64, 32)   0           conv2d_3[0][0]                   \n",
            "__________________________________________________________________________________________________\n",
            "conv2d_4 (Conv2D)               (None, 64, 64, 32)   9248        dropout_2[0][0]                  \n",
            "__________________________________________________________________________________________________\n",
            "max_pooling2d_2 (MaxPooling2D)  (None, 32, 32, 32)   0           conv2d_4[0][0]                   \n",
            "__________________________________________________________________________________________________\n",
            "conv2d_5 (Conv2D)               (None, 32, 32, 64)   18496       max_pooling2d_2[0][0]            \n",
            "__________________________________________________________________________________________________\n",
            "dropout_3 (Dropout)             (None, 32, 32, 64)   0           conv2d_5[0][0]                   \n",
            "__________________________________________________________________________________________________\n",
            "conv2d_6 (Conv2D)               (None, 32, 32, 64)   36928       dropout_3[0][0]                  \n",
            "__________________________________________________________________________________________________\n",
            "max_pooling2d_3 (MaxPooling2D)  (None, 16, 16, 64)   0           conv2d_6[0][0]                   \n",
            "__________________________________________________________________________________________________\n",
            "conv2d_7 (Conv2D)               (None, 16, 16, 128)  73856       max_pooling2d_3[0][0]            \n",
            "__________________________________________________________________________________________________\n",
            "dropout_4 (Dropout)             (None, 16, 16, 128)  0           conv2d_7[0][0]                   \n",
            "__________________________________________________________________________________________________\n",
            "conv2d_8 (Conv2D)               (None, 16, 16, 128)  147584      dropout_4[0][0]                  \n",
            "__________________________________________________________________________________________________\n",
            "max_pooling2d_4 (MaxPooling2D)  (None, 8, 8, 128)    0           conv2d_8[0][0]                   \n",
            "__________________________________________________________________________________________________\n",
            "conv2d_9 (Conv2D)               (None, 8, 8, 256)    295168      max_pooling2d_4[0][0]            \n",
            "__________________________________________________________________________________________________\n",
            "dropout_5 (Dropout)             (None, 8, 8, 256)    0           conv2d_9[0][0]                   \n",
            "__________________________________________________________________________________________________\n",
            "conv2d_10 (Conv2D)              (None, 8, 8, 256)    590080      dropout_5[0][0]                  \n",
            "__________________________________________________________________________________________________\n",
            "conv2d_transpose_1 (Conv2DTrans (None, 16, 16, 128)  131200      conv2d_10[0][0]                  \n",
            "__________________________________________________________________________________________________\n",
            "concatenate_1 (Concatenate)     (None, 16, 16, 256)  0           conv2d_transpose_1[0][0]         \n",
            "                                                                 conv2d_8[0][0]                   \n",
            "__________________________________________________________________________________________________\n",
            "conv2d_11 (Conv2D)              (None, 16, 16, 128)  295040      concatenate_1[0][0]              \n",
            "__________________________________________________________________________________________________\n",
            "dropout_6 (Dropout)             (None, 16, 16, 128)  0           conv2d_11[0][0]                  \n",
            "__________________________________________________________________________________________________\n",
            "conv2d_12 (Conv2D)              (None, 16, 16, 128)  147584      dropout_6[0][0]                  \n",
            "__________________________________________________________________________________________________\n",
            "conv2d_transpose_2 (Conv2DTrans (None, 32, 32, 64)   32832       conv2d_12[0][0]                  \n",
            "__________________________________________________________________________________________________\n",
            "concatenate_2 (Concatenate)     (None, 32, 32, 128)  0           conv2d_transpose_2[0][0]         \n",
            "                                                                 conv2d_6[0][0]                   \n",
            "__________________________________________________________________________________________________\n",
            "conv2d_13 (Conv2D)              (None, 32, 32, 64)   73792       concatenate_2[0][0]              \n",
            "__________________________________________________________________________________________________\n",
            "dropout_7 (Dropout)             (None, 32, 32, 64)   0           conv2d_13[0][0]                  \n",
            "__________________________________________________________________________________________________\n",
            "conv2d_14 (Conv2D)              (None, 32, 32, 64)   36928       dropout_7[0][0]                  \n",
            "__________________________________________________________________________________________________\n",
            "conv2d_transpose_3 (Conv2DTrans (None, 64, 64, 32)   8224        conv2d_14[0][0]                  \n",
            "__________________________________________________________________________________________________\n",
            "concatenate_3 (Concatenate)     (None, 64, 64, 64)   0           conv2d_transpose_3[0][0]         \n",
            "                                                                 conv2d_4[0][0]                   \n",
            "__________________________________________________________________________________________________\n",
            "conv2d_15 (Conv2D)              (None, 64, 64, 32)   18464       concatenate_3[0][0]              \n",
            "__________________________________________________________________________________________________\n",
            "dropout_8 (Dropout)             (None, 64, 64, 32)   0           conv2d_15[0][0]                  \n",
            "__________________________________________________________________________________________________\n",
            "conv2d_16 (Conv2D)              (None, 64, 64, 32)   9248        dropout_8[0][0]                  \n",
            "__________________________________________________________________________________________________\n",
            "conv2d_transpose_4 (Conv2DTrans (None, 128, 128, 16) 2064        conv2d_16[0][0]                  \n",
            "__________________________________________________________________________________________________\n",
            "concatenate_4 (Concatenate)     (None, 128, 128, 32) 0           conv2d_transpose_4[0][0]         \n",
            "                                                                 conv2d_2[0][0]                   \n",
            "__________________________________________________________________________________________________\n",
            "conv2d_17 (Conv2D)              (None, 128, 128, 16) 4624        concatenate_4[0][0]              \n",
            "__________________________________________________________________________________________________\n",
            "dropout_9 (Dropout)             (None, 128, 128, 16) 0           conv2d_17[0][0]                  \n",
            "__________________________________________________________________________________________________\n",
            "conv2d_18 (Conv2D)              (None, 128, 128, 16) 2320        dropout_9[0][0]                  \n",
            "__________________________________________________________________________________________________\n",
            "conv2d_19 (Conv2D)              (None, 128, 128, 1)  17          conv2d_18[0][0]                  \n",
            "==================================================================================================\n",
            "Total params: 1,941,105\n",
            "Trainable params: 1,941,105\n",
            "Non-trainable params: 0\n",
            "__________________________________________________________________________________________________\n"
          ],
          "name": "stdout"
        }
      ]
    },
    {
      "metadata": {
        "id": "D7b20zweA28R",
        "colab_type": "code",
        "colab": {
          "autoexec": {
            "startup": false,
            "wait_interval": 0
          },
          "output_extras": [
            {
              "item_id": 120
            },
            {
              "item_id": 239
            },
            {
              "item_id": 294
            },
            {
              "item_id": 331
            },
            {
              "item_id": 369
            },
            {
              "item_id": 378
            },
            {
              "item_id": 415
            },
            {
              "item_id": 435
            },
            {
              "item_id": 462
            },
            {
              "item_id": 483
            },
            {
              "item_id": 527
            },
            {
              "item_id": 570
            },
            {
              "item_id": 593
            },
            {
              "item_id": 614
            },
            {
              "item_id": 675
            },
            {
              "item_id": 793
            },
            {
              "item_id": 943
            },
            {
              "item_id": 1062
            },
            {
              "item_id": 1211
            },
            {
              "item_id": 1324
            },
            {
              "item_id": 1325
            }
          ],
          "base_uri": "https://localhost:8080/",
          "height": 1788
        },
        "outputId": "e75b8584-6bd0-4f8d-c376-0499443cae65",
        "executionInfo": {
          "status": "ok",
          "timestamp": 1520710754242,
          "user_tz": 360,
          "elapsed": 745609,
          "user": {
            "displayName": "Imran Khan",
            "photoUrl": "https://lh3.googleusercontent.com/a/default-user=s128",
            "userId": "116974156090080387307"
          }
        }
      },
      "cell_type": "code",
      "source": [
        "unet.fit_generator(train_datagen, steps_per_epoch=len(x_train)/4, validation_data=(x_val, y_val), epochs=50)"
      ],
      "execution_count": 5,
      "outputs": [
        {
          "output_type": "stream",
          "text": [
            "Epoch 1/50\n",
            "151/150 [==============================] - 18s 122ms/step - loss: 0.3240 - keras_iou: 0.4423 - val_loss: 0.1814 - val_keras_iou: 0.4725\n",
            "Epoch 2/50\n",
            "151/150 [==============================] - 15s 100ms/step - loss: 0.1450 - keras_iou: 0.5527 - val_loss: 0.1255 - val_keras_iou: 0.6089\n",
            "Epoch 3/50\n",
            "120/150 [======================>.......] - ETA: 2s - loss: 0.1232 - keras_iou: 0.6366"
          ],
          "name": "stdout"
        },
        {
          "output_type": "stream",
          "text": [
            "151/150 [==============================] - 15s 99ms/step - loss: 0.1175 - keras_iou: 0.6419 - val_loss: 0.1054 - val_keras_iou: 0.6699\n",
            "Epoch 4/50\n",
            "151/150 [==============================] - 15s 97ms/step - loss: 0.1120 - keras_iou: 0.6892 - val_loss: 0.1118 - val_keras_iou: 0.7034\n",
            "Epoch 5/50\n",
            "151/150 [==============================] - 15s 98ms/step - loss: 0.1067 - keras_iou: 0.7137 - val_loss: 0.0935 - val_keras_iou: 0.7241\n",
            "Epoch 6/50\n",
            "  8/150 [>.............................] - ETA: 13s - loss: 0.1011 - keras_iou: 0.7253"
          ],
          "name": "stdout"
        },
        {
          "output_type": "stream",
          "text": [
            "151/150 [==============================] - 15s 97ms/step - loss: 0.1048 - keras_iou: 0.7320 - val_loss: 0.1068 - val_keras_iou: 0.7386\n",
            "Epoch 7/50\n",
            "151/150 [==============================] - 15s 98ms/step - loss: 0.1023 - keras_iou: 0.7439 - val_loss: 0.0911 - val_keras_iou: 0.7494\n",
            "Epoch 8/50\n",
            "137/150 [==========================>...] - ETA: 1s - loss: 0.0973 - keras_iou: 0.7539"
          ],
          "name": "stdout"
        },
        {
          "output_type": "stream",
          "text": [
            "151/150 [==============================] - 15s 98ms/step - loss: 0.0993 - keras_iou: 0.7543 - val_loss: 0.0887 - val_keras_iou: 0.7587\n",
            "Epoch 9/50\n",
            "151/150 [==============================] - 15s 98ms/step - loss: 0.0983 - keras_iou: 0.7623 - val_loss: 0.1016 - val_keras_iou: 0.7660\n",
            "Epoch 10/50\n",
            "151/150 [==============================] - 15s 99ms/step - loss: 0.0964 - keras_iou: 0.7689 - val_loss: 0.0847 - val_keras_iou: 0.7717\n",
            "Epoch 11/50\n",
            "  9/150 [>.............................] - ETA: 13s - loss: 0.1112 - keras_iou: 0.7721"
          ],
          "name": "stdout"
        },
        {
          "output_type": "stream",
          "text": [
            "151/150 [==============================] - 15s 98ms/step - loss: 0.0964 - keras_iou: 0.7743 - val_loss: 0.1006 - val_keras_iou: 0.7768\n",
            "Epoch 12/50\n",
            "151/150 [==============================] - 15s 97ms/step - loss: 0.0955 - keras_iou: 0.7791 - val_loss: 0.0883 - val_keras_iou: 0.7810\n",
            "Epoch 13/50\n",
            "135/150 [=========================>....] - ETA: 1s - loss: 0.0933 - keras_iou: 0.7826"
          ],
          "name": "stdout"
        },
        {
          "output_type": "stream",
          "text": [
            "151/150 [==============================] - 15s 98ms/step - loss: 0.0938 - keras_iou: 0.7828 - val_loss: 0.0848 - val_keras_iou: 0.7849\n",
            "Epoch 14/50\n",
            "151/150 [==============================] - 15s 98ms/step - loss: 0.0925 - keras_iou: 0.7869 - val_loss: 0.0809 - val_keras_iou: 0.7885\n",
            "Epoch 15/50\n",
            "151/150 [==============================] - 15s 97ms/step - loss: 0.0908 - keras_iou: 0.7901 - val_loss: 0.0856 - val_keras_iou: 0.7915\n",
            "Epoch 16/50\n",
            "  7/150 [>.............................] - ETA: 13s - loss: 0.0764 - keras_iou: 0.7917"
          ],
          "name": "stdout"
        },
        {
          "output_type": "stream",
          "text": [
            "151/150 [==============================] - 15s 97ms/step - loss: 0.0900 - keras_iou: 0.7930 - val_loss: 0.0848 - val_keras_iou: 0.7944\n",
            "Epoch 17/50\n",
            "151/150 [==============================] - 15s 98ms/step - loss: 0.0890 - keras_iou: 0.7957 - val_loss: 0.0786 - val_keras_iou: 0.7970\n",
            "Epoch 18/50\n",
            "135/150 [=========================>....] - ETA: 1s - loss: 0.0903 - keras_iou: 0.7981"
          ],
          "name": "stdout"
        },
        {
          "output_type": "stream",
          "text": [
            "151/150 [==============================] - 15s 97ms/step - loss: 0.0913 - keras_iou: 0.7982 - val_loss: 0.0790 - val_keras_iou: 0.7993\n",
            "Epoch 19/50\n",
            "151/150 [==============================] - 15s 97ms/step - loss: 0.0878 - keras_iou: 0.8005 - val_loss: 0.0789 - val_keras_iou: 0.8015\n",
            "Epoch 20/50\n",
            "151/150 [==============================] - 15s 98ms/step - loss: 0.0905 - keras_iou: 0.8024 - val_loss: 0.0782 - val_keras_iou: 0.8033\n",
            "Epoch 21/50\n",
            "  9/150 [>.............................] - ETA: 13s - loss: 0.1117 - keras_iou: 0.8033"
          ],
          "name": "stdout"
        },
        {
          "output_type": "stream",
          "text": [
            "151/150 [==============================] - 15s 98ms/step - loss: 0.0880 - keras_iou: 0.8042 - val_loss: 0.0780 - val_keras_iou: 0.8051\n",
            "Epoch 22/50\n",
            "151/150 [==============================] - 15s 99ms/step - loss: 0.0862 - keras_iou: 0.8060 - val_loss: 0.0787 - val_keras_iou: 0.8069\n",
            "Epoch 23/50\n",
            "135/150 [=========================>....] - ETA: 1s - loss: 0.0864 - keras_iou: 0.8074"
          ],
          "name": "stdout"
        },
        {
          "output_type": "stream",
          "text": [
            "151/150 [==============================] - 15s 98ms/step - loss: 0.0860 - keras_iou: 0.8075 - val_loss: 0.0771 - val_keras_iou: 0.8084\n",
            "Epoch 24/50\n",
            "151/150 [==============================] - 15s 97ms/step - loss: 0.0859 - keras_iou: 0.8091 - val_loss: 0.0793 - val_keras_iou: 0.8099\n",
            "Epoch 25/50\n",
            "151/150 [==============================] - 15s 98ms/step - loss: 0.0859 - keras_iou: 0.8105 - val_loss: 0.0821 - val_keras_iou: 0.8113\n",
            "Epoch 26/50\n",
            " 11/150 [=>............................] - ETA: 13s - loss: 0.0806 - keras_iou: 0.8113"
          ],
          "name": "stdout"
        },
        {
          "output_type": "stream",
          "text": [
            "151/150 [==============================] - 15s 98ms/step - loss: 0.0850 - keras_iou: 0.8119 - val_loss: 0.0791 - val_keras_iou: 0.8126\n",
            "Epoch 27/50\n",
            "151/150 [==============================] - 15s 100ms/step - loss: 0.0851 - keras_iou: 0.8131 - val_loss: 0.0778 - val_keras_iou: 0.8137\n",
            "Epoch 28/50\n",
            "133/150 [=========================>....] - ETA: 1s - loss: 0.0892 - keras_iou: 0.8142"
          ],
          "name": "stdout"
        },
        {
          "output_type": "stream",
          "text": [
            "151/150 [==============================] - 15s 100ms/step - loss: 0.0888 - keras_iou: 0.8142 - val_loss: 0.0815 - val_keras_iou: 0.8146\n",
            "Epoch 29/50\n",
            "151/150 [==============================] - 15s 100ms/step - loss: 0.0870 - keras_iou: 0.8150 - val_loss: 0.0770 - val_keras_iou: 0.8154\n",
            "Epoch 30/50\n",
            "151/150 [==============================] - 15s 99ms/step - loss: 0.0863 - keras_iou: 0.8158 - val_loss: 0.0777 - val_keras_iou: 0.8163\n",
            "Epoch 31/50\n",
            "  7/150 [>.............................] - ETA: 13s - loss: 0.0776 - keras_iou: 0.8164"
          ],
          "name": "stdout"
        },
        {
          "output_type": "stream",
          "text": [
            "151/150 [==============================] - 15s 98ms/step - loss: 0.0882 - keras_iou: 0.8167 - val_loss: 0.0779 - val_keras_iou: 0.8172\n",
            "Epoch 32/50\n",
            "151/150 [==============================] - 15s 97ms/step - loss: 0.0853 - keras_iou: 0.8175 - val_loss: 0.0774 - val_keras_iou: 0.8180\n",
            "Epoch 33/50\n",
            "135/150 [=========================>....] - ETA: 1s - loss: 0.0844 - keras_iou: 0.8184"
          ],
          "name": "stdout"
        },
        {
          "output_type": "stream",
          "text": [
            "151/150 [==============================] - 15s 97ms/step - loss: 0.0830 - keras_iou: 0.8184 - val_loss: 0.0796 - val_keras_iou: 0.8189\n",
            "Epoch 34/50\n",
            "151/150 [==============================] - 15s 97ms/step - loss: 0.0857 - keras_iou: 0.8192 - val_loss: 0.0801 - val_keras_iou: 0.8195\n",
            "Epoch 35/50\n",
            "151/150 [==============================] - 15s 98ms/step - loss: 0.0840 - keras_iou: 0.8199 - val_loss: 0.0762 - val_keras_iou: 0.8203\n",
            "Epoch 36/50\n",
            "  9/150 [>.............................] - ETA: 13s - loss: 0.1127 - keras_iou: 0.8203"
          ],
          "name": "stdout"
        },
        {
          "output_type": "stream",
          "text": [
            "151/150 [==============================] - 15s 98ms/step - loss: 0.0855 - keras_iou: 0.8205 - val_loss: 0.0756 - val_keras_iou: 0.8209\n",
            "Epoch 37/50\n",
            "151/150 [==============================] - 15s 97ms/step - loss: 0.0838 - keras_iou: 0.8212 - val_loss: 0.0772 - val_keras_iou: 0.8216\n",
            "Epoch 38/50\n",
            "136/150 [==========================>...] - ETA: 1s - loss: 0.0820 - keras_iou: 0.8219"
          ],
          "name": "stdout"
        },
        {
          "output_type": "stream",
          "text": [
            "151/150 [==============================] - 15s 97ms/step - loss: 0.0825 - keras_iou: 0.8219 - val_loss: 0.0747 - val_keras_iou: 0.8223\n",
            "Epoch 39/50\n",
            "151/150 [==============================] - 15s 98ms/step - loss: 0.0819 - keras_iou: 0.8227 - val_loss: 0.0797 - val_keras_iou: 0.8229\n",
            "Epoch 40/50\n",
            "151/150 [==============================] - 15s 98ms/step - loss: 0.0818 - keras_iou: 0.8232 - val_loss: 0.0739 - val_keras_iou: 0.8236\n",
            "Epoch 41/50\n",
            " 10/150 [>.............................] - ETA: 13s - loss: 0.0699 - keras_iou: 0.8236"
          ],
          "name": "stdout"
        },
        {
          "output_type": "stream",
          "text": [
            "151/150 [==============================] - 15s 99ms/step - loss: 0.0830 - keras_iou: 0.8239 - val_loss: 0.0809 - val_keras_iou: 0.8242\n",
            "Epoch 42/50\n",
            "151/150 [==============================] - 15s 98ms/step - loss: 0.0821 - keras_iou: 0.8244 - val_loss: 0.0792 - val_keras_iou: 0.8247\n",
            "Epoch 43/50\n",
            "132/150 [=========================>....] - ETA: 1s - loss: 0.0815 - keras_iou: 0.8249"
          ],
          "name": "stdout"
        },
        {
          "output_type": "stream",
          "text": [
            "151/150 [==============================] - 15s 98ms/step - loss: 0.0826 - keras_iou: 0.8250 - val_loss: 0.0729 - val_keras_iou: 0.8253\n",
            "Epoch 44/50\n",
            "151/150 [==============================] - 15s 99ms/step - loss: 0.0820 - keras_iou: 0.8255 - val_loss: 0.0758 - val_keras_iou: 0.8258\n",
            "Epoch 45/50\n",
            "151/150 [==============================] - 15s 98ms/step - loss: 0.0830 - keras_iou: 0.8260 - val_loss: 0.0815 - val_keras_iou: 0.8263\n",
            "Epoch 46/50\n",
            "  9/150 [>.............................] - ETA: 13s - loss: 0.1026 - keras_iou: 0.8262"
          ],
          "name": "stdout"
        },
        {
          "output_type": "stream",
          "text": [
            "151/150 [==============================] - 15s 98ms/step - loss: 0.0821 - keras_iou: 0.8265 - val_loss: 0.0790 - val_keras_iou: 0.8267\n",
            "Epoch 47/50\n",
            "151/150 [==============================] - 15s 98ms/step - loss: 0.0821 - keras_iou: 0.8270 - val_loss: 0.0756 - val_keras_iou: 0.8272\n",
            "Epoch 48/50\n",
            "134/150 [=========================>....] - ETA: 1s - loss: 0.0806 - keras_iou: 0.8274"
          ],
          "name": "stdout"
        },
        {
          "output_type": "stream",
          "text": [
            "151/150 [==============================] - 15s 97ms/step - loss: 0.0806 - keras_iou: 0.8274 - val_loss: 0.0773 - val_keras_iou: 0.8277\n",
            "Epoch 49/50\n",
            "151/150 [==============================] - 15s 98ms/step - loss: 0.0816 - keras_iou: 0.8279 - val_loss: 0.0766 - val_keras_iou: 0.8281\n",
            "Epoch 50/50\n",
            "151/150 [==============================] - 15s 98ms/step - loss: 0.0803 - keras_iou: 0.8284 - val_loss: 0.0749 - val_keras_iou: 0.8286\n"
          ],
          "name": "stdout"
        },
        {
          "output_type": "execute_result",
          "data": {
            "text/plain": [
              "<keras.callbacks.History at 0x7fb6296d9b70>"
            ]
          },
          "metadata": {
            "tags": []
          },
          "execution_count": 5
        }
      ]
    },
    {
      "metadata": {
        "id": "Mf4-tU3AUMcJ",
        "colab_type": "code",
        "colab": {
          "autoexec": {
            "startup": false,
            "wait_interval": 0
          },
          "output_extras": [
            {
              "item_id": 1
            }
          ],
          "base_uri": "https://localhost:8080/",
          "height": 34
        },
        "outputId": "8074a0fd-35e5-448c-8a08-115cfd7ec090",
        "executionInfo": {
          "status": "ok",
          "timestamp": 1520710759195,
          "user_tz": 360,
          "elapsed": 4921,
          "user": {
            "displayName": "Imran Khan",
            "photoUrl": "https://lh3.googleusercontent.com/a/default-user=s128",
            "userId": "116974156090080387307"
          }
        }
      },
      "cell_type": "code",
      "source": [
        "iou_metric(x_train, y_train, x_val, y_val, unet)"
      ],
      "execution_count": 6,
      "outputs": [
        {
          "output_type": "execute_result",
          "data": {
            "text/plain": [
              "(0.5668482335160966, 0.5608368991271886)"
            ]
          },
          "metadata": {
            "tags": []
          },
          "execution_count": 6
        }
      ]
    },
    {
      "metadata": {
        "id": "uZhuE19U1Ax0",
        "colab_type": "code",
        "colab": {
          "autoexec": {
            "startup": false,
            "wait_interval": 0
          }
        }
      },
      "cell_type": "code",
      "source": [
        "preds = unet.predict(x_test)"
      ],
      "execution_count": 0,
      "outputs": []
    },
    {
      "metadata": {
        "id": "-sddHitGDa5n",
        "colab_type": "code",
        "colab": {
          "autoexec": {
            "startup": false,
            "wait_interval": 0
          }
        }
      },
      "cell_type": "code",
      "source": [
        "test_path = '../../.kaggle/competitions/data-science-bowl-2018/test/'\n",
        "test_ids = next(os.walk(test_path))[1]\n",
        "\n",
        "preds_upsampled = upsample(preds)"
      ],
      "execution_count": 0,
      "outputs": []
    },
    {
      "metadata": {
        "id": "Va8PoP6P3Bd-",
        "colab_type": "code",
        "colab": {
          "autoexec": {
            "startup": false,
            "wait_interval": 0
          },
          "output_extras": [
            {
              "item_id": 1
            },
            {
              "item_id": 2
            }
          ],
          "base_uri": "https://localhost:8080/",
          "height": 286
        },
        "outputId": "dcf5f794-ec9c-4ba5-91a4-a5d5d4a6119d",
        "executionInfo": {
          "status": "ok",
          "timestamp": 1520710762007,
          "user_tz": 360,
          "elapsed": 572,
          "user": {
            "displayName": "Imran Khan",
            "photoUrl": "https://lh3.googleusercontent.com/a/default-user=s128",
            "userId": "116974156090080387307"
          }
        }
      },
      "cell_type": "code",
      "source": [
        "plt.imshow(preds[2].reshape(128, 128))"
      ],
      "execution_count": 9,
      "outputs": [
        {
          "output_type": "execute_result",
          "data": {
            "text/plain": [
              "<matplotlib.image.AxesImage at 0x7fb6282dd2b0>"
            ]
          },
          "metadata": {
            "tags": []
          },
          "execution_count": 9
        },
        {
          "output_type": "display_data",
          "data": {
            "image/png": "[encoded data removed]",
            "text/plain": [
              "<matplotlib.figure.Figure at 0x7fb628363080>"
            ]
          },
          "metadata": {
            "tags": []
          }
        }
      ]
    },
    {
      "metadata": {
        "id": "-aOie88ytsWx",
        "colab_type": "code",
        "colab": {
          "autoexec": {
            "startup": false,
            "wait_interval": 0
          }
        }
      },
      "cell_type": "code",
      "source": [
        "rles, new_test_ids = encode(preds_upsampled, test_ids)"
      ],
      "execution_count": 0,
      "outputs": []
    },
    {
      "metadata": {
        "id": "Ca0jpJRltt-s",
        "colab_type": "code",
        "colab": {
          "autoexec": {
            "startup": false,
            "wait_interval": 0
          }
        }
      },
      "cell_type": "code",
      "source": [
        "submit(new_test_ids, rles)"
      ],
      "execution_count": 0,
      "outputs": []
    },
    {
      "metadata": {
        "id": "3f6tVZe6txM8",
        "colab_type": "code",
        "colab": {
          "autoexec": {
            "startup": false,
            "wait_interval": 0
          }
        }
      },
      "cell_type": "code",
      "source": [
        "pd.read_csv('./submission.csv')"
      ],
      "execution_count": 0,
      "outputs": []
    },
    {
      "metadata": {
        "id": "IpIe9M91tyFq",
        "colab_type": "code",
        "colab": {
          "autoexec": {
            "startup": false,
            "wait_interval": 0
          }
        }
      },
      "cell_type": "code",
      "source": [
        "from google.colab import files\n",
        "\n",
        "files.download('submission.csv')"
      ],
      "execution_count": 0,
      "outputs": []
    }
  ]
}