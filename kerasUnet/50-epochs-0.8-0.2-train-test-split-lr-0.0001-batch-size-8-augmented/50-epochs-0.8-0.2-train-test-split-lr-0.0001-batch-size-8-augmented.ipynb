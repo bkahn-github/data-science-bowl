{
  "nbformat": 4,
  "nbformat_minor": 0,
  "metadata": {
    "colab": {
      "name": "data-science-bowl-keras-data-augmentation",
      "version": "0.3.2",
      "views": {},
      "default_view": {},
      "provenance": [],
      "collapsed_sections": []
    },
    "kernelspec": {
      "name": "python3",
      "display_name": "Python 3"
    },
    "accelerator": "GPU"
  },
  "cells": [
    {
      "metadata": {
        "id": "sEDf6s9IVxz6",
        "colab_type": "code",
        "colab": {
          "autoexec": {
            "startup": false,
            "wait_interval": 0
          }
        }
      },
      "cell_type": "code",
      "source": [
        "import os\n",
        "!rm -rf *\n",
        "!rm -rf .kaggle/\n",
        "!git clone https://github.com/bkahn-github/data-science-bowl.git\n",
        "!pip install -r data-science-bowl/requirements.txt\n",
        "!pip3 install http://download.pytorch.org/whl/cu80/torch-0.3.0.post4-cp36-cp36m-linux_x86_64.whl \n",
        "!pip3 install torchvision\n",
        "!pip3 install Pillow\n",
        "!mkdir ~/.kaggle\n",
        "f = open(\".kaggle/kaggle.json\", \"w\")\n",
        "f.write('{\"username\":\"bkkaggle\",\"key\":\"bf4e62680116284087ace0484990f87a\"}')\n",
        "f.close()\n",
        "!kaggle competitions download -c data-science-bowl-2018\n",
        "!unzip ~/.kaggle/competitions/data-science-bowl-2018/stage1_train.zip -d ~/.kaggle/competitions/data-science-bowl-2018/train\n",
        "!unzip ~/.kaggle/competitions/data-science-bowl-2018/stage1_test.zip -d ~/.kaggle/competitions/data-science-bowl-2018/test\n",
        "!unzip ~/.kaggle/competitions/data-science-bowl-2018/stage1_train_labels.csv.zip -d ~/.kaggle/competitions/data-science-bowl-2018/labels\n",
        "os.chdir('data-science-bowl/kerasUnet')\n",
        "!git checkout new-keras-unet"
      ],
      "execution_count": 0,
      "outputs": []
    },
    {
      "metadata": {
        "id": "yKSbMIyMXp_q",
        "colab_type": "code",
        "colab": {
          "autoexec": {
            "startup": false,
            "wait_interval": 0
          }
        }
      },
      "cell_type": "code",
      "source": [
        "os.chdir('../../')\n",
        "!rm -rf data-science-bowl/\n",
        "!git clone https://github.com/bkahn-github/data-science-bowl.git\n",
        "os.chdir('data-science-bowl/kerasUnet')\n",
        "!git checkout new-keras-unet"
      ],
      "execution_count": 0,
      "outputs": []
    },
    {
      "metadata": {
        "id": "dGOJ-ZeQevk7",
        "colab_type": "code",
        "colab": {
          "autoexec": {
            "startup": false,
            "wait_interval": 0
          },
          "output_extras": [
            {
              "item_id": 1
            }
          ],
          "base_uri": "https://localhost:8080/",
          "height": 34
        },
        "outputId": "840fb7cd-4aee-44c3-d90e-a3fff3049818",
        "executionInfo": {
          "status": "ok",
          "timestamp": 1520109526202,
          "user_tz": 360,
          "elapsed": 1448,
          "user": {
            "displayName": "Imran Khan",
            "photoUrl": "https://lh3.googleusercontent.com/a/default-user=s128",
            "userId": "116974156090080387307"
          }
        }
      },
      "cell_type": "code",
      "source": [
        "import random\n",
        "\n",
        "import PIL\n",
        "import numpy as np\n",
        "import pandas as pd\n",
        "\n",
        "from keras.preprocessing.image import ImageDataGenerator\n",
        "\n",
        "import imageio\n",
        "import matplotlib.pyplot as plt\n",
        "from skimage.transform import resize\n",
        "from tqdm import tqdm, tqdm_notebook\n",
        "\n",
        "from load_data import load_data, load_test_data, load_test_image_sizes\n",
        "from metrics import dice_loss, iou\n",
        "from model import model\n",
        "from process_data import threshold_preds, encode, upsample\n",
        "from submit import submit\n",
        "\n",
        "seed = 42\n",
        "random.seed = seed\n",
        "np.random.seed(seed=seed)\n",
        "\n",
        "%matplotlib inline"
      ],
      "execution_count": 2,
      "outputs": [
        {
          "output_type": "stream",
          "text": [
            "Using TensorFlow backend.\n"
          ],
          "name": "stderr"
        }
      ]
    },
    {
      "metadata": {
        "id": "hd7StdPes2N0",
        "colab_type": "code",
        "colab": {
          "autoexec": {
            "startup": false,
            "wait_interval": 0
          },
          "output_extras": [
            {
              "item_id": 486
            }
          ],
          "base_uri": "https://localhost:8080/",
          "height": 124
        },
        "outputId": "3451e115-f080-485a-e32b-64bc3390dc64",
        "executionInfo": {
          "status": "ok",
          "timestamp": 1520109718171,
          "user_tz": 360,
          "elapsed": 191455,
          "user": {
            "displayName": "Imran Khan",
            "photoUrl": "https://lh3.googleusercontent.com/a/default-user=s128",
            "userId": "116974156090080387307"
          }
        }
      },
      "cell_type": "code",
      "source": [
        "x_train, y_train, x_val, y_val = load_data()"
      ],
      "execution_count": 3,
      "outputs": [
        {
          "output_type": "stream",
          "text": [
            "100%|██████████| 670/670 [03:08<00:00,  3.55it/s]\n",
            "  0%|          | 0/65 [00:00<?, ?it/s]/usr/local/lib/python3.6/dist-packages/skimage/transform/_warps.py:84: UserWarning: The default mode, 'constant', will be changed to 'reflect' in skimage 0.15.\n",
            "  warn(\"The default mode, 'constant', will be changed to 'reflect' in \"\n",
            "100%|██████████| 65/65 [00:01<00:00, 52.18it/s]\n",
            "100%|██████████| 65/65 [00:00<00:00, 130.95it/s]\n"
          ],
          "name": "stderr"
        }
      ]
    },
    {
      "metadata": {
        "id": "tmCRY8Jh1kwD",
        "colab_type": "code",
        "colab": {
          "autoexec": {
            "startup": false,
            "wait_interval": 0
          },
          "output_extras": [
            {
              "item_id": 6
            }
          ],
          "base_uri": "https://localhost:8080/",
          "height": 89
        },
        "outputId": "e30a0f03-2dbc-45ef-b28b-a8e0ee7522a2",
        "executionInfo": {
          "status": "ok",
          "timestamp": 1520109719744,
          "user_tz": 360,
          "elapsed": 1548,
          "user": {
            "displayName": "Imran Khan",
            "photoUrl": "https://lh3.googleusercontent.com/a/default-user=s128",
            "userId": "116974156090080387307"
          }
        }
      },
      "cell_type": "code",
      "source": [
        "x_test = load_test_data()"
      ],
      "execution_count": 4,
      "outputs": [
        {
          "output_type": "stream",
          "text": [
            "  0%|          | 0/65 [00:00<?, ?it/s]/usr/local/lib/python3.6/dist-packages/skimage/transform/_warps.py:84: UserWarning: The default mode, 'constant', will be changed to 'reflect' in skimage 0.15.\n",
            "  warn(\"The default mode, 'constant', will be changed to 'reflect' in \"\n",
            "100%|██████████| 65/65 [00:01<00:00, 51.24it/s]\n"
          ],
          "name": "stderr"
        }
      ]
    },
    {
      "metadata": {
        "id": "yOwxfOFb1qIx",
        "colab_type": "code",
        "colab": {
          "autoexec": {
            "startup": false,
            "wait_interval": 0
          },
          "output_extras": [
            {
              "item_id": 3
            }
          ],
          "base_uri": "https://localhost:8080/",
          "height": 34
        },
        "outputId": "257663b7-9b0e-4014-d3fc-70f7baf5e6db",
        "executionInfo": {
          "status": "ok",
          "timestamp": 1520109720406,
          "user_tz": 360,
          "elapsed": 648,
          "user": {
            "displayName": "Imran Khan",
            "photoUrl": "https://lh3.googleusercontent.com/a/default-user=s128",
            "userId": "116974156090080387307"
          }
        }
      },
      "cell_type": "code",
      "source": [
        "x_test_sizes = load_test_image_sizes()"
      ],
      "execution_count": 5,
      "outputs": [
        {
          "output_type": "stream",
          "text": [
            "100%|██████████| 65/65 [00:00<00:00, 143.76it/s]\n"
          ],
          "name": "stderr"
        }
      ]
    },
    {
      "metadata": {
        "id": "_wkbtwfkuVLz",
        "colab_type": "code",
        "colab": {
          "autoexec": {
            "startup": false,
            "wait_interval": 0
          },
          "output_extras": [
            {
              "item_id": 1
            }
          ],
          "base_uri": "https://localhost:8080/",
          "height": 1352
        },
        "outputId": "0fd4203d-6a0d-46c5-af4c-c9ec347b707e",
        "executionInfo": {
          "status": "ok",
          "timestamp": 1520109722882,
          "user_tz": 360,
          "elapsed": 2415,
          "user": {
            "displayName": "Imran Khan",
            "photoUrl": "https://lh3.googleusercontent.com/a/default-user=s128",
            "userId": "116974156090080387307"
          }
        }
      },
      "cell_type": "code",
      "source": [
        "unet = model()"
      ],
      "execution_count": 6,
      "outputs": [
        {
          "output_type": "stream",
          "text": [
            "__________________________________________________________________________________________________\n",
            "Layer (type)                    Output Shape         Param #     Connected to                     \n",
            "==================================================================================================\n",
            "input_1 (InputLayer)            (None, 128, 128, 3)  0                                            \n",
            "__________________________________________________________________________________________________\n",
            "lambda_1 (Lambda)               (None, 128, 128, 3)  0           input_1[0][0]                    \n",
            "__________________________________________________________________________________________________\n",
            "conv2d_1 (Conv2D)               (None, 128, 128, 16) 448         lambda_1[0][0]                   \n",
            "__________________________________________________________________________________________________\n",
            "conv2d_2 (Conv2D)               (None, 128, 128, 16) 2320        conv2d_1[0][0]                   \n",
            "__________________________________________________________________________________________________\n",
            "max_pooling2d_1 (MaxPooling2D)  (None, 64, 64, 16)   0           conv2d_2[0][0]                   \n",
            "__________________________________________________________________________________________________\n",
            "conv2d_3 (Conv2D)               (None, 64, 64, 32)   4640        max_pooling2d_1[0][0]            \n",
            "__________________________________________________________________________________________________\n",
            "conv2d_4 (Conv2D)               (None, 64, 64, 32)   9248        conv2d_3[0][0]                   \n",
            "__________________________________________________________________________________________________\n",
            "max_pooling2d_2 (MaxPooling2D)  (None, 32, 32, 32)   0           conv2d_4[0][0]                   \n",
            "__________________________________________________________________________________________________\n",
            "conv2d_5 (Conv2D)               (None, 32, 32, 64)   18496       max_pooling2d_2[0][0]            \n",
            "__________________________________________________________________________________________________\n",
            "conv2d_6 (Conv2D)               (None, 32, 32, 64)   36928       conv2d_5[0][0]                   \n",
            "__________________________________________________________________________________________________\n",
            "max_pooling2d_3 (MaxPooling2D)  (None, 16, 16, 64)   0           conv2d_6[0][0]                   \n",
            "__________________________________________________________________________________________________\n",
            "conv2d_7 (Conv2D)               (None, 16, 16, 128)  73856       max_pooling2d_3[0][0]            \n",
            "__________________________________________________________________________________________________\n",
            "conv2d_8 (Conv2D)               (None, 16, 16, 128)  147584      conv2d_7[0][0]                   \n",
            "__________________________________________________________________________________________________\n",
            "max_pooling2d_4 (MaxPooling2D)  (None, 8, 8, 128)    0           conv2d_8[0][0]                   \n",
            "__________________________________________________________________________________________________\n",
            "conv2d_9 (Conv2D)               (None, 8, 8, 256)    295168      max_pooling2d_4[0][0]            \n",
            "__________________________________________________________________________________________________\n",
            "conv2d_10 (Conv2D)              (None, 8, 8, 256)    590080      conv2d_9[0][0]                   \n",
            "__________________________________________________________________________________________________\n",
            "conv2d_transpose_1 (Conv2DTrans (None, 16, 16, 128)  131200      conv2d_10[0][0]                  \n",
            "__________________________________________________________________________________________________\n",
            "concatenate_1 (Concatenate)     (None, 16, 16, 256)  0           conv2d_transpose_1[0][0]         \n",
            "                                                                 conv2d_8[0][0]                   \n",
            "__________________________________________________________________________________________________\n",
            "conv2d_11 (Conv2D)              (None, 16, 16, 128)  295040      concatenate_1[0][0]              \n",
            "__________________________________________________________________________________________________\n",
            "conv2d_12 (Conv2D)              (None, 16, 16, 128)  147584      conv2d_11[0][0]                  \n",
            "__________________________________________________________________________________________________\n",
            "conv2d_transpose_2 (Conv2DTrans (None, 32, 32, 64)   32832       conv2d_12[0][0]                  \n",
            "__________________________________________________________________________________________________\n",
            "concatenate_2 (Concatenate)     (None, 32, 32, 128)  0           conv2d_transpose_2[0][0]         \n",
            "                                                                 conv2d_6[0][0]                   \n",
            "__________________________________________________________________________________________________\n",
            "conv2d_13 (Conv2D)              (None, 32, 32, 64)   73792       concatenate_2[0][0]              \n",
            "__________________________________________________________________________________________________\n",
            "conv2d_14 (Conv2D)              (None, 32, 32, 64)   36928       conv2d_13[0][0]                  \n",
            "__________________________________________________________________________________________________\n",
            "conv2d_transpose_3 (Conv2DTrans (None, 64, 64, 32)   8224        conv2d_14[0][0]                  \n",
            "__________________________________________________________________________________________________\n",
            "concatenate_3 (Concatenate)     (None, 64, 64, 64)   0           conv2d_transpose_3[0][0]         \n",
            "                                                                 conv2d_4[0][0]                   \n",
            "__________________________________________________________________________________________________\n",
            "conv2d_15 (Conv2D)              (None, 64, 64, 32)   18464       concatenate_3[0][0]              \n",
            "__________________________________________________________________________________________________\n",
            "conv2d_16 (Conv2D)              (None, 64, 64, 32)   9248        conv2d_15[0][0]                  \n",
            "__________________________________________________________________________________________________\n",
            "conv2d_transpose_4 (Conv2DTrans (None, 128, 128, 16) 2064        conv2d_16[0][0]                  \n",
            "__________________________________________________________________________________________________\n",
            "concatenate_4 (Concatenate)     (None, 128, 128, 32) 0           conv2d_transpose_4[0][0]         \n",
            "                                                                 conv2d_2[0][0]                   \n",
            "__________________________________________________________________________________________________\n",
            "conv2d_17 (Conv2D)              (None, 128, 128, 16) 4624        concatenate_4[0][0]              \n",
            "__________________________________________________________________________________________________\n",
            "conv2d_18 (Conv2D)              (None, 128, 128, 16) 2320        conv2d_17[0][0]                  \n",
            "__________________________________________________________________________________________________\n",
            "conv2d_19 (Conv2D)              (None, 128, 128, 1)  17          conv2d_18[0][0]                  \n",
            "==================================================================================================\n",
            "Total params: 1,941,105\n",
            "Trainable params: 1,941,105\n",
            "Non-trainable params: 0\n",
            "__________________________________________________________________________________________________\n"
          ],
          "name": "stdout"
        }
      ]
    },
    {
      "metadata": {
        "id": "tGrH39jltES1",
        "colab_type": "code",
        "colab": {
          "autoexec": {
            "startup": false,
            "wait_interval": 0
          }
        }
      },
      "cell_type": "code",
      "source": [
        "def get_train_augmented(x_train=x_train, y_train=y_train, batch_size=32, seed=seed):\n",
        "  data_gen_args = dict(rotation_range=45., width_shift_range=0.1, height_shift_range=0.1, shear_range=0.2, zoom_range=0.2, horizontal_flip=True, vertical_flip=True, fill_mode='reflect')\n",
        "\n",
        "\n",
        "  x_datagen = ImageDataGenerator(**data_gen_args)\n",
        "  y_datagen = ImageDataGenerator(**data_gen_args)\n",
        "  x_datagen.fit(x_train, augment=True, seed=seed)\n",
        "  y_datagen.fit(y_train, augment=True, seed=seed)\n",
        "  x_train_augmented = x_datagen.flow(x_train, batch_size=batch_size, shuffle=True, seed=seed)\n",
        "  y_train_augmented = y_datagen.flow(y_train, batch_size=batch_size, shuffle=True, seed=seed)\n",
        "\n",
        "  train_generator = zip(x_train_augmented, y_train_augmented)\n",
        "  return train_generator"
      ],
      "execution_count": 0,
      "outputs": []
    },
    {
      "metadata": {
        "id": "rQrcaCNstojL",
        "colab_type": "code",
        "colab": {
          "autoexec": {
            "startup": false,
            "wait_interval": 0
          },
          "output_extras": [
            {
              "item_id": 118
            },
            {
              "item_id": 232
            },
            {
              "item_id": 343
            },
            {
              "item_id": 458
            },
            {
              "item_id": 570
            },
            {
              "item_id": 681
            },
            {
              "item_id": 794
            },
            {
              "item_id": 901
            },
            {
              "item_id": 932
            },
            {
              "item_id": 933
            }
          ],
          "base_uri": "https://localhost:8080/",
          "height": 1788
        },
        "outputId": "e10d3da8-c441-4510-a1c2-b41bf7cc81ed",
        "executionInfo": {
          "status": "ok",
          "timestamp": 1520109997748,
          "user_tz": 360,
          "elapsed": 274216,
          "user": {
            "displayName": "Imran Khan",
            "photoUrl": "https://lh3.googleusercontent.com/a/default-user=s128",
            "userId": "116974156090080387307"
          }
        }
      },
      "cell_type": "code",
      "source": [
        "batch_size = 8\n",
        "train_generator = get_train_augmented(x_train, y_train, batch_size=batch_size)\n",
        "unet.fit_generator(train_generator, validation_data=(x_val, y_val), steps_per_epoch=len(x_train)/(batch_size*2), epochs=50)"
      ],
      "execution_count": 8,
      "outputs": [
        {
          "output_type": "stream",
          "text": [
            "Epoch 1/50\n",
            "34/33 [==============================] - 8s 235ms/step - loss: 0.5192 - keras_iou: 0.4366 - val_loss: 0.4245 - val_keras_iou: 0.4519\n",
            "Epoch 2/50\n",
            "34/33 [==============================] - 5s 157ms/step - loss: 0.4156 - keras_iou: 0.4499 - val_loss: 0.4138 - val_keras_iou: 0.4494\n",
            "Epoch 3/50\n",
            "34/33 [==============================] - 5s 159ms/step - loss: 0.4081 - keras_iou: 0.4491 - val_loss: 0.4160 - val_keras_iou: 0.4489\n",
            "Epoch 4/50\n",
            "34/33 [==============================] - 5s 159ms/step - loss: 0.4012 - keras_iou: 0.4488 - val_loss: 0.4110 - val_keras_iou: 0.4489\n",
            "Epoch 5/50\n",
            "34/33 [==============================] - 5s 157ms/step - loss: 0.4087 - keras_iou: 0.4484 - val_loss: 0.4076 - val_keras_iou: 0.4486\n",
            "Epoch 6/50\n",
            "34/33 [==============================] - 5s 157ms/step - loss: 0.3947 - keras_iou: 0.4484 - val_loss: 0.4069 - val_keras_iou: 0.4486\n",
            "Epoch 7/50\n",
            " 7/33 [=====>........................] - ETA: 3s - loss: 0.3688 - keras_iou: 0.4483"
          ],
          "name": "stdout"
        },
        {
          "output_type": "stream",
          "text": [
            "34/33 [==============================] - 5s 156ms/step - loss: 0.4032 - keras_iou: 0.4484 - val_loss: 0.4096 - val_keras_iou: 0.4484\n",
            "Epoch 8/50\n",
            "34/33 [==============================] - 5s 155ms/step - loss: 0.3841 - keras_iou: 0.4482 - val_loss: 0.3896 - val_keras_iou: 0.4484\n",
            "Epoch 9/50\n",
            "34/33 [==============================] - 5s 155ms/step - loss: 0.3813 - keras_iou: 0.4483 - val_loss: 0.3536 - val_keras_iou: 0.4481\n",
            "Epoch 10/50\n",
            "34/33 [==============================] - 5s 154ms/step - loss: 0.2769 - keras_iou: 0.4487 - val_loss: 0.2827 - val_keras_iou: 0.4519\n",
            "Epoch 11/50\n",
            "34/33 [==============================] - 5s 155ms/step - loss: 0.2479 - keras_iou: 0.4537 - val_loss: 0.2076 - val_keras_iou: 0.4581\n",
            "Epoch 12/50\n",
            "34/33 [==============================] - 5s 156ms/step - loss: 0.2022 - keras_iou: 0.4651 - val_loss: 0.1801 - val_keras_iou: 0.4749\n",
            "Epoch 13/50\n",
            "10/33 [=======>......................] - ETA: 3s - loss: 0.1769 - keras_iou: 0.4808"
          ],
          "name": "stdout"
        },
        {
          "output_type": "stream",
          "text": [
            "34/33 [==============================] - 5s 156ms/step - loss: 0.1778 - keras_iou: 0.4837 - val_loss: 0.1754 - val_keras_iou: 0.4886\n",
            "Epoch 14/50\n",
            "34/33 [==============================] - 5s 156ms/step - loss: 0.1690 - keras_iou: 0.4947 - val_loss: 0.1652 - val_keras_iou: 0.5012\n",
            "Epoch 15/50\n",
            "34/33 [==============================] - 5s 158ms/step - loss: 0.1563 - keras_iou: 0.5073 - val_loss: 0.1726 - val_keras_iou: 0.5128\n",
            "Epoch 16/50\n",
            "34/33 [==============================] - 5s 154ms/step - loss: 0.1650 - keras_iou: 0.5193 - val_loss: 0.1770 - val_keras_iou: 0.5260\n",
            "Epoch 17/50\n",
            "34/33 [==============================] - 5s 158ms/step - loss: 0.1538 - keras_iou: 0.5315 - val_loss: 0.1449 - val_keras_iou: 0.5358\n",
            "Epoch 18/50\n",
            "34/33 [==============================] - 5s 157ms/step - loss: 0.1470 - keras_iou: 0.5405 - val_loss: 0.1375 - val_keras_iou: 0.5462\n",
            "Epoch 19/50\n",
            "10/33 [=======>......................] - ETA: 3s - loss: 0.1220 - keras_iou: 0.5496"
          ],
          "name": "stdout"
        },
        {
          "output_type": "stream",
          "text": [
            "34/33 [==============================] - 5s 159ms/step - loss: 0.1424 - keras_iou: 0.5514 - val_loss: 0.1313 - val_keras_iou: 0.5551\n",
            "Epoch 20/50\n",
            "34/33 [==============================] - 5s 157ms/step - loss: 0.1177 - keras_iou: 0.5602 - val_loss: 0.1326 - val_keras_iou: 0.5645\n",
            "Epoch 21/50\n",
            "34/33 [==============================] - 5s 157ms/step - loss: 0.1320 - keras_iou: 0.5690 - val_loss: 0.1218 - val_keras_iou: 0.5727\n",
            "Epoch 22/50\n",
            "34/33 [==============================] - 5s 158ms/step - loss: 0.1277 - keras_iou: 0.5768 - val_loss: 0.1227 - val_keras_iou: 0.5805\n",
            "Epoch 23/50\n",
            "34/33 [==============================] - 5s 160ms/step - loss: 0.1184 - keras_iou: 0.5846 - val_loss: 0.1189 - val_keras_iou: 0.5878\n",
            "Epoch 24/50\n",
            "34/33 [==============================] - 5s 156ms/step - loss: 0.1215 - keras_iou: 0.5916 - val_loss: 0.1155 - val_keras_iou: 0.5953\n",
            "Epoch 25/50\n",
            "10/33 [=======>......................] - ETA: 3s - loss: 0.1224 - keras_iou: 0.5972"
          ],
          "name": "stdout"
        },
        {
          "output_type": "stream",
          "text": [
            "34/33 [==============================] - 5s 156ms/step - loss: 0.1269 - keras_iou: 0.5983 - val_loss: 0.1216 - val_keras_iou: 0.6007\n",
            "Epoch 26/50\n",
            "34/33 [==============================] - 5s 157ms/step - loss: 0.1232 - keras_iou: 0.6035 - val_loss: 0.1192 - val_keras_iou: 0.6069\n",
            "Epoch 27/50\n",
            "34/33 [==============================] - 5s 155ms/step - loss: 0.1151 - keras_iou: 0.6102 - val_loss: 0.1151 - val_keras_iou: 0.6127\n",
            "Epoch 28/50\n",
            "34/33 [==============================] - 5s 159ms/step - loss: 0.1152 - keras_iou: 0.6158 - val_loss: 0.1249 - val_keras_iou: 0.6181\n",
            "Epoch 29/50\n",
            "34/33 [==============================] - 5s 155ms/step - loss: 0.1100 - keras_iou: 0.6202 - val_loss: 0.1181 - val_keras_iou: 0.6226\n",
            "Epoch 30/50\n",
            "34/33 [==============================] - 5s 156ms/step - loss: 0.1334 - keras_iou: 0.6247 - val_loss: 0.1108 - val_keras_iou: 0.6271\n",
            "Epoch 31/50\n",
            "10/33 [=======>......................] - ETA: 3s - loss: 0.1175 - keras_iou: 0.6285"
          ],
          "name": "stdout"
        },
        {
          "output_type": "stream",
          "text": [
            "34/33 [==============================] - 5s 159ms/step - loss: 0.1095 - keras_iou: 0.6296 - val_loss: 0.1036 - val_keras_iou: 0.6321\n",
            "Epoch 32/50\n",
            "34/33 [==============================] - 5s 156ms/step - loss: 0.1108 - keras_iou: 0.6344 - val_loss: 0.1070 - val_keras_iou: 0.6364\n",
            "Epoch 33/50\n",
            "34/33 [==============================] - 5s 157ms/step - loss: 0.1152 - keras_iou: 0.6382 - val_loss: 0.1049 - val_keras_iou: 0.6400\n",
            "Epoch 34/50\n",
            "34/33 [==============================] - 5s 158ms/step - loss: 0.1092 - keras_iou: 0.6424 - val_loss: 0.1060 - val_keras_iou: 0.6444\n",
            "Epoch 35/50\n",
            "34/33 [==============================] - 5s 157ms/step - loss: 0.1058 - keras_iou: 0.6460 - val_loss: 0.1024 - val_keras_iou: 0.6480\n",
            "Epoch 36/50\n",
            "34/33 [==============================] - 5s 157ms/step - loss: 0.1117 - keras_iou: 0.6500 - val_loss: 0.1106 - val_keras_iou: 0.6519\n",
            "Epoch 37/50\n",
            "10/33 [=======>......................] - ETA: 3s - loss: 0.0949 - keras_iou: 0.6527"
          ],
          "name": "stdout"
        },
        {
          "output_type": "stream",
          "text": [
            "34/33 [==============================] - 5s 156ms/step - loss: 0.1057 - keras_iou: 0.6536 - val_loss: 0.1021 - val_keras_iou: 0.6554\n",
            "Epoch 38/50\n",
            "34/33 [==============================] - 5s 159ms/step - loss: 0.1043 - keras_iou: 0.6571 - val_loss: 0.1225 - val_keras_iou: 0.6581\n",
            "Epoch 39/50\n",
            "34/33 [==============================] - 5s 156ms/step - loss: 0.1078 - keras_iou: 0.6590 - val_loss: 0.1011 - val_keras_iou: 0.6605\n",
            "Epoch 40/50\n",
            "34/33 [==============================] - 5s 159ms/step - loss: 0.1046 - keras_iou: 0.6622 - val_loss: 0.1004 - val_keras_iou: 0.6638\n",
            "Epoch 41/50\n",
            "34/33 [==============================] - 5s 156ms/step - loss: 0.1094 - keras_iou: 0.6655 - val_loss: 0.0997 - val_keras_iou: 0.6669\n",
            "Epoch 42/50\n",
            "34/33 [==============================] - 5s 159ms/step - loss: 0.1043 - keras_iou: 0.6682 - val_loss: 0.1106 - val_keras_iou: 0.6698\n",
            "Epoch 43/50\n",
            "10/33 [=======>......................] - ETA: 2s - loss: 0.1184 - keras_iou: 0.6708"
          ],
          "name": "stdout"
        },
        {
          "output_type": "stream",
          "text": [
            "34/33 [==============================] - 5s 154ms/step - loss: 0.1098 - keras_iou: 0.6714 - val_loss: 0.1001 - val_keras_iou: 0.6725\n",
            "Epoch 44/50\n",
            "34/33 [==============================] - 5s 157ms/step - loss: 0.1016 - keras_iou: 0.6738 - val_loss: 0.0953 - val_keras_iou: 0.6753\n",
            "Epoch 45/50\n",
            "34/33 [==============================] - 5s 157ms/step - loss: 0.0983 - keras_iou: 0.6767 - val_loss: 0.0958 - val_keras_iou: 0.6778\n",
            "Epoch 46/50\n",
            "34/33 [==============================] - 5s 156ms/step - loss: 0.0976 - keras_iou: 0.6791 - val_loss: 0.1037 - val_keras_iou: 0.6804\n",
            "Epoch 47/50\n",
            "34/33 [==============================] - 5s 157ms/step - loss: 0.1035 - keras_iou: 0.6816 - val_loss: 0.1006 - val_keras_iou: 0.6826\n",
            "Epoch 48/50\n",
            "34/33 [==============================] - 5s 156ms/step - loss: 0.1113 - keras_iou: 0.6836 - val_loss: 0.0998 - val_keras_iou: 0.6847\n",
            "Epoch 49/50\n",
            "10/33 [=======>......................] - ETA: 3s - loss: 0.1065 - keras_iou: 0.6854"
          ],
          "name": "stdout"
        },
        {
          "output_type": "stream",
          "text": [
            "34/33 [==============================] - 5s 157ms/step - loss: 0.1030 - keras_iou: 0.6859 - val_loss: 0.1036 - val_keras_iou: 0.6866\n",
            "Epoch 50/50\n",
            "34/33 [==============================] - 5s 155ms/step - loss: 0.1029 - keras_iou: 0.6875 - val_loss: 0.0972 - val_keras_iou: 0.6884\n"
          ],
          "name": "stdout"
        },
        {
          "output_type": "execute_result",
          "data": {
            "text/plain": [
              "<keras.callbacks.History at 0x7f94a0628cc0>"
            ]
          },
          "metadata": {
            "tags": []
          },
          "execution_count": 8
        }
      ]
    },
    {
      "metadata": {
        "id": "QRZtzBv_3V-U",
        "colab_type": "code",
        "colab": {
          "autoexec": {
            "startup": false,
            "wait_interval": 0
          },
          "output_extras": [
            {
              "item_id": 1
            },
            {
              "item_id": 2
            }
          ],
          "base_uri": "https://localhost:8080/",
          "height": 286
        },
        "outputId": "f6c7405c-3972-4d91-9285-4beafeef1227",
        "executionInfo": {
          "status": "ok",
          "timestamp": 1520109998332,
          "user_tz": 360,
          "elapsed": 554,
          "user": {
            "displayName": "Imran Khan",
            "photoUrl": "https://lh3.googleusercontent.com/a/default-user=s128",
            "userId": "116974156090080387307"
          }
        }
      },
      "cell_type": "code",
      "source": [
        "img = x_test[0]\n",
        "plt.imshow(img.reshape(128, 128, 3))"
      ],
      "execution_count": 9,
      "outputs": [
        {
          "output_type": "execute_result",
          "data": {
            "text/plain": [
              "<matplotlib.image.AxesImage at 0x7f949f0cf908>"
            ]
          },
          "metadata": {
            "tags": []
          },
          "execution_count": 9
        },
        {
          "output_type": "display_data",
          "data": {
            "image/png": "[encoded data removed]",
            "text/plain": [
              "<matplotlib.figure.Figure at 0x7f949f0a9d30>"
            ]
          },
          "metadata": {
            "tags": []
          }
        }
      ]
    },
    {
      "metadata": {
        "id": "g0p02NIL_HLt",
        "colab_type": "code",
        "colab": {
          "autoexec": {
            "startup": false,
            "wait_interval": 0
          },
          "output_extras": [
            {
              "item_id": 1
            },
            {
              "item_id": 2
            }
          ],
          "base_uri": "https://localhost:8080/",
          "height": 286
        },
        "outputId": "e21fae60-9ebe-4af9-df00-a21f3ae81d73",
        "executionInfo": {
          "status": "ok",
          "timestamp": 1520109999102,
          "user_tz": 360,
          "elapsed": 643,
          "user": {
            "displayName": "Imran Khan",
            "photoUrl": "https://lh3.googleusercontent.com/a/default-user=s128",
            "userId": "116974156090080387307"
          }
        }
      },
      "cell_type": "code",
      "source": [
        "temp = unet.predict(img.reshape(1, 128, 128, 3))\n",
        "plt.imshow((temp > 0.5).reshape(128, 128))"
      ],
      "execution_count": 10,
      "outputs": [
        {
          "output_type": "execute_result",
          "data": {
            "text/plain": [
              "<matplotlib.image.AxesImage at 0x7f949ef9fbe0>"
            ]
          },
          "metadata": {
            "tags": []
          },
          "execution_count": 10
        },
        {
          "output_type": "display_data",
          "data": {
            "image/png": "[encoded data removed]",
            "text/plain": [
              "<matplotlib.figure.Figure at 0x7f949f039f98>"
            ]
          },
          "metadata": {
            "tags": []
          }
        }
      ]
    },
    {
      "metadata": {
        "id": "G3AW6H5y4AV8",
        "colab_type": "code",
        "colab": {
          "autoexec": {
            "startup": false,
            "wait_interval": 0
          }
        }
      },
      "cell_type": "code",
      "source": [
        "preds = unet.predict(x_test)"
      ],
      "execution_count": 0,
      "outputs": []
    },
    {
      "metadata": {
        "id": "s5lf1bO_4JQ3",
        "colab_type": "code",
        "colab": {
          "autoexec": {
            "startup": false,
            "wait_interval": 0
          }
        }
      },
      "cell_type": "code",
      "source": [
        "preds = threshold_preds(preds)"
      ],
      "execution_count": 0,
      "outputs": []
    },
    {
      "metadata": {
        "id": "Kd-ARFO15LcJ",
        "colab_type": "code",
        "colab": {
          "autoexec": {
            "startup": false,
            "wait_interval": 0
          },
          "output_extras": [
            {
              "item_id": 1
            },
            {
              "item_id": 2
            }
          ],
          "base_uri": "https://localhost:8080/",
          "height": 322
        },
        "outputId": "c19e04b7-996f-4175-d346-e7a34fb40f1c",
        "executionInfo": {
          "status": "ok",
          "timestamp": 1520110001893,
          "user_tz": 360,
          "elapsed": 717,
          "user": {
            "displayName": "Imran Khan",
            "photoUrl": "https://lh3.googleusercontent.com/a/default-user=s128",
            "userId": "116974156090080387307"
          }
        }
      },
      "cell_type": "code",
      "source": [
        "i=13\n",
        "plt.figure(figsize=(10, 10))\n",
        "plt.subplot(1, 2, 1)\n",
        "plt.imshow(x_test[i])\n",
        "\n",
        "plt.subplot(1, 2, 2)\n",
        "plt.imshow(preds[i].reshape(128, 128))"
      ],
      "execution_count": 13,
      "outputs": [
        {
          "output_type": "execute_result",
          "data": {
            "text/plain": [
              "<matplotlib.image.AxesImage at 0x7f949ef8a898>"
            ]
          },
          "metadata": {
            "tags": []
          },
          "execution_count": 13
        },
        {
          "output_type": "display_data",
          "data": {
            "image/png": "[encoded data removed]",
            "text/plain": [
              "<matplotlib.figure.Figure at 0x7f949f0120f0>"
            ]
          },
          "metadata": {
            "tags": []
          }
        }
      ]
    },
    {
      "metadata": {
        "id": "d5rset1Q5VtS",
        "colab_type": "code",
        "colab": {
          "autoexec": {
            "startup": false,
            "wait_interval": 0
          }
        }
      },
      "cell_type": "code",
      "source": [
        "preds_upsampled = upsample(preds, x_test_sizes)"
      ],
      "execution_count": 0,
      "outputs": []
    },
    {
      "metadata": {
        "id": "qf2wofaZ5avd",
        "colab_type": "code",
        "colab": {
          "autoexec": {
            "startup": false,
            "wait_interval": 0
          }
        }
      },
      "cell_type": "code",
      "source": [
        "test_path = '../../.kaggle/competitions/data-science-bowl-2018/test/'\n",
        "test_ids = next(os.walk(test_path))[1]\n",
        "\n",
        "rles, new_test_ids = encode(preds_upsampled, test_ids)"
      ],
      "execution_count": 0,
      "outputs": []
    },
    {
      "metadata": {
        "id": "xk4ifPnq5gBK",
        "colab_type": "code",
        "colab": {
          "autoexec": {
            "startup": false,
            "wait_interval": 0
          }
        }
      },
      "cell_type": "code",
      "source": [
        "submit(new_test_ids, rles)"
      ],
      "execution_count": 0,
      "outputs": []
    },
    {
      "metadata": {
        "id": "oyKY1yK35h87",
        "colab_type": "code",
        "colab": {
          "autoexec": {
            "startup": false,
            "wait_interval": 0
          }
        }
      },
      "cell_type": "code",
      "source": [
        "pd.read_csv('./submission.csv')"
      ],
      "execution_count": 0,
      "outputs": []
    },
    {
      "metadata": {
        "id": "oFTKUQ8q5jx5",
        "colab_type": "code",
        "colab": {
          "autoexec": {
            "startup": false,
            "wait_interval": 0
          }
        }
      },
      "cell_type": "code",
      "source": [
        "from google.colab import files\n",
        "\n",
        "files.download('submission.csv')"
      ],
      "execution_count": 0,
      "outputs": []
    }
  ]
}