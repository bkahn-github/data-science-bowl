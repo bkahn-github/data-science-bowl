{
  "nbformat": 4,
  "nbformat_minor": 0,
  "metadata": {
    "colab": {
      "name": "pytorch-unet",
      "version": "0.3.2",
      "views": {},
      "default_view": {},
      "provenance": [],
      "collapsed_sections": []
    },
    "kernelspec": {
      "name": "python3",
      "display_name": "Python 3"
    },
    "accelerator": "GPU"
  },
  "cells": [
    {
      "metadata": {
        "id": "lzKgAbRdkUUO",
        "colab_type": "code",
        "colab": {
          "autoexec": {
            "startup": false,
            "wait_interval": 0
          }
        }
      },
      "cell_type": "code",
      "source": [
        "import os\n",
        "!rm -rf *\n",
        "!rm -rf .kaggle/\n",
        "!git clone https://github.com/bkahn-github/data-science-bowl.git\n",
        "!pip install -r data-science-bowl/requirements.txt\n",
        "!pip3 install http://download.pytorch.org/whl/cu80/torch-0.3.0.post4-cp36-cp36m-linux_x86_64.whl \n",
        "!pip3 install torchvision\n",
        "!pip3 install Pillow\n",
        "!mkdir ~/.kaggle\n",
        "f = open(\".kaggle/kaggle.json\", \"w\")\n",
        "f.write('{\"username\":\"bkkaggle\",\"key\":\"bf4e62680116284087ace0484990f87a\"}')\n",
        "f.close()\n",
        "!kaggle competitions download -c data-science-bowl-2018\n",
        "!unzip ~/.kaggle/competitions/data-science-bowl-2018/stage1_train.zip -d ~/.kaggle/competitions/data-science-bowl-2018/train\n",
        "!unzip ~/.kaggle/competitions/data-science-bowl-2018/stage1_test.zip -d ~/.kaggle/competitions/data-science-bowl-2018/test\n",
        "!unzip ~/.kaggle/competitions/data-science-bowl-2018/stage1_train_labels.csv.zip -d ~/.kaggle/competitions/data-science-bowl-2018/labels\n",
        "os.chdir('data-science-bowl/pytorchUnet')\n",
        "!git checkout new-pytorch-unet"
      ],
      "execution_count": 0,
      "outputs": []
    },
    {
      "metadata": {
        "id": "pIXHKehfknCc",
        "colab_type": "code",
        "colab": {
          "autoexec": {
            "startup": false,
            "wait_interval": 0
          }
        }
      },
      "cell_type": "code",
      "source": [
        "os.chdir('../../')\n",
        "!rm -rf data-science-bowl/\n",
        "!git clone https://github.com/bkahn-github/data-science-bowl.git\n",
        "os.chdir('data-science-bowl/pytorchUnet')\n",
        "!git checkout new-pytorch-unet"
      ],
      "execution_count": 0,
      "outputs": []
    },
    {
      "metadata": {
        "id": "k1AA7Z_zkvKb",
        "colab_type": "code",
        "colab": {
          "autoexec": {
            "startup": false,
            "wait_interval": 0
          }
        }
      },
      "cell_type": "code",
      "source": [
        "import PIL\n",
        "import numpy as np\n",
        "import pandas as pd\n",
        "import matplotlib.pyplot as plt\n",
        "\n",
        "import torch\n",
        "from torch.autograd import Variable\n",
        "from torch.backends import cudnn\n",
        "\n",
        "from tqdm import tqdm, tqdm_notebook\n",
        "\n",
        "np.random.seed(0)\n",
        "torch.manual_seed(0)\n",
        "torch.cuda.manual_seed(0)\n",
        "\n",
        "%matplotlib inline\n",
        "\n",
        "from load_data import load_data\n",
        "from metrics import dice_loss, iou\n",
        "from model import UNet\n",
        "from process_data import predict, encode, upsample\n",
        "from visualize import show_val, show_test\n",
        "from submit import submit"
      ],
      "execution_count": 0,
      "outputs": []
    },
    {
      "metadata": {
        "id": "4ne7Uze49lqm",
        "colab_type": "code",
        "colab": {
          "autoexec": {
            "startup": false,
            "wait_interval": 0
          },
          "output_extras": [
            {
              "item_id": 145
            }
          ],
          "base_uri": "https://localhost:8080/",
          "height": 69
        },
        "outputId": "c904da57-fcd7-4764-9ac0-b51effe39e63",
        "executionInfo": {
          "status": "ok",
          "timestamp": 1520556260081,
          "user_tz": 360,
          "elapsed": 54791,
          "user": {
            "displayName": "Imran Khan",
            "photoUrl": "https://lh3.googleusercontent.com/a/default-user=s128",
            "userId": "116974156090080387307"
          }
        }
      },
      "cell_type": "code",
      "source": [
        "train, val, x_test_sizes, train_dataset, val_dataset, test_dataset, train_dataloader, val_dataloader, test_dataloader = load_data()"
      ],
      "execution_count": 3,
      "outputs": [
        {
          "output_type": "stream",
          "text": [
            "100%|██████████| 670/670 [00:53<00:00, 12.59it/s]\n",
            "100%|██████████| 65/65 [00:00<00:00, 138.48it/s]\n",
            "100%|██████████| 65/65 [00:00<00:00, 145.84it/s]\n"
          ],
          "name": "stderr"
        }
      ]
    },
    {
      "metadata": {
        "id": "jqTED64X9nZf",
        "colab_type": "code",
        "colab": {
          "autoexec": {
            "startup": false,
            "wait_interval": 0
          },
          "output_extras": [
            {
              "item_id": 89
            },
            {
              "item_id": 90
            },
            {
              "item_id": 205
            },
            {
              "item_id": 206
            },
            {
              "item_id": 320
            },
            {
              "item_id": 321
            },
            {
              "item_id": 434
            },
            {
              "item_id": 435
            },
            {
              "item_id": 547
            },
            {
              "item_id": 548
            },
            {
              "item_id": 661
            },
            {
              "item_id": 662
            },
            {
              "item_id": 772
            },
            {
              "item_id": 773
            },
            {
              "item_id": 882
            },
            {
              "item_id": 883
            },
            {
              "item_id": 992
            },
            {
              "item_id": 993
            },
            {
              "item_id": 1100
            },
            {
              "item_id": 1101
            },
            {
              "item_id": 1102
            }
          ],
          "base_uri": "https://localhost:8080/",
          "height": 884
        },
        "outputId": "3222f584-cfbc-4774-c4a3-e21a4abba78c",
        "executionInfo": {
          "status": "ok",
          "timestamp": 1520557555236,
          "user_tz": 360,
          "elapsed": 295470,
          "user": {
            "displayName": "Imran Khan",
            "photoUrl": "https://lh3.googleusercontent.com/a/default-user=s128",
            "userId": "116974156090080387307"
          }
        }
      },
      "cell_type": "code",
      "source": [
        "model = UNet(3, 1).cuda()\n",
        "optimizer = torch.optim.Adam(model.parameters(), lr = 1e-4)\n",
        "\n",
        "for epoch in range(10):\n",
        "  train_ious = []\n",
        "  val_ious = []\n",
        "\n",
        "  for x_train, y_train in tqdm(train_dataloader):\n",
        "    x_train = Variable(x_train).cuda()\n",
        "    y_train = Variable(y_train).cuda()\n",
        "\n",
        "    optimizer.zero_grad()\n",
        "\n",
        "    outputs = model(x_train)\n",
        "\n",
        "    loss = dice_loss(outputs, y_train)\n",
        "    train_iou, _ = iou((outputs.cpu().data.squeeze(0).numpy() > 0.5), y_train.cpu().data.numpy())\n",
        "    train_ious.append(train_iou)\n",
        "\n",
        "    loss.backward()\n",
        "    optimizer.step()\n",
        "\n",
        "  for x_val, y_val in tqdm(val_dataloader):\n",
        "    x_val = Variable(x_val).cuda()\n",
        "    y_val = Variable(y_val).cuda()\n",
        "\n",
        "    optimizer.zero_grad()\n",
        "\n",
        "    o = model(x_val)\n",
        "\n",
        "    val_loss = dice_loss(o, y_val)\n",
        "    val_iou, _ = iou((o.cpu().data.squeeze(0).numpy() > 0.5), y_val.cpu().data.numpy())\n",
        "    val_ious.append(val_iou)\n",
        "\n",
        "  print('\\n')\n",
        "  print(f'Epoch: {epoch + 1} Training IOU: {np.asarray(train_ious).mean()} Val IOU: {np.asarray(val_ious).mean()} Training Loss: {round(loss.data[0], 4)} Val Loss: {round(val_loss.data[0], 4)}', end='\\n')\n"
      ],
      "execution_count": 23,
      "outputs": [
        {
          "output_type": "stream",
          "text": [
            "100%|██████████| 134/134 [00:26<00:00,  5.03it/s]\n",
            "100%|██████████| 34/34 [00:02<00:00, 11.77it/s]\n",
            "  0%|          | 0/134 [00:00<?, ?it/s]"
          ],
          "name": "stderr"
        },
        {
          "output_type": "stream",
          "text": [
            "\n",
            "\n",
            "Epoch: 1 Training IOU: 0.013432835820895524 Val IOU: 0.023529411764705882 Training Loss: 0.6216 Val Loss: 0.7238\n"
          ],
          "name": "stdout"
        },
        {
          "output_type": "stream",
          "text": [
            "100%|██████████| 134/134 [00:26<00:00,  5.02it/s]\n",
            "100%|██████████| 34/34 [00:02<00:00, 11.88it/s]\n",
            "  0%|          | 0/134 [00:00<?, ?it/s]"
          ],
          "name": "stderr"
        },
        {
          "output_type": "stream",
          "text": [
            "\n",
            "\n",
            "Epoch: 2 Training IOU: 0.06417910447761194 Val IOU: 0.06470588235294118 Training Loss: 0.5484 Val Loss: 0.6564\n"
          ],
          "name": "stdout"
        },
        {
          "output_type": "stream",
          "text": [
            "100%|██████████| 134/134 [00:26<00:00,  5.04it/s]\n",
            "100%|██████████| 34/34 [00:02<00:00, 11.85it/s]\n",
            "  0%|          | 0/134 [00:00<?, ?it/s]"
          ],
          "name": "stderr"
        },
        {
          "output_type": "stream",
          "text": [
            "\n",
            "\n",
            "Epoch: 3 Training IOU: 0.10746268656716418 Val IOU: 0.12941176470588237 Training Loss: 0.5459 Val Loss: 0.6307\n"
          ],
          "name": "stdout"
        },
        {
          "output_type": "stream",
          "text": [
            "100%|██████████| 134/134 [00:26<00:00,  5.04it/s]\n",
            "100%|██████████| 34/34 [00:02<00:00, 11.75it/s]\n",
            "  0%|          | 0/134 [00:00<?, ?it/s]"
          ],
          "name": "stderr"
        },
        {
          "output_type": "stream",
          "text": [
            "\n",
            "\n",
            "Epoch: 4 Training IOU: 0.15000000000000002 Val IOU: 0.14705882352941177 Training Loss: 0.4405 Val Loss: 0.6023\n"
          ],
          "name": "stdout"
        },
        {
          "output_type": "stream",
          "text": [
            "100%|██████████| 134/134 [00:26<00:00,  5.04it/s]\n",
            "100%|██████████| 34/34 [00:02<00:00, 11.80it/s]\n",
            "  0%|          | 0/134 [00:00<?, ?it/s]"
          ],
          "name": "stderr"
        },
        {
          "output_type": "stream",
          "text": [
            "\n",
            "\n",
            "Epoch: 5 Training IOU: 0.2074626865671642 Val IOU: 0.2088235294117647 Training Loss: 0.4239 Val Loss: 0.5721\n"
          ],
          "name": "stdout"
        },
        {
          "output_type": "stream",
          "text": [
            "100%|██████████| 134/134 [00:26<00:00,  5.04it/s]\n",
            "100%|██████████| 34/34 [00:02<00:00, 11.81it/s]\n",
            "  0%|          | 0/134 [00:00<?, ?it/s]"
          ],
          "name": "stderr"
        },
        {
          "output_type": "stream",
          "text": [
            "\n",
            "\n",
            "Epoch: 6 Training IOU: 0.22164179104477613 Val IOU: 0.24117647058823527 Training Loss: 0.3401 Val Loss: 0.5502\n"
          ],
          "name": "stdout"
        },
        {
          "output_type": "stream",
          "text": [
            "100%|██████████| 134/134 [00:26<00:00,  5.04it/s]\n",
            "100%|██████████| 34/34 [00:02<00:00, 11.80it/s]\n",
            "  0%|          | 0/134 [00:00<?, ?it/s]"
          ],
          "name": "stderr"
        },
        {
          "output_type": "stream",
          "text": [
            "\n",
            "\n",
            "Epoch: 7 Training IOU: 0.24925373134328357 Val IOU: 0.24117647058823527 Training Loss: 0.3507 Val Loss: 0.5519\n"
          ],
          "name": "stdout"
        },
        {
          "output_type": "stream",
          "text": [
            "100%|██████████| 134/134 [00:26<00:00,  5.04it/s]\n",
            "100%|██████████| 34/34 [00:02<00:00, 11.81it/s]\n",
            "  0%|          | 0/134 [00:00<?, ?it/s]"
          ],
          "name": "stderr"
        },
        {
          "output_type": "stream",
          "text": [
            "\n",
            "\n",
            "Epoch: 8 Training IOU: 0.2776119402985075 Val IOU: 0.25882352941176473 Training Loss: 0.339 Val Loss: 0.5112\n"
          ],
          "name": "stdout"
        },
        {
          "output_type": "stream",
          "text": [
            "100%|██████████| 134/134 [00:26<00:00,  5.05it/s]\n",
            "100%|██████████| 34/34 [00:02<00:00, 11.81it/s]\n",
            "  0%|          | 0/134 [00:00<?, ?it/s]"
          ],
          "name": "stderr"
        },
        {
          "output_type": "stream",
          "text": [
            "\n",
            "\n",
            "Epoch: 9 Training IOU: 0.30970149253731344 Val IOU: 0.3176470588235294 Training Loss: 0.2925 Val Loss: 0.4971\n"
          ],
          "name": "stdout"
        },
        {
          "output_type": "stream",
          "text": [
            "100%|██████████| 134/134 [00:26<00:00,  5.05it/s]\n",
            "100%|██████████| 34/34 [00:02<00:00, 11.66it/s]"
          ],
          "name": "stderr"
        },
        {
          "output_type": "stream",
          "text": [
            "\n",
            "\n",
            "Epoch: 10 Training IOU: 0.36492537313432827 Val IOU: 0.3764705882352941 Training Loss: 0.2398 Val Loss: 0.4731\n"
          ],
          "name": "stdout"
        },
        {
          "output_type": "stream",
          "text": [
            "\n"
          ],
          "name": "stderr"
        }
      ]
    },
    {
      "metadata": {
        "id": "cE7wpqDugjfT",
        "colab_type": "code",
        "colab": {
          "autoexec": {
            "startup": false,
            "wait_interval": 0
          },
          "output_extras": [
            {
              "item_id": 1
            },
            {
              "item_id": 2
            }
          ],
          "base_uri": "https://localhost:8080/",
          "height": 396
        },
        "outputId": "70f15d9f-6aa2-49b1-a870-fa313cbf83e2",
        "executionInfo": {
          "status": "ok",
          "timestamp": 1520557180146,
          "user_tz": 360,
          "elapsed": 1000,
          "user": {
            "displayName": "Imran Khan",
            "photoUrl": "https://lh3.googleusercontent.com/a/default-user=s128",
            "userId": "116974156090080387307"
          }
        }
      },
      "cell_type": "code",
      "source": [
        "show_val(1, model, iou, val_dataset)"
      ],
      "execution_count": 14,
      "outputs": [
        {
          "output_type": "stream",
          "text": [
            "0.5\n"
          ],
          "name": "stdout"
        },
        {
          "output_type": "display_data",
          "data": {
            "image/png": "[encoded data removed]",
            "text/plain": [
              "<matplotlib.figure.Figure at 0x7fcc9bfb55f8>"
            ]
          },
          "metadata": {
            "tags": []
          }
        }
      ]
    },
    {
      "metadata": {
        "id": "5sNdN2q3gj8g",
        "colab_type": "code",
        "colab": {
          "autoexec": {
            "startup": false,
            "wait_interval": 0
          },
          "output_extras": [
            {
              "item_id": 1
            }
          ],
          "base_uri": "https://localhost:8080/",
          "height": 431
        },
        "outputId": "83d2a910-d5d4-4b45-d625-36d00a595140",
        "executionInfo": {
          "status": "ok",
          "timestamp": 1520557181094,
          "user_tz": 360,
          "elapsed": 826,
          "user": {
            "displayName": "Imran Khan",
            "photoUrl": "https://lh3.googleusercontent.com/a/default-user=s128",
            "userId": "116974156090080387307"
          }
        }
      },
      "cell_type": "code",
      "source": [
        "show_test(1, model, test_dataset)"
      ],
      "execution_count": 15,
      "outputs": [
        {
          "output_type": "display_data",
          "data": {
            "image/png": "[encoded data removed]",
            "text/plain": [
              "<matplotlib.figure.Figure at 0x7fcc9bfb51d0>"
            ]
          },
          "metadata": {
            "tags": []
          }
        }
      ]
    },
    {
      "metadata": {
        "id": "x8_Liu2NglUX",
        "colab_type": "code",
        "colab": {
          "autoexec": {
            "startup": false,
            "wait_interval": 0
          },
          "output_extras": [
            {
              "item_id": 8
            }
          ],
          "base_uri": "https://localhost:8080/",
          "height": 34
        },
        "outputId": "c73ed7c4-3a16-4089-ba40-330729f6409b",
        "executionInfo": {
          "status": "ok",
          "timestamp": 1520557183315,
          "user_tz": 360,
          "elapsed": 2095,
          "user": {
            "displayName": "Imran Khan",
            "photoUrl": "https://lh3.googleusercontent.com/a/default-user=s128",
            "userId": "116974156090080387307"
          }
        }
      },
      "cell_type": "code",
      "source": [
        "preds = predict(model, test_dataset, test_dataloader, optimizer)"
      ],
      "execution_count": 16,
      "outputs": [
        {
          "output_type": "stream",
          "text": [
            "65it [00:01, 42.55it/s]\n"
          ],
          "name": "stderr"
        }
      ]
    },
    {
      "metadata": {
        "id": "Kf4g4kdsgnVr",
        "colab_type": "code",
        "colab": {
          "autoexec": {
            "startup": false,
            "wait_interval": 0
          }
        }
      },
      "cell_type": "code",
      "source": [
        "preds_upsampled = upsample(preds)"
      ],
      "execution_count": 0,
      "outputs": []
    },
    {
      "metadata": {
        "id": "O8GnzZ45gpw2",
        "colab_type": "code",
        "colab": {
          "autoexec": {
            "startup": false,
            "wait_interval": 0
          }
        }
      },
      "cell_type": "code",
      "source": [
        "test_path = '../../.kaggle/competitions/data-science-bowl-2018/test/'\n",
        "test_ids = next(os.walk(test_path))[1]\n",
        "\n",
        "rles, new_test_ids = encode(preds_upsampled, test_ids)"
      ],
      "execution_count": 0,
      "outputs": []
    },
    {
      "metadata": {
        "id": "mWZBQx9-grcg",
        "colab_type": "code",
        "colab": {
          "autoexec": {
            "startup": false,
            "wait_interval": 0
          }
        }
      },
      "cell_type": "code",
      "source": [
        "submit(new_test_ids, rles)"
      ],
      "execution_count": 0,
      "outputs": []
    },
    {
      "metadata": {
        "id": "PSAshUEjgsxY",
        "colab_type": "code",
        "colab": {
          "autoexec": {
            "startup": false,
            "wait_interval": 0
          }
        }
      },
      "cell_type": "code",
      "source": [
        "pd.read_csv('./submission.csv')"
      ],
      "execution_count": 0,
      "outputs": []
    },
    {
      "metadata": {
        "id": "wL6PxJmSguuu",
        "colab_type": "code",
        "colab": {
          "autoexec": {
            "startup": false,
            "wait_interval": 0
          }
        }
      },
      "cell_type": "code",
      "source": [
        "from google.colab import files\n",
        "\n",
        "files.download('submission.csv')"
      ],
      "execution_count": 0,
      "outputs": []
    }
  ]
}