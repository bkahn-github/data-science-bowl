{
  "nbformat": 4,
  "nbformat_minor": 0,
  "metadata": {
    "colab": {
      "name": "keras-unet",
      "version": "0.3.2",
      "views": {},
      "default_view": {},
      "provenance": [],
      "collapsed_sections": []
    },
    "kernelspec": {
      "name": "python3",
      "display_name": "Python 3"
    },
    "accelerator": "GPU"
  },
  "cells": [
    {
      "metadata": {
        "id": "B7BwO8YbAB3z",
        "colab_type": "code",
        "colab": {
          "autoexec": {
            "startup": false,
            "wait_interval": 0
          }
        }
      },
      "cell_type": "code",
      "source": [
        "import os\n",
        "!rm -rf *\n",
        "!rm -rf .kaggle/\n",
        "!git clone https://github.com/bkahn-github/data-science-bowl.git\n",
        "!pip install -r data-science-bowl/requirements.txt\n",
        "!pip3 install http://download.pytorch.org/whl/cu80/torch-0.3.0.post4-cp36-cp36m-linux_x86_64.whl \n",
        "!pip3 install torchvision\n",
        "!pip3 install Pillow\n",
        "!mkdir ~/.kaggle\n",
        "f = open(\".kaggle/kaggle.json\", \"w\")\n",
        "f.write('{\"username\":\"bkkaggle\",\"key\":\"bf4e62680116284087ace0484990f87a\"}')\n",
        "f.close()\n",
        "!kaggle competitions download -c data-science-bowl-2018\n",
        "!unzip ~/.kaggle/competitions/data-science-bowl-2018/stage1_train.zip -d ~/.kaggle/competitions/data-science-bowl-2018/train\n",
        "!unzip ~/.kaggle/competitions/data-science-bowl-2018/stage1_test.zip -d ~/.kaggle/competitions/data-science-bowl-2018/test\n",
        "!unzip ~/.kaggle/competitions/data-science-bowl-2018/stage1_train_labels.csv.zip -d ~/.kaggle/competitions/data-science-bowl-2018/labels\n",
        "os.chdir('data-science-bowl')\n",
        "!git checkout keras-unet-256x256\n",
        "os.chdir('KerasUnet256x256/')"
      ],
      "execution_count": 0,
      "outputs": []
    },
    {
      "metadata": {
        "id": "ZsFLD05DAqVD",
        "colab_type": "code",
        "colab": {
          "autoexec": {
            "startup": false,
            "wait_interval": 0
          }
        }
      },
      "cell_type": "code",
      "source": [
        "import os\n",
        "import sys\n",
        "import random\n",
        "import warnings\n",
        "\n",
        "import PIL\n",
        "import numpy as np\n",
        "import pandas as pd\n",
        "\n",
        "from keras.preprocessing.image import ImageDataGenerator\n",
        "\n",
        "import skimage\n",
        "from skimage.transform import resize\n",
        "\n",
        "import imageio\n",
        "import matplotlib.pyplot as plt\n",
        "from tqdm import tqdm, tqdm_notebook\n",
        "\n",
        "from load_data import load_data, load_test_data, load_test_image_sizes\n",
        "from metrics import dice_loss, iou, iou_metric\n",
        "from model import model\n",
        "from process_data import encode, upsample\n",
        "from submit import submit\n",
        "\n",
        "%matplotlib inline\n",
        "\n",
        "warnings.filterwarnings('ignore', category=UserWarning, module='skimage')\n",
        "seed = 42\n",
        "random.seed = seed\n",
        "np.random.seed(seed=seed)"
      ],
      "execution_count": 0,
      "outputs": []
    },
    {
      "metadata": {
        "id": "xbxPFwprArVV",
        "colab_type": "code",
        "colab": {
          "autoexec": {
            "startup": false,
            "wait_interval": 0
          }
        }
      },
      "cell_type": "code",
      "source": [
        "x_train, y_train, x_val, y_val, train_datagen = load_data(train_val_split=0.1, batch_size=8)\n",
        "x_test = load_test_data()\n",
        "x_test_sizes = load_test_image_sizes()"
      ],
      "execution_count": 0,
      "outputs": []
    },
    {
      "metadata": {
        "id": "PPauacPHAzmv",
        "colab_type": "code",
        "colab": {
          "autoexec": {
            "startup": false,
            "wait_interval": 0
          },
          "output_extras": [
            {
              "item_id": 1
            }
          ],
          "base_uri": "https://localhost:8080/",
          "height": 1993
        },
        "outputId": "0e0c5a79-0dc1-45cf-be37-be3e3312958e",
        "executionInfo": {
          "status": "ok",
          "timestamp": 1520790880862,
          "user_tz": 300,
          "elapsed": 2881,
          "user": {
            "displayName": "Imran Khan",
            "photoUrl": "https://lh3.googleusercontent.com/a/default-user=s128",
            "userId": "116974156090080387307"
          }
        }
      },
      "cell_type": "code",
      "source": [
        "unet = model()"
      ],
      "execution_count": 6,
      "outputs": [
        {
          "output_type": "stream",
          "text": [
            "__________________________________________________________________________________________________\n",
            "Layer (type)                    Output Shape         Param #     Connected to                     \n",
            "==================================================================================================\n",
            "input_1 (InputLayer)            (None, 256, 256, 3)  0                                            \n",
            "__________________________________________________________________________________________________\n",
            "lambda_1 (Lambda)               (None, 256, 256, 3)  0           input_1[0][0]                    \n",
            "__________________________________________________________________________________________________\n",
            "conv2d_1 (Conv2D)               (None, 256, 256, 16) 448         lambda_1[0][0]                   \n",
            "__________________________________________________________________________________________________\n",
            "dropout_1 (Dropout)             (None, 256, 256, 16) 0           conv2d_1[0][0]                   \n",
            "__________________________________________________________________________________________________\n",
            "conv2d_2 (Conv2D)               (None, 256, 256, 16) 2320        dropout_1[0][0]                  \n",
            "__________________________________________________________________________________________________\n",
            "max_pooling2d_1 (MaxPooling2D)  (None, 128, 128, 16) 0           conv2d_2[0][0]                   \n",
            "__________________________________________________________________________________________________\n",
            "conv2d_3 (Conv2D)               (None, 128, 128, 32) 4640        max_pooling2d_1[0][0]            \n",
            "__________________________________________________________________________________________________\n",
            "dropout_2 (Dropout)             (None, 128, 128, 32) 0           conv2d_3[0][0]                   \n",
            "__________________________________________________________________________________________________\n",
            "conv2d_4 (Conv2D)               (None, 128, 128, 32) 9248        dropout_2[0][0]                  \n",
            "__________________________________________________________________________________________________\n",
            "max_pooling2d_2 (MaxPooling2D)  (None, 64, 64, 32)   0           conv2d_4[0][0]                   \n",
            "__________________________________________________________________________________________________\n",
            "conv2d_5 (Conv2D)               (None, 64, 64, 64)   18496       max_pooling2d_2[0][0]            \n",
            "__________________________________________________________________________________________________\n",
            "dropout_3 (Dropout)             (None, 64, 64, 64)   0           conv2d_5[0][0]                   \n",
            "__________________________________________________________________________________________________\n",
            "conv2d_6 (Conv2D)               (None, 64, 64, 64)   36928       dropout_3[0][0]                  \n",
            "__________________________________________________________________________________________________\n",
            "max_pooling2d_3 (MaxPooling2D)  (None, 32, 32, 64)   0           conv2d_6[0][0]                   \n",
            "__________________________________________________________________________________________________\n",
            "conv2d_7 (Conv2D)               (None, 32, 32, 128)  73856       max_pooling2d_3[0][0]            \n",
            "__________________________________________________________________________________________________\n",
            "dropout_4 (Dropout)             (None, 32, 32, 128)  0           conv2d_7[0][0]                   \n",
            "__________________________________________________________________________________________________\n",
            "conv2d_8 (Conv2D)               (None, 32, 32, 128)  147584      dropout_4[0][0]                  \n",
            "__________________________________________________________________________________________________\n",
            "max_pooling2d_4 (MaxPooling2D)  (None, 16, 16, 128)  0           conv2d_8[0][0]                   \n",
            "__________________________________________________________________________________________________\n",
            "conv2d_9 (Conv2D)               (None, 16, 16, 256)  295168      max_pooling2d_4[0][0]            \n",
            "__________________________________________________________________________________________________\n",
            "dropout_5 (Dropout)             (None, 16, 16, 256)  0           conv2d_9[0][0]                   \n",
            "__________________________________________________________________________________________________\n",
            "conv2d_10 (Conv2D)              (None, 16, 16, 256)  590080      dropout_5[0][0]                  \n",
            "__________________________________________________________________________________________________\n",
            "max_pooling2d_5 (MaxPooling2D)  (None, 8, 8, 256)    0           conv2d_10[0][0]                  \n",
            "__________________________________________________________________________________________________\n",
            "conv2d_11 (Conv2D)              (None, 8, 8, 512)    1180160     max_pooling2d_5[0][0]            \n",
            "__________________________________________________________________________________________________\n",
            "dropout_6 (Dropout)             (None, 8, 8, 512)    0           conv2d_11[0][0]                  \n",
            "__________________________________________________________________________________________________\n",
            "conv2d_12 (Conv2D)              (None, 8, 8, 512)    2359808     dropout_6[0][0]                  \n",
            "__________________________________________________________________________________________________\n",
            "conv2d_transpose_1 (Conv2DTrans (None, 16, 16, 256)  524544      conv2d_12[0][0]                  \n",
            "__________________________________________________________________________________________________\n",
            "concatenate_1 (Concatenate)     (None, 16, 16, 512)  0           conv2d_transpose_1[0][0]         \n",
            "                                                                 conv2d_10[0][0]                  \n",
            "__________________________________________________________________________________________________\n",
            "conv2d_13 (Conv2D)              (None, 16, 16, 256)  1179904     concatenate_1[0][0]              \n",
            "__________________________________________________________________________________________________\n",
            "dropout_7 (Dropout)             (None, 16, 16, 256)  0           conv2d_13[0][0]                  \n",
            "__________________________________________________________________________________________________\n",
            "conv2d_14 (Conv2D)              (None, 16, 16, 256)  590080      dropout_7[0][0]                  \n",
            "__________________________________________________________________________________________________\n",
            "conv2d_transpose_2 (Conv2DTrans (None, 32, 32, 128)  131200      conv2d_14[0][0]                  \n",
            "__________________________________________________________________________________________________\n",
            "concatenate_2 (Concatenate)     (None, 32, 32, 256)  0           conv2d_transpose_2[0][0]         \n",
            "                                                                 conv2d_8[0][0]                   \n",
            "__________________________________________________________________________________________________\n",
            "conv2d_15 (Conv2D)              (None, 32, 32, 128)  295040      concatenate_2[0][0]              \n",
            "__________________________________________________________________________________________________\n",
            "dropout_8 (Dropout)             (None, 32, 32, 128)  0           conv2d_15[0][0]                  \n",
            "__________________________________________________________________________________________________\n",
            "conv2d_16 (Conv2D)              (None, 32, 32, 128)  147584      dropout_8[0][0]                  \n",
            "__________________________________________________________________________________________________\n",
            "conv2d_transpose_3 (Conv2DTrans (None, 64, 64, 64)   32832       conv2d_16[0][0]                  \n",
            "__________________________________________________________________________________________________\n",
            "concatenate_3 (Concatenate)     (None, 64, 64, 128)  0           conv2d_transpose_3[0][0]         \n",
            "                                                                 conv2d_6[0][0]                   \n",
            "__________________________________________________________________________________________________\n",
            "conv2d_17 (Conv2D)              (None, 64, 64, 64)   73792       concatenate_3[0][0]              \n",
            "__________________________________________________________________________________________________\n",
            "dropout_9 (Dropout)             (None, 64, 64, 64)   0           conv2d_17[0][0]                  \n",
            "__________________________________________________________________________________________________\n",
            "conv2d_18 (Conv2D)              (None, 64, 64, 64)   36928       dropout_9[0][0]                  \n",
            "__________________________________________________________________________________________________\n",
            "conv2d_transpose_4 (Conv2DTrans (None, 128, 128, 32) 8224        conv2d_18[0][0]                  \n",
            "__________________________________________________________________________________________________\n",
            "concatenate_4 (Concatenate)     (None, 128, 128, 64) 0           conv2d_transpose_4[0][0]         \n",
            "                                                                 conv2d_4[0][0]                   \n",
            "__________________________________________________________________________________________________\n",
            "conv2d_19 (Conv2D)              (None, 128, 128, 32) 18464       concatenate_4[0][0]              \n",
            "__________________________________________________________________________________________________\n",
            "dropout_10 (Dropout)            (None, 128, 128, 32) 0           conv2d_19[0][0]                  \n",
            "__________________________________________________________________________________________________\n",
            "conv2d_20 (Conv2D)              (None, 128, 128, 32) 9248        dropout_10[0][0]                 \n",
            "__________________________________________________________________________________________________\n",
            "conv2d_transpose_5 (Conv2DTrans (None, 256, 256, 16) 2064        conv2d_20[0][0]                  \n",
            "__________________________________________________________________________________________________\n",
            "concatenate_5 (Concatenate)     (None, 256, 256, 32) 0           conv2d_transpose_5[0][0]         \n",
            "                                                                 conv2d_2[0][0]                   \n",
            "__________________________________________________________________________________________________\n",
            "conv2d_21 (Conv2D)              (None, 256, 256, 16) 4624        concatenate_5[0][0]              \n",
            "__________________________________________________________________________________________________\n",
            "dropout_11 (Dropout)            (None, 256, 256, 16) 0           conv2d_21[0][0]                  \n",
            "__________________________________________________________________________________________________\n",
            "conv2d_22 (Conv2D)              (None, 256, 256, 16) 2320        dropout_11[0][0]                 \n",
            "__________________________________________________________________________________________________\n",
            "conv2d_23 (Conv2D)              (None, 256, 256, 1)  17          conv2d_22[0][0]                  \n",
            "==================================================================================================\n",
            "Total params: 7,775,601\n",
            "Trainable params: 7,775,601\n",
            "Non-trainable params: 0\n",
            "__________________________________________________________________________________________________\n"
          ],
          "name": "stdout"
        }
      ]
    },
    {
      "metadata": {
        "id": "D7b20zweA28R",
        "colab_type": "code",
        "colab": {
          "autoexec": {
            "startup": false,
            "wait_interval": 0
          },
          "output_extras": [
            {
              "item_id": 360
            },
            {
              "item_id": 637
            },
            {
              "item_id": 938
            },
            {
              "item_id": 1154
            },
            {
              "item_id": 1260
            },
            {
              "item_id": 1305
            },
            {
              "item_id": 1335
            },
            {
              "item_id": 1371
            },
            {
              "item_id": 1406
            },
            {
              "item_id": 1502
            },
            {
              "item_id": 1503
            }
          ],
          "base_uri": "https://localhost:8080/",
          "height": 921
        },
        "outputId": "7929ffa2-12d2-421c-a68c-56284d1ae26d",
        "executionInfo": {
          "status": "ok",
          "timestamp": 1520791838087,
          "user_tz": 300,
          "elapsed": 950641,
          "user": {
            "displayName": "Imran Khan",
            "photoUrl": "https://lh3.googleusercontent.com/a/default-user=s128",
            "userId": "116974156090080387307"
          }
        }
      },
      "cell_type": "code",
      "source": [
        "unet.fit_generator(train_datagen, steps_per_epoch=len(x_train)/4, validation_data=(x_val, y_val), epochs=25)"
      ],
      "execution_count": 7,
      "outputs": [
        {
          "output_type": "stream",
          "text": [
            "Epoch 1/25\n",
            "151/150 [==============================] - 43s 285ms/step - loss: 0.3917 - keras_iou: 0.4353 - val_loss: 0.2258 - val_keras_iou: 0.4520\n",
            "Epoch 2/25\n",
            "151/150 [==============================] - 38s 249ms/step - loss: 0.1614 - keras_iou: 0.4907 - val_loss: 0.1238 - val_keras_iou: 0.5495\n",
            "Epoch 3/25\n",
            "122/150 [=======================>......] - ETA: 6s - loss: 0.1130 - keras_iou: 0.5911"
          ],
          "name": "stdout"
        },
        {
          "output_type": "stream",
          "text": [
            "151/150 [==============================] - 38s 248ms/step - loss: 0.1081 - keras_iou: 0.5982 - val_loss: 0.0969 - val_keras_iou: 0.6375\n",
            "Epoch 4/25\n",
            "151/150 [==============================] - 38s 249ms/step - loss: 0.0999 - keras_iou: 0.6645 - val_loss: 0.1010 - val_keras_iou: 0.6846\n",
            "Epoch 5/25\n",
            "151/150 [==============================] - 38s 249ms/step - loss: 0.0941 - keras_iou: 0.6998 - val_loss: 0.0853 - val_keras_iou: 0.7141\n",
            "Epoch 6/25\n",
            "  7/150 [>.............................] - ETA: 35s - loss: 0.0812 - keras_iou: 0.7158"
          ],
          "name": "stdout"
        },
        {
          "output_type": "stream",
          "text": [
            "151/150 [==============================] - 38s 250ms/step - loss: 0.0901 - keras_iou: 0.7253 - val_loss: 0.0882 - val_keras_iou: 0.7349\n",
            "Epoch 7/25\n",
            "151/150 [==============================] - 38s 249ms/step - loss: 0.0867 - keras_iou: 0.7426 - val_loss: 0.0874 - val_keras_iou: 0.7502\n",
            "Epoch 8/25\n",
            "136/150 [==========================>...] - ETA: 3s - loss: 0.0858 - keras_iou: 0.7557"
          ],
          "name": "stdout"
        },
        {
          "output_type": "stream",
          "text": [
            "151/150 [==============================] - 38s 251ms/step - loss: 0.0863 - keras_iou: 0.7562 - val_loss: 0.0775 - val_keras_iou: 0.7620\n",
            "Epoch 9/25\n",
            "151/150 [==============================] - 37s 248ms/step - loss: 0.0828 - keras_iou: 0.7669 - val_loss: 0.0803 - val_keras_iou: 0.7718\n",
            "Epoch 10/25\n",
            "151/150 [==============================] - 38s 251ms/step - loss: 0.0818 - keras_iou: 0.7757 - val_loss: 0.0781 - val_keras_iou: 0.7796\n",
            "Epoch 11/25\n",
            "  9/150 [>.............................] - ETA: 35s - loss: 0.0982 - keras_iou: 0.7800"
          ],
          "name": "stdout"
        },
        {
          "output_type": "stream",
          "text": [
            "151/150 [==============================] - 38s 251ms/step - loss: 0.0808 - keras_iou: 0.7830 - val_loss: 0.0829 - val_keras_iou: 0.7862\n",
            "Epoch 12/25\n",
            "151/150 [==============================] - 38s 249ms/step - loss: 0.0783 - keras_iou: 0.7894 - val_loss: 0.0850 - val_keras_iou: 0.7920\n",
            "Epoch 13/25\n",
            "135/150 [=========================>....] - ETA: 3s - loss: 0.0795 - keras_iou: 0.7940"
          ],
          "name": "stdout"
        },
        {
          "output_type": "stream",
          "text": [
            "151/150 [==============================] - 38s 250ms/step - loss: 0.0792 - keras_iou: 0.7942 - val_loss: 0.0829 - val_keras_iou: 0.7966\n",
            "Epoch 14/25\n",
            "151/150 [==============================] - 38s 251ms/step - loss: 0.0793 - keras_iou: 0.7990 - val_loss: 0.0754 - val_keras_iou: 0.8010\n",
            "Epoch 15/25\n",
            "151/150 [==============================] - 38s 250ms/step - loss: 0.0806 - keras_iou: 0.8030 - val_loss: 0.0782 - val_keras_iou: 0.8045\n",
            "Epoch 16/25\n",
            "  8/150 [>.............................] - ETA: 34s - loss: 0.0606 - keras_iou: 0.8047"
          ],
          "name": "stdout"
        },
        {
          "output_type": "stream",
          "text": [
            "151/150 [==============================] - 38s 249ms/step - loss: 0.0785 - keras_iou: 0.8062 - val_loss: 0.0864 - val_keras_iou: 0.8077\n",
            "Epoch 17/25\n",
            "151/150 [==============================] - 38s 249ms/step - loss: 0.0762 - keras_iou: 0.8093 - val_loss: 0.0753 - val_keras_iou: 0.8108\n",
            "Epoch 18/25\n",
            "135/150 [=========================>....] - ETA: 3s - loss: 0.0802 - keras_iou: 0.8118"
          ],
          "name": "stdout"
        },
        {
          "output_type": "stream",
          "text": [
            "151/150 [==============================] - 38s 250ms/step - loss: 0.0806 - keras_iou: 0.8119 - val_loss: 0.0747 - val_keras_iou: 0.8130\n",
            "Epoch 19/25\n",
            "151/150 [==============================] - 38s 251ms/step - loss: 0.0769 - keras_iou: 0.8143 - val_loss: 0.0755 - val_keras_iou: 0.8153\n",
            "Epoch 20/25\n",
            "151/150 [==============================] - 38s 250ms/step - loss: 0.0752 - keras_iou: 0.8163 - val_loss: 0.0737 - val_keras_iou: 0.8175\n",
            "Epoch 21/25\n",
            "  8/150 [>.............................] - ETA: 34s - loss: 0.1033 - keras_iou: 0.8176"
          ],
          "name": "stdout"
        },
        {
          "output_type": "stream",
          "text": [
            "151/150 [==============================] - 38s 250ms/step - loss: 0.0770 - keras_iou: 0.8186 - val_loss: 0.0723 - val_keras_iou: 0.8196\n",
            "Epoch 22/25\n",
            "151/150 [==============================] - 38s 249ms/step - loss: 0.0753 - keras_iou: 0.8206 - val_loss: 0.0779 - val_keras_iou: 0.8216\n",
            "Epoch 23/25\n",
            "135/150 [=========================>....] - ETA: 3s - loss: 0.0758 - keras_iou: 0.8221"
          ],
          "name": "stdout"
        },
        {
          "output_type": "stream",
          "text": [
            "151/150 [==============================] - 38s 250ms/step - loss: 0.0756 - keras_iou: 0.8222 - val_loss: 0.0738 - val_keras_iou: 0.8232\n",
            "Epoch 24/25\n",
            "151/150 [==============================] - 38s 251ms/step - loss: 0.0790 - keras_iou: 0.8238 - val_loss: 0.0783 - val_keras_iou: 0.8246\n",
            "Epoch 25/25\n",
            "151/150 [==============================] - 38s 249ms/step - loss: 0.0816 - keras_iou: 0.8252 - val_loss: 0.1278 - val_keras_iou: 0.8256\n"
          ],
          "name": "stdout"
        },
        {
          "output_type": "execute_result",
          "data": {
            "text/plain": [
              "<keras.callbacks.History at 0x7f7abfca3390>"
            ]
          },
          "metadata": {
            "tags": []
          },
          "execution_count": 7
        }
      ]
    },
    {
      "metadata": {
        "id": "Mf4-tU3AUMcJ",
        "colab_type": "code",
        "colab": {
          "autoexec": {
            "startup": false,
            "wait_interval": 0
          },
          "output_extras": [
            {
              "item_id": 1
            }
          ],
          "base_uri": "https://localhost:8080/",
          "height": 34
        },
        "outputId": "b0ee4c2e-7a31-4843-e771-f14ef62e9734",
        "executionInfo": {
          "status": "ok",
          "timestamp": 1520791853437,
          "user_tz": 300,
          "elapsed": 15173,
          "user": {
            "displayName": "Imran Khan",
            "photoUrl": "https://lh3.googleusercontent.com/a/default-user=s128",
            "userId": "116974156090080387307"
          }
        }
      },
      "cell_type": "code",
      "source": [
        "iou_metric(x_train, y_train, x_val, y_val, unet)"
      ],
      "execution_count": 8,
      "outputs": [
        {
          "output_type": "execute_result",
          "data": {
            "text/plain": [
              "(0.39191911407905694, 0.42694311123708545)"
            ]
          },
          "metadata": {
            "tags": []
          },
          "execution_count": 8
        }
      ]
    },
    {
      "metadata": {
        "id": "uZhuE19U1Ax0",
        "colab_type": "code",
        "colab": {
          "autoexec": {
            "startup": false,
            "wait_interval": 0
          }
        }
      },
      "cell_type": "code",
      "source": [
        "preds = unet.predict(x_test)"
      ],
      "execution_count": 0,
      "outputs": []
    },
    {
      "metadata": {
        "id": "-sddHitGDa5n",
        "colab_type": "code",
        "colab": {
          "autoexec": {
            "startup": false,
            "wait_interval": 0
          }
        }
      },
      "cell_type": "code",
      "source": [
        "test_path = '../../.kaggle/competitions/data-science-bowl-2018/test/'\n",
        "test_ids = next(os.walk(test_path))[1]\n",
        "\n",
        "preds_upsampled = upsample(preds)"
      ],
      "execution_count": 0,
      "outputs": []
    },
    {
      "metadata": {
        "id": "Va8PoP6P3Bd-",
        "colab_type": "code",
        "colab": {
          "autoexec": {
            "startup": false,
            "wait_interval": 0
          },
          "output_extras": [
            {
              "item_id": 1
            },
            {
              "item_id": 2
            }
          ],
          "base_uri": "https://localhost:8080/",
          "height": 286
        },
        "outputId": "b7efa9bb-18a2-4d43-95fa-7c61fee90451",
        "executionInfo": {
          "status": "ok",
          "timestamp": 1520791895473,
          "user_tz": 300,
          "elapsed": 588,
          "user": {
            "displayName": "Imran Khan",
            "photoUrl": "https://lh3.googleusercontent.com/a/default-user=s128",
            "userId": "116974156090080387307"
          }
        }
      },
      "cell_type": "code",
      "source": [
        "plt.imshow(preds[2].reshape(256, 256))"
      ],
      "execution_count": 12,
      "outputs": [
        {
          "output_type": "execute_result",
          "data": {
            "text/plain": [
              "<matplotlib.image.AxesImage at 0x7f7ab4d8af98>"
            ]
          },
          "metadata": {
            "tags": []
          },
          "execution_count": 12
        },
        {
          "output_type": "display_data",
          "data": {
            "image/png": "[encoded data removed]",
            "text/plain": [
              "<matplotlib.figure.Figure at 0x7f7ab664fb38>"
            ]
          },
          "metadata": {
            "tags": []
          }
        }
      ]
    },
    {
      "metadata": {
        "id": "-aOie88ytsWx",
        "colab_type": "code",
        "colab": {
          "autoexec": {
            "startup": false,
            "wait_interval": 0
          }
        }
      },
      "cell_type": "code",
      "source": [
        "rles, new_test_ids = encode(preds_upsampled, test_ids)"
      ],
      "execution_count": 0,
      "outputs": []
    },
    {
      "metadata": {
        "id": "Ca0jpJRltt-s",
        "colab_type": "code",
        "colab": {
          "autoexec": {
            "startup": false,
            "wait_interval": 0
          }
        }
      },
      "cell_type": "code",
      "source": [
        "submit(new_test_ids, rles)"
      ],
      "execution_count": 0,
      "outputs": []
    },
    {
      "metadata": {
        "id": "3f6tVZe6txM8",
        "colab_type": "code",
        "colab": {
          "autoexec": {
            "startup": false,
            "wait_interval": 0
          }
        }
      },
      "cell_type": "code",
      "source": [
        "pd.read_csv('./submission.csv')"
      ],
      "execution_count": 0,
      "outputs": []
    },
    {
      "metadata": {
        "id": "IpIe9M91tyFq",
        "colab_type": "code",
        "colab": {
          "autoexec": {
            "startup": false,
            "wait_interval": 0
          }
        }
      },
      "cell_type": "code",
      "source": [
        "from google.colab import files\n",
        "\n",
        "files.download('submission.csv')"
      ],
      "execution_count": 0,
      "outputs": []
    }
  ]
}