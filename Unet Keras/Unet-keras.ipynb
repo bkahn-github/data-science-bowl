{
  "nbformat": 4,
  "nbformat_minor": 0,
  "metadata": {
    "colab": {
      "name": "Data_Science_Bowl_Unet_1.ipynb",
      "version": "0.3.2",
      "views": {},
      "default_view": {},
      "provenance": [],
      "collapsed_sections": []
    },
    "kernelspec": {
      "name": "python3",
      "display_name": "Python 3"
    },
    "accelerator": "GPU"
  },
  "cells": [
    {
      "metadata": {
        "id": "vkv71c5e48iO",
        "colab_type": "code",
        "colab": {
          "autoexec": {
            "startup": false,
            "wait_interval": 0
          },
          "output_extras": [
            {
              "item_id": 4
            }
          ],
          "base_uri": "https://localhost:8080/",
          "height": 277
        },
        "outputId": "29f8a92f-caf2-416b-cf94-28128d3bfdb1",
        "executionInfo": {
          "status": "ok",
          "timestamp": 1519063405407,
          "user_tz": 360,
          "elapsed": 6655,
          "user": {
            "displayName": "Imran Khan",
            "photoUrl": "https://lh3.googleusercontent.com/a/default-user=s128",
            "userId": "116974156090080387307"
          }
        }
      },
      "cell_type": "code",
      "source": [
        "!pip install kaggle\n",
        "!pip install keras\n",
        "!pip install tqdm\n",
        "!pip install imageio"
      ],
      "execution_count": 1,
      "outputs": [
        {
          "output_type": "stream",
          "text": [
            "Requirement already satisfied: kaggle in /usr/local/lib/python3.6/dist-packages\r\n",
            "Requirement already satisfied: python-dateutil in /usr/local/lib/python3.6/dist-packages (from kaggle)\r\n",
            "Requirement already satisfied: certifi in /usr/local/lib/python3.6/dist-packages (from kaggle)\r\n",
            "Requirement already satisfied: six>=1.10 in /usr/local/lib/python3.6/dist-packages (from kaggle)\r\n",
            "Requirement already satisfied: urllib3>=1.15 in /usr/local/lib/python3.6/dist-packages (from kaggle)\n",
            "Requirement already satisfied: keras in /usr/local/lib/python3.6/dist-packages\n",
            "Requirement already satisfied: six>=1.9.0 in /usr/local/lib/python3.6/dist-packages (from keras)\n",
            "Requirement already satisfied: pyyaml in /usr/local/lib/python3.6/dist-packages (from keras)\n",
            "Requirement already satisfied: scipy>=0.14 in /usr/local/lib/python3.6/dist-packages (from keras)\n",
            "Requirement already satisfied: numpy>=1.9.1 in /usr/local/lib/python3.6/dist-packages (from keras)\n",
            "Requirement already satisfied: tqdm in /usr/local/lib/python3.6/dist-packages\n",
            "Requirement already satisfied: imageio in /usr/local/lib/python3.6/dist-packages\n",
            "Requirement already satisfied: pillow in /usr/local/lib/python3.6/dist-packages (from imageio)\n",
            "Requirement already satisfied: numpy in /usr/local/lib/python3.6/dist-packages (from imageio)\n",
            "Requirement already satisfied: olefile in /usr/local/lib/python3.6/dist-packages (from pillow->imageio)\n"
          ],
          "name": "stdout"
        }
      ]
    },
    {
      "metadata": {
        "id": "d0TtZkEP567y",
        "colab_type": "code",
        "colab": {
          "autoexec": {
            "startup": false,
            "wait_interval": 0
          }
        }
      },
      "cell_type": "code",
      "source": [
        "!mkdir .kaggle\n",
        "f = open(\".kaggle/kaggle.json\", \"w\")\n",
        "f.write('{\"username\":\"bkkaggle\",\"key\":\"b167cae7e4f9cb983e5dfc0e1d47c661\"}')\n",
        "f.close() "
      ],
      "execution_count": 0,
      "outputs": []
    },
    {
      "metadata": {
        "id": "LfXAhE7J8adF",
        "colab_type": "code",
        "colab": {
          "autoexec": {
            "startup": false,
            "wait_interval": 0
          },
          "output_extras": [
            {
              "item_id": 1
            }
          ],
          "base_uri": "https://localhost:8080/",
          "height": 34
        },
        "outputId": "1b8857d2-cdff-4d12-da1b-5685cb9755e3",
        "executionInfo": {
          "status": "ok",
          "timestamp": 1519063406014,
          "user_tz": 360,
          "elapsed": 523,
          "user": {
            "displayName": "Imran Khan",
            "photoUrl": "https://lh3.googleusercontent.com/a/default-user=s128",
            "userId": "116974156090080387307"
          }
        }
      },
      "cell_type": "code",
      "source": [
        "!cat .kaggle/kaggle.json"
      ],
      "execution_count": 2,
      "outputs": [
        {
          "output_type": "stream",
          "text": [
            "{\"username\":\"bkkaggle\",\"key\":\"b167cae7e4f9cb983e5dfc0e1d47c661\"}"
          ],
          "name": "stdout"
        }
      ]
    },
    {
      "metadata": {
        "id": "zGTx3FRa8e4O",
        "colab_type": "code",
        "colab": {
          "autoexec": {
            "startup": false,
            "wait_interval": 0
          }
        }
      },
      "cell_type": "code",
      "source": [
        "!kaggle competitions download -c data-science-bowl-2018"
      ],
      "execution_count": 0,
      "outputs": []
    },
    {
      "metadata": {
        "id": "n--P33a38vVc",
        "colab_type": "code",
        "colab": {
          "autoexec": {
            "startup": false,
            "wait_interval": 0
          }
        }
      },
      "cell_type": "code",
      "source": [
        "!unzip .kaggle/competitions/data-science-bowl-2018/stage1_train.zip -d .kaggle/competitions/data-science-bowl-2018/train\n",
        "!unzip .kaggle/competitions/data-science-bowl-2018/stage1_test.zip -d .kaggle/competitions/data-science-bowl-2018/test\n",
        "!unzip .kaggle/competitions/data-science-bowl-2018/stage1_train_labels.csv.zip -d .kaggle/competitions/data-science-bowl-2018/labels"
      ],
      "execution_count": 0,
      "outputs": []
    },
    {
      "metadata": {
        "id": "zQUjYpYD5BUe",
        "colab_type": "code",
        "colab": {
          "autoexec": {
            "startup": false,
            "wait_interval": 0
          },
          "output_extras": [
            {
              "item_id": 1
            }
          ],
          "base_uri": "https://localhost:8080/",
          "height": 34
        },
        "outputId": "aaabbae6-0629-491d-e077-b43a685fa9c8",
        "executionInfo": {
          "status": "ok",
          "timestamp": 1519063407797,
          "user_tz": 360,
          "elapsed": 1395,
          "user": {
            "displayName": "Imran Khan",
            "photoUrl": "https://lh3.googleusercontent.com/a/default-user=s128",
            "userId": "116974156090080387307"
          }
        }
      },
      "cell_type": "code",
      "source": [
        "import numpy as np\n",
        "\n",
        "import keras\n",
        "import tensorflow as tf"
      ],
      "execution_count": 3,
      "outputs": [
        {
          "output_type": "stream",
          "text": [
            "Using TensorFlow backend.\n"
          ],
          "name": "stderr"
        }
      ]
    },
    {
      "metadata": {
        "id": "dVKaFLyA5Q9P",
        "colab_type": "code",
        "colab": {
          "autoexec": {
            "startup": false,
            "wait_interval": 0
          },
          "output_extras": [
            {
              "item_id": 1
            }
          ],
          "base_uri": "https://localhost:8080/",
          "height": 34
        },
        "outputId": "a461ac68-c0ab-4395-e28c-806d1357c984",
        "executionInfo": {
          "status": "ok",
          "timestamp": 1519063408912,
          "user_tz": 360,
          "elapsed": 1103,
          "user": {
            "displayName": "Imran Khan",
            "photoUrl": "https://lh3.googleusercontent.com/a/default-user=s128",
            "userId": "116974156090080387307"
          }
        }
      },
      "cell_type": "code",
      "source": [
        "tf.test.gpu_device_name()"
      ],
      "execution_count": 4,
      "outputs": [
        {
          "output_type": "execute_result",
          "data": {
            "text/plain": [
              "'/device:GPU:0'"
            ]
          },
          "metadata": {
            "tags": []
          },
          "execution_count": 4
        }
      ]
    },
    {
      "metadata": {
        "id": "AdH-vWGPAgGE",
        "colab_type": "code",
        "colab": {
          "autoexec": {
            "startup": false,
            "wait_interval": 0
          }
        }
      },
      "cell_type": "code",
      "source": [
        "import os\n",
        "import sys\n",
        "\n",
        "import pandas as pd\n",
        "import numpy as np\n",
        "from tqdm import tqdm\n",
        "\n",
        "import keras\n",
        "import keras.backend as K\n",
        "\n",
        "from keras.models import Model\n",
        "from keras.layers import Input, Conv2D, MaxPooling2D, UpSampling2D, Conv2DTranspose, Dropout, concatenate, Lambda\n",
        "\n",
        "\n",
        "from numpy.random import seed\n",
        "seed(1)\n",
        "\n",
        "from tensorflow import set_random_seed\n",
        "set_random_seed(2)"
      ],
      "execution_count": 0,
      "outputs": []
    },
    {
      "metadata": {
        "id": "JKIYFXO5Anw8",
        "colab_type": "code",
        "colab": {
          "autoexec": {
            "startup": false,
            "wait_interval": 0
          }
        }
      },
      "cell_type": "code",
      "source": [
        "from skimage import io\n",
        "from skimage.color import rgb2gray\n",
        "from skimage.transform import resize\n",
        "from skimage.filters import threshold_otsu\n",
        "from skimage.morphology import label\n",
        "\n",
        "from sklearn.metrics.pairwise import pairwise_distances\n",
        "\n",
        "import matplotlib.pyplot as plt\n",
        "from matplotlib.colors import ListedColormap\n",
        "\n",
        "%matplotlib inline\n",
        "\n",
        "import pathlib\n",
        "import imageio"
      ],
      "execution_count": 0,
      "outputs": []
    },
    {
      "metadata": {
        "id": "qqcMs9mhAwt6",
        "colab_type": "code",
        "colab": {
          "autoexec": {
            "startup": false,
            "wait_interval": 0
          }
        }
      },
      "cell_type": "code",
      "source": [
        "train_path = '.kaggle/competitions/data-science-bowl-2018/train/'\n",
        "test_path = '.kaggle/competitions/data-science-bowl-2018/test/'"
      ],
      "execution_count": 0,
      "outputs": []
    },
    {
      "metadata": {
        "id": "iLBKS60mA5ZO",
        "colab_type": "code",
        "colab": {
          "autoexec": {
            "startup": false,
            "wait_interval": 0
          }
        }
      },
      "cell_type": "code",
      "source": [
        "train_ids = next(os.walk(train_path))[1]\n",
        "test_ids = next(os.walk(test_path))[1]"
      ],
      "execution_count": 0,
      "outputs": []
    },
    {
      "metadata": {
        "id": "4LV_hc4tA671",
        "colab_type": "code",
        "colab": {
          "autoexec": {
            "startup": false,
            "wait_interval": 0
          }
        }
      },
      "cell_type": "code",
      "source": [
        "def iou_metric(y_true_in, y_pred_in, print_table=False):\n",
        "    labels = label(y_true_in > 0.5)\n",
        "    y_pred = label(y_pred_in > 0.5)\n",
        "    \n",
        "    true_objects = len(np.unique(labels))\n",
        "    pred_objects = len(np.unique(y_pred))\n",
        "\n",
        "    intersection = np.histogram2d(labels.flatten(), y_pred.flatten(), bins=(true_objects, pred_objects))[0]\n",
        "\n",
        "    # Compute areas (needed for finding the union between all objects)\n",
        "    area_true = np.histogram(labels, bins = true_objects)[0]\n",
        "    area_pred = np.histogram(y_pred, bins = pred_objects)[0]\n",
        "    area_true = np.expand_dims(area_true, -1)\n",
        "    area_pred = np.expand_dims(area_pred, 0)\n",
        "\n",
        "    # Compute union\n",
        "    union = area_true + area_pred - intersection\n",
        "\n",
        "    # Exclude background from the analysis\n",
        "    intersection = intersection[1:,1:]\n",
        "    union = union[1:,1:]\n",
        "    union[union == 0] = 1e-9\n",
        "\n",
        "    # Compute the intersection over union\n",
        "    iou = intersection / union\n",
        "\n",
        "    # Precision helper function\n",
        "    def precision_at(threshold, iou):\n",
        "        matches = iou > threshold\n",
        "        true_positives = np.sum(matches, axis=1) == 1   # Correct objects\n",
        "        false_positives = np.sum(matches, axis=0) == 0  # Missed objects\n",
        "        false_negatives = np.sum(matches, axis=1) == 0  # Extra objects\n",
        "        tp, fp, fn = np.sum(true_positives), np.sum(false_positives), np.sum(false_negatives)\n",
        "        return tp, fp, fn\n",
        "\n",
        "    # Loop over IoU thresholds\n",
        "    prec = []\n",
        "    if print_table:\n",
        "        print(\"Thresh\\tTP\\tFP\\tFN\\tPrec.\")\n",
        "    for t in np.arange(0.5, 1.0, 0.05):\n",
        "        tp, fp, fn = precision_at(t, iou)\n",
        "        if (tp + fp + fn) > 0:\n",
        "            p = tp / (tp + fp + fn)\n",
        "        else:\n",
        "            p = 0\n",
        "        if print_table:\n",
        "            print(\"{:1.3f}\\t{}\\t{}\\t{}\\t{:1.3f}\".format(t, tp, fp, fn, p))\n",
        "        prec.append(p)\n",
        "    \n",
        "    if print_table:\n",
        "        print(\"AP\\t-\\t-\\t-\\t{:1.3f}\".format(np.mean(prec)))\n",
        "    return np.mean(prec)\n",
        "\n",
        "def iou_metric_batch(y_true_in, y_pred_in):\n",
        "    batch_size = y_true_in.shape[0]\n",
        "    metric = []\n",
        "    for batch in range(batch_size):\n",
        "        value = iou_metric(y_true_in[batch], y_pred_in[batch])\n",
        "        metric.append(value)\n",
        "    return np.array(np.mean(metric), dtype=np.float32)\n",
        "\n",
        "def my_iou_metric(label, pred):\n",
        "    metric_value = tf.py_func(iou_metric_batch, [label, pred], tf.float32)\n",
        "    return metric_value\n",
        "\n",
        "  \n",
        "def dice_coef(y_true, y_pred):\n",
        "    y_true_f = K.flatten(y_true)\n",
        "    y_pred_f = K.flatten(y_pred)\n",
        "    intersection = K.sum(y_true_f * y_pred_f)\n",
        "    return (2. * intersection + 1.) / (K.sum(y_true_f) + K.sum(y_pred_f) + 1.)\n",
        "\n",
        "\n",
        "def dice_coef_loss(y_true, y_pred):\n",
        "    return -dice_coef(y_true, y_pred)"
      ],
      "execution_count": 0,
      "outputs": []
    },
    {
      "metadata": {
        "id": "7gPzmHqeA88v",
        "colab_type": "code",
        "colab": {
          "autoexec": {
            "startup": false,
            "wait_interval": 0
          },
          "output_extras": [
            {
              "item_id": 221
            }
          ],
          "base_uri": "https://localhost:8080/",
          "height": 34
        },
        "outputId": "2899699a-ff84-4223-e75c-96bdd94d8b29",
        "executionInfo": {
          "status": "ok",
          "timestamp": 1519063605792,
          "user_tz": 360,
          "elapsed": 193139,
          "user": {
            "displayName": "Imran Khan",
            "photoUrl": "https://lh3.googleusercontent.com/a/default-user=s128",
            "userId": "116974156090080387307"
          }
        }
      },
      "cell_type": "code",
      "source": [
        "x_train = np.zeros((len(train_ids), 128, 128, 3))\n",
        "y_train = np.zeros((len(train_ids), 128, 128, 1))\n",
        "\n",
        "for i, index in tqdm(enumerate(train_ids), total=len(train_ids)):\n",
        "    img = imageio.imread(train_path + '/' + index + '/images/' + index + \".png\")\n",
        "    img = img[:,:,:3]\n",
        "    img = resize(img, (128, 128, 3), mode='constant')\n",
        "        \n",
        "    masks = np.zeros((128, 128, 1))\n",
        "    mask_files = next(os.walk(train_path + index + '/masks/'))[2]\n",
        "    \n",
        "    for mask in mask_files:\n",
        "        mask = imageio.imread(train_path + '/' + index + '/masks/' + mask)\n",
        "        mask = resize(mask, (128, 128, 1), mode='constant')\n",
        "        masks = np.maximum(masks, mask)\n",
        "    \n",
        "    x_train[i] = img\n",
        "    y_train[i] = masks"
      ],
      "execution_count": 10,
      "outputs": [
        {
          "output_type": "stream",
          "text": [
            "100%|██████████| 670/670 [03:12<00:00,  3.48it/s]\n"
          ],
          "name": "stderr"
        }
      ]
    },
    {
      "metadata": {
        "id": "RpOu8UWuA-7m",
        "colab_type": "code",
        "colab": {
          "autoexec": {
            "startup": false,
            "wait_interval": 0
          },
          "output_extras": [
            {
              "item_id": 2
            }
          ],
          "base_uri": "https://localhost:8080/",
          "height": 34
        },
        "outputId": "e8870c08-aa01-4023-9493-76541b6df318",
        "executionInfo": {
          "status": "ok",
          "timestamp": 1519063607281,
          "user_tz": 360,
          "elapsed": 1460,
          "user": {
            "displayName": "Imran Khan",
            "photoUrl": "https://lh3.googleusercontent.com/a/default-user=s128",
            "userId": "116974156090080387307"
          }
        }
      },
      "cell_type": "code",
      "source": [
        "x_test = np.zeros((len(test_ids), 128, 128, 3))\n",
        "\n",
        "for i, index in tqdm(enumerate(test_ids), total=len(test_ids)):\n",
        "    img = imageio.imread(test_path + '/' + index + '/images/' + index + \".png\")\n",
        "    img = img[:,:,:3]\n",
        "    img = resize(img, (128, 128, 3), mode='constant')\n",
        "    \n",
        "    x_test[i] = img"
      ],
      "execution_count": 11,
      "outputs": [
        {
          "output_type": "stream",
          "text": [
            "100%|██████████| 65/65 [00:01<00:00, 56.38it/s]\n"
          ],
          "name": "stderr"
        }
      ]
    },
    {
      "metadata": {
        "id": "ChlbV7TsBbMo",
        "colab_type": "code",
        "colab": {
          "autoexec": {
            "startup": false,
            "wait_interval": 0
          },
          "output_extras": [
            {
              "item_id": 1
            }
          ],
          "base_uri": "https://localhost:8080/",
          "height": 34
        },
        "outputId": "4cea9667-b022-4d47-e3a0-1cb081dfbb4c",
        "executionInfo": {
          "status": "ok",
          "timestamp": 1519063608038,
          "user_tz": 360,
          "elapsed": 696,
          "user": {
            "displayName": "Imran Khan",
            "photoUrl": "https://lh3.googleusercontent.com/a/default-user=s128",
            "userId": "116974156090080387307"
          }
        }
      },
      "cell_type": "code",
      "source": [
        "x_test_sizes = []\n",
        "\n",
        "for i, index in tqdm(enumerate(test_ids), total=len(test_ids)):\n",
        "    img = imageio.imread(test_path + '/' + index + '/images/' + index + \".png\")\n",
        "    x = img.shape[0]\n",
        "    y = img.shape[1]\n",
        "    \n",
        "    x_test_sizes.append([x, y])"
      ],
      "execution_count": 12,
      "outputs": [
        {
          "output_type": "stream",
          "text": [
            "100%|██████████| 65/65 [00:00<00:00, 145.31it/s]\n"
          ],
          "name": "stderr"
        }
      ]
    },
    {
      "metadata": {
        "id": "jjs228Kb0-_2",
        "colab_type": "code",
        "colab": {
          "autoexec": {
            "startup": false,
            "wait_interval": 0
          },
          "output_extras": [
            {
              "item_id": 1
            },
            {
              "item_id": 2
            }
          ],
          "base_uri": "https://localhost:8080/",
          "height": 286
        },
        "outputId": "7d04a629-2991-45b9-d270-ea2afbbb97a5",
        "executionInfo": {
          "status": "ok",
          "timestamp": 1519063608719,
          "user_tz": 360,
          "elapsed": 600,
          "user": {
            "displayName": "Imran Khan",
            "photoUrl": "https://lh3.googleusercontent.com/a/default-user=s128",
            "userId": "116974156090080387307"
          }
        }
      },
      "cell_type": "code",
      "source": [
        "plt.imshow(x_train[0], cmap='viridis')"
      ],
      "execution_count": 13,
      "outputs": [
        {
          "output_type": "execute_result",
          "data": {
            "text/plain": [
              "<matplotlib.image.AxesImage at 0x7fbe79cc96a0>"
            ]
          },
          "metadata": {
            "tags": []
          },
          "execution_count": 13
        },
        {
          "output_type": "display_data",
          "data": {
            "image/png": "[encoded data removed]",
            "text/plain": [
              "<matplotlib.figure.Figure at 0x7fbe7cce5c88>"
            ]
          },
          "metadata": {
            "tags": []
          }
        }
      ]
    },
    {
      "metadata": {
        "id": "SpNoB3K8BdEK",
        "colab_type": "code",
        "colab": {
          "autoexec": {
            "startup": false,
            "wait_interval": 0
          },
          "output_extras": [
            {
              "item_id": 1
            },
            {
              "item_id": 2
            }
          ],
          "base_uri": "https://localhost:8080/",
          "height": 286
        },
        "outputId": "59912901-b71c-4962-fb19-5b247265c930",
        "executionInfo": {
          "status": "ok",
          "timestamp": 1519063609281,
          "user_tz": 360,
          "elapsed": 448,
          "user": {
            "displayName": "Imran Khan",
            "photoUrl": "https://lh3.googleusercontent.com/a/default-user=s128",
            "userId": "116974156090080387307"
          }
        }
      },
      "cell_type": "code",
      "source": [
        "plt.imshow(y_train[0].reshape(128, 128), cmap='viridis')"
      ],
      "execution_count": 14,
      "outputs": [
        {
          "output_type": "execute_result",
          "data": {
            "text/plain": [
              "<matplotlib.image.AxesImage at 0x7fbe79be3278>"
            ]
          },
          "metadata": {
            "tags": []
          },
          "execution_count": 14
        },
        {
          "output_type": "display_data",
          "data": {
            "image/png": "[encoded data removed]",
            "text/plain": [
              "<matplotlib.figure.Figure at 0x7fbe7cce5630>"
            ]
          },
          "metadata": {
            "tags": []
          }
        }
      ]
    },
    {
      "metadata": {
        "id": "oYF8FryXBeWg",
        "colab_type": "code",
        "colab": {
          "autoexec": {
            "startup": false,
            "wait_interval": 0
          }
        }
      },
      "cell_type": "code",
      "source": [
        "input_conv = Input((128, 128, 3))\n",
        "\n",
        "s = Lambda(lambda x: x / 255) (input_conv)\n",
        "\n",
        "# smaller\n",
        "conv_1 = Conv2D(16, (3,3), kernel_initializer='he_normal', activation='relu', padding='same')(s)\n",
        "conv_2 = Conv2D(16, (3,3), kernel_initializer='he_normal', activation='relu', padding='same')(conv_1)\n",
        "pooling_1 = MaxPooling2D((2,2))(conv_2)\n",
        "\n",
        "conv_3 = Conv2D(32, (3,3), kernel_initializer='he_normal', activation='relu', padding='same')(pooling_1)\n",
        "conv_4 = Conv2D(32, (3,3), kernel_initializer='he_normal', activation='relu', padding='same')(conv_3)\n",
        "pooling_2 = MaxPooling2D((2,2))(conv_4)\n",
        "\n",
        "conv_5 = Conv2D(64, (3,3), kernel_initializer='he_normal', activation='relu', padding='same')(pooling_2)\n",
        "conv_6 = Conv2D(64, (3,3), kernel_initializer='he_normal', activation='relu', padding='same')(conv_5)\n",
        "pooling_3 = MaxPooling2D((2,2))(conv_6)\n",
        "\n",
        "conv_7 = Conv2D(128, (3,3), kernel_initializer='he_normal', activation='relu', padding='same')(pooling_3)\n",
        "conv_8 = Conv2D(128, (3,3), kernel_initializer='he_normal', activation='relu', padding='same')(conv_7)\n",
        "pooling_4 = MaxPooling2D((2,2))(conv_8)\n",
        "\n",
        "# smallest\n",
        "conv_9 = Conv2D(256, (3,3), kernel_initializer='he_normal', activation='relu', padding='same')(pooling_4)\n",
        "conv_10 = Conv2D(256, (3,3), kernel_initializer='he_normal', activation='relu', padding='same')(conv_9)\n",
        "\n",
        "# larger\n",
        "conv_10 = Conv2DTranspose(128, (2,2), kernel_initializer='he_normal', strides=(2, 2), padding='same')(conv_10)\n",
        "concat_1 = concatenate([conv_10, conv_8])\n",
        "conv_11 = Conv2D(128, (3,3), kernel_initializer='he_normal', activation='relu', padding='same')(concat_1)\n",
        "conv_12 = Conv2D(128, (3,3), kernel_initializer='he_normal', activation='relu', padding='same')(conv_11)\n",
        "\n",
        "conv_13 = Conv2DTranspose(64, (2,2), kernel_initializer='he_normal', strides=(2, 2), padding='same')(conv_12)\n",
        "concat_2 = concatenate([conv_13, conv_6])\n",
        "conv_14 = Conv2D(64, (3,3), kernel_initializer='he_normal', activation='relu', padding='same')(concat_2)\n",
        "conv_15 = Conv2D(64, (3,3), kernel_initializer='he_normal', activation='relu', padding='same')(conv_14)\n",
        "\n",
        "conv_16 = Conv2DTranspose(32, (2,2), kernel_initializer='he_normal', strides=(2, 2), padding='same')(conv_15)\n",
        "concat_3 = concatenate([conv_16, conv_4])\n",
        "conv_17 = Conv2D(32, (3,3), kernel_initializer='he_normal', activation='relu', padding='same')(concat_3)\n",
        "conv_18 = Conv2D(32, (3,3), kernel_initializer='he_normal', activation='relu', padding='same')(conv_17)\n",
        "\n",
        "conv_19 = Conv2DTranspose(16, (2,2), kernel_initializer='he_normal', strides=(2, 2), padding='same')(conv_18)\n",
        "concat_3 = concatenate([conv_19, conv_2])\n",
        "conv_20 = Conv2D(16, (3,3), kernel_initializer='he_normal', activation='relu', padding='same')(concat_3)\n",
        "conv_21 = Conv2D(16, (3,3), kernel_initializer='he_normal', activation='relu', padding='same')(conv_20)\n",
        "\n",
        "outputs = Conv2D(1, (1, 1), activation='sigmoid') (conv_21)\n",
        "\n",
        "model = Model(inputs=input_conv, outputs=outputs)\n",
        "model.compile(optimizer='adam', loss='binary_crossentropy', metrics=[my_iou_metric])\n",
        "# model.summary()"
      ],
      "execution_count": 0,
      "outputs": []
    },
    {
      "metadata": {
        "id": "Hy5G0wV2Bi3S",
        "colab_type": "code",
        "colab": {
          "autoexec": {
            "startup": false,
            "wait_interval": 0
          },
          "output_extras": [
            {
              "item_id": 80
            },
            {
              "item_id": 112
            },
            {
              "item_id": 209
            },
            {
              "item_id": 210
            }
          ],
          "base_uri": "https://localhost:8080/",
          "height": 418
        },
        "outputId": "2f5864c2-01ae-4633-d1ef-ed4242440550",
        "executionInfo": {
          "status": "ok",
          "timestamp": 1519065616492,
          "user_tz": 360,
          "elapsed": 89426,
          "user": {
            "displayName": "Imran Khan",
            "photoUrl": "https://lh3.googleusercontent.com/a/default-user=s128",
            "userId": "116974156090080387307"
          }
        }
      },
      "cell_type": "code",
      "source": [
        "model.fit(x_train, y_train, batch_size=8, validation_split=0.1, epochs=10)"
      ],
      "execution_count": 190,
      "outputs": [
        {
          "output_type": "stream",
          "text": [
            "Train on 603 samples, validate on 67 samples\n",
            "Epoch 1/10\n",
            "603/603 [==============================] - 9s 15ms/step - loss: 0.0847 - my_iou_metric: 0.4041 - val_loss: 0.0876 - val_my_iou_metric: 0.3842\n",
            "Epoch 2/10\n",
            "603/603 [==============================] - 9s 15ms/step - loss: 0.0833 - my_iou_metric: 0.4093 - val_loss: 0.0891 - val_my_iou_metric: 0.3691\n",
            "Epoch 3/10\n",
            "603/603 [==============================] - 9s 15ms/step - loss: 0.0834 - my_iou_metric: 0.4116 - val_loss: 0.0849 - val_my_iou_metric: 0.4011\n",
            "Epoch 4/10\n",
            "416/603 [===================>..........] - ETA: 2s - loss: 0.0798 - my_iou_metric: 0.4271"
          ],
          "name": "stdout"
        },
        {
          "output_type": "stream",
          "text": [
            "603/603 [==============================] - 9s 15ms/step - loss: 0.0827 - my_iou_metric: 0.4183 - val_loss: 0.0982 - val_my_iou_metric: 0.3385\n",
            "Epoch 5/10\n",
            "603/603 [==============================] - 9s 15ms/step - loss: 0.0810 - my_iou_metric: 0.4106 - val_loss: 0.0893 - val_my_iou_metric: 0.4414\n",
            "Epoch 6/10\n",
            "603/603 [==============================] - 9s 15ms/step - loss: 0.0795 - my_iou_metric: 0.4259 - val_loss: 0.0866 - val_my_iou_metric: 0.3638\n",
            "Epoch 7/10\n",
            "603/603 [==============================] - 9s 15ms/step - loss: 0.0768 - my_iou_metric: 0.4355 - val_loss: 0.0829 - val_my_iou_metric: 0.4080\n",
            "Epoch 8/10\n",
            " 80/603 [==>...........................] - ETA: 7s - loss: 0.0796 - my_iou_metric: 0.4125"
          ],
          "name": "stdout"
        },
        {
          "output_type": "stream",
          "text": [
            "603/603 [==============================] - 9s 15ms/step - loss: 0.0751 - my_iou_metric: 0.4388 - val_loss: 0.0837 - val_my_iou_metric: 0.4004\n",
            "Epoch 9/10\n",
            "603/603 [==============================] - 9s 15ms/step - loss: 0.0778 - my_iou_metric: 0.4320 - val_loss: 0.0816 - val_my_iou_metric: 0.4298\n",
            "Epoch 10/10\n",
            "603/603 [==============================] - 9s 15ms/step - loss: 0.0762 - my_iou_metric: 0.4361 - val_loss: 0.0822 - val_my_iou_metric: 0.4321\n"
          ],
          "name": "stdout"
        },
        {
          "output_type": "execute_result",
          "data": {
            "text/plain": [
              "<keras.callbacks.History at 0x7fbe72499160>"
            ]
          },
          "metadata": {
            "tags": []
          },
          "execution_count": 190
        }
      ]
    },
    {
      "metadata": {
        "id": "IwAqNOqkHM22",
        "colab_type": "code",
        "colab": {
          "autoexec": {
            "startup": false,
            "wait_interval": 0
          },
          "output_extras": [
            {
              "item_id": 1
            }
          ],
          "base_uri": "https://localhost:8080/",
          "height": 34
        },
        "outputId": "cbf206d6-c4f1-4e56-a5b4-5b4d4537a54e",
        "executionInfo": {
          "status": "ok",
          "timestamp": 1519065616981,
          "user_tz": 360,
          "elapsed": 390,
          "user": {
            "displayName": "Imran Khan",
            "photoUrl": "https://lh3.googleusercontent.com/a/default-user=s128",
            "userId": "116974156090080387307"
          }
        }
      },
      "cell_type": "code",
      "source": [
        "preds = model.predict(x_test, verbose=1)"
      ],
      "execution_count": 191,
      "outputs": [
        {
          "output_type": "stream",
          "text": [
            "65/65 [==============================] - 0s 3ms/step\n"
          ],
          "name": "stdout"
        }
      ]
    },
    {
      "metadata": {
        "id": "WULC0rYNGb-F",
        "colab_type": "code",
        "colab": {
          "autoexec": {
            "startup": false,
            "wait_interval": 0
          },
          "output_extras": [
            {
              "item_id": 1
            },
            {
              "item_id": 2
            }
          ],
          "base_uri": "https://localhost:8080/",
          "height": 286
        },
        "outputId": "0b2544ea-4aa7-46dc-af42-15f0d3629c32",
        "executionInfo": {
          "status": "ok",
          "timestamp": 1519065618017,
          "user_tz": 360,
          "elapsed": 615,
          "user": {
            "displayName": "Imran Khan",
            "photoUrl": "https://lh3.googleusercontent.com/a/default-user=s128",
            "userId": "116974156090080387307"
          }
        }
      },
      "cell_type": "code",
      "source": [
        "plt.imshow(preds[1].reshape(128, 128), cmap='viridis')"
      ],
      "execution_count": 192,
      "outputs": [
        {
          "output_type": "execute_result",
          "data": {
            "text/plain": [
              "<matplotlib.image.AxesImage at 0x7fbe721f9b70>"
            ]
          },
          "metadata": {
            "tags": []
          },
          "execution_count": 192
        },
        {
          "output_type": "display_data",
          "data": {
            "image/png": "[encoded data removed]",
            "text/plain": [
              "<matplotlib.figure.Figure at 0x7fbe7223d390>"
            ]
          },
          "metadata": {
            "tags": []
          }
        }
      ]
    },
    {
      "metadata": {
        "id": "VQlYhjWkHPnF",
        "colab_type": "code",
        "colab": {
          "autoexec": {
            "startup": false,
            "wait_interval": 0
          }
        }
      },
      "cell_type": "code",
      "source": [
        "preds = (preds > 0.5).astype(np.uint8)"
      ],
      "execution_count": 0,
      "outputs": []
    },
    {
      "metadata": {
        "id": "O0pQtCKoOhLD",
        "colab_type": "code",
        "colab": {
          "autoexec": {
            "startup": false,
            "wait_interval": 0
          },
          "output_extras": [
            {
              "item_id": 1
            },
            {
              "item_id": 2
            }
          ],
          "base_uri": "https://localhost:8080/",
          "height": 286
        },
        "outputId": "8df02ee2-0828-4340-d805-457a5128851d",
        "executionInfo": {
          "status": "ok",
          "timestamp": 1519065620012,
          "user_tz": 360,
          "elapsed": 890,
          "user": {
            "displayName": "Imran Khan",
            "photoUrl": "https://lh3.googleusercontent.com/a/default-user=s128",
            "userId": "116974156090080387307"
          }
        }
      },
      "cell_type": "code",
      "source": [
        "plt.imshow(preds[1].reshape(128, 128), cmap='viridis')"
      ],
      "execution_count": 194,
      "outputs": [
        {
          "output_type": "execute_result",
          "data": {
            "text/plain": [
              "<matplotlib.image.AxesImage at 0x7fbe721b8160>"
            ]
          },
          "metadata": {
            "tags": []
          },
          "execution_count": 194
        },
        {
          "output_type": "display_data",
          "data": {
            "image/png": "[encoded data removed]",
            "text/plain": [
              "<matplotlib.figure.Figure at 0x7fbe721da940>"
            ]
          },
          "metadata": {
            "tags": []
          }
        }
      ]
    },
    {
      "metadata": {
        "id": "yqdkJ_2sHcpP",
        "colab_type": "code",
        "colab": {
          "autoexec": {
            "startup": false,
            "wait_interval": 0
          }
        }
      },
      "cell_type": "code",
      "source": [
        "preds_test_upsampled = []\n",
        "for i in range(len(preds)):\n",
        "    preds_test_upsampled.append(resize(np.squeeze(preds[i]), x_test_sizes[i], mode='constant', preserve_range=True))"
      ],
      "execution_count": 0,
      "outputs": []
    },
    {
      "metadata": {
        "id": "O0pGWpHsHd7b",
        "colab_type": "code",
        "colab": {
          "autoexec": {
            "startup": false,
            "wait_interval": 0
          },
          "output_extras": [
            {
              "item_id": 1
            },
            {
              "item_id": 2
            }
          ],
          "base_uri": "https://localhost:8080/",
          "height": 286
        },
        "outputId": "325f27dd-a02f-4c86-c5da-5051f8b28420",
        "executionInfo": {
          "status": "ok",
          "timestamp": 1519065621990,
          "user_tz": 360,
          "elapsed": 472,
          "user": {
            "displayName": "Imran Khan",
            "photoUrl": "https://lh3.googleusercontent.com/a/default-user=s128",
            "userId": "116974156090080387307"
          }
        }
      },
      "cell_type": "code",
      "source": [
        "plt.imshow(preds_test_upsampled[1], cmap='viridis')"
      ],
      "execution_count": 196,
      "outputs": [
        {
          "output_type": "execute_result",
          "data": {
            "text/plain": [
              "<matplotlib.image.AxesImage at 0x7fbe73b61198>"
            ]
          },
          "metadata": {
            "tags": []
          },
          "execution_count": 196
        },
        {
          "output_type": "display_data",
          "data": {
            "image/png": "[encoded data removed]",
            "text/plain": [
              "<matplotlib.figure.Figure at 0x7fbe7260ae80>"
            ]
          },
          "metadata": {
            "tags": []
          }
        }
      ]
    },
    {
      "metadata": {
        "id": "kAB6lU5lHpua",
        "colab_type": "code",
        "colab": {
          "autoexec": {
            "startup": false,
            "wait_interval": 0
          }
        }
      },
      "cell_type": "code",
      "source": [
        "def rle_encoding(x):\n",
        "    dots = np.where(x.T.flatten() == 1)[0]\n",
        "    run_lengths = []\n",
        "    prev = -2\n",
        "    for b in dots:\n",
        "        if (b>prev+1): run_lengths.extend((b + 1, 0))\n",
        "        run_lengths[-1] += 1\n",
        "        prev = b\n",
        "    return run_lengths\n",
        "\n",
        "def prob_to_rles(x, cutoff=0.5):\n",
        "    lab_img = label(x > cutoff)\n",
        "    for i in range(1, lab_img.max() + 1):\n",
        "        yield rle_encoding(lab_img == i)"
      ],
      "execution_count": 0,
      "outputs": []
    },
    {
      "metadata": {
        "id": "UfDYgoEbHrex",
        "colab_type": "code",
        "colab": {
          "autoexec": {
            "startup": false,
            "wait_interval": 0
          }
        }
      },
      "cell_type": "code",
      "source": [
        "new_test_ids = []\n",
        "rles = []\n",
        "for n, id_ in enumerate(test_ids):\n",
        "    rle = list(prob_to_rles(preds_test_upsampled[n]))\n",
        "    rles.extend(rle)\n",
        "    new_test_ids.extend([id_] * len(rle))"
      ],
      "execution_count": 0,
      "outputs": []
    },
    {
      "metadata": {
        "id": "hpyUlad7Hswp",
        "colab_type": "code",
        "colab": {
          "autoexec": {
            "startup": false,
            "wait_interval": 0
          },
          "output_extras": [
            {
              "item_id": 1
            }
          ],
          "base_uri": "https://localhost:8080/",
          "height": 34
        },
        "outputId": "920e5f85-4a49-484c-ad8e-8aeb505e7f15",
        "executionInfo": {
          "status": "ok",
          "timestamp": 1519065625495,
          "user_tz": 360,
          "elapsed": 431,
          "user": {
            "displayName": "Imran Khan",
            "photoUrl": "https://lh3.googleusercontent.com/a/default-user=s128",
            "userId": "116974156090080387307"
          }
        }
      },
      "cell_type": "code",
      "source": [
        "len(test_ids), len(new_test_ids)"
      ],
      "execution_count": 199,
      "outputs": [
        {
          "output_type": "execute_result",
          "data": {
            "text/plain": [
              "(65, 2056)"
            ]
          },
          "metadata": {
            "tags": []
          },
          "execution_count": 199
        }
      ]
    },
    {
      "metadata": {
        "id": "4ashCSbaHuYO",
        "colab_type": "code",
        "colab": {
          "autoexec": {
            "startup": false,
            "wait_interval": 0
          }
        }
      },
      "cell_type": "code",
      "source": [
        "sub = pd.DataFrame()\n",
        "sub['ImageId'] = new_test_ids\n",
        "sub['EncodedPixels'] = pd.Series(rles).apply(lambda x: ' '.join(str(y) for y in x))\n",
        "sub.to_csv('submission.csv', index=False)"
      ],
      "execution_count": 0,
      "outputs": []
    },
    {
      "metadata": {
        "id": "wQb9k-vNHwJh",
        "colab_type": "code",
        "colab": {
          "autoexec": {
            "startup": false,
            "wait_interval": 0
          },
          "output_extras": [
            {
              "item_id": 1
            }
          ],
          "base_uri": "https://localhost:8080/",
          "height": 34
        },
        "outputId": "a6c8a772-70c5-4359-c958-948cc6161c09",
        "executionInfo": {
          "status": "ok",
          "timestamp": 1519065627526,
          "user_tz": 360,
          "elapsed": 389,
          "user": {
            "displayName": "Imran Khan",
            "photoUrl": "https://lh3.googleusercontent.com/a/default-user=s128",
            "userId": "116974156090080387307"
          }
        }
      },
      "cell_type": "code",
      "source": [
        "sub['ImageId'].nunique()"
      ],
      "execution_count": 201,
      "outputs": [
        {
          "output_type": "execute_result",
          "data": {
            "text/plain": [
              "65"
            ]
          },
          "metadata": {
            "tags": []
          },
          "execution_count": 201
        }
      ]
    },
    {
      "metadata": {
        "id": "Rls0Qy3AHx_g",
        "colab_type": "code",
        "colab": {
          "autoexec": {
            "startup": false,
            "wait_interval": 0
          },
          "output_extras": [
            {
              "item_id": 1
            }
          ],
          "base_uri": "https://localhost:8080/",
          "height": 202
        },
        "outputId": "7b4e34d2-983a-4d9b-a626-0188fb2c216d",
        "executionInfo": {
          "status": "ok",
          "timestamp": 1519065628386,
          "user_tz": 360,
          "elapsed": 574,
          "user": {
            "displayName": "Imran Khan",
            "photoUrl": "https://lh3.googleusercontent.com/a/default-user=s128",
            "userId": "116974156090080387307"
          }
        }
      },
      "cell_type": "code",
      "source": [
        "sub.head()"
      ],
      "execution_count": 202,
      "outputs": [
        {
          "output_type": "execute_result",
          "data": {
            "text/html": [
              "<div>\n",
              "<style scoped>\n",
              "    .dataframe tbody tr th:only-of-type {\n",
              "        vertical-align: middle;\n",
              "    }\n",
              "\n",
              "    .dataframe tbody tr th {\n",
              "        vertical-align: top;\n",
              "    }\n",
              "\n",
              "    .dataframe thead th {\n",
              "        text-align: right;\n",
              "    }\n",
              "</style>\n",
              "<table border=\"1\" class=\"dataframe\">\n",
              "  <thead>\n",
              "    <tr style=\"text-align: right;\">\n",
              "      <th></th>\n",
              "      <th>ImageId</th>\n",
              "      <th>EncodedPixels</th>\n",
              "    </tr>\n",
              "  </thead>\n",
              "  <tbody>\n",
              "    <tr>\n",
              "      <th>0</th>\n",
              "      <td>4f949bd8d914bbfa06f40d6a0e2b5b75c38bf53dbcbafc...</td>\n",
              "      <td>23 35 412 38 802 43 1192 44 1582 52 1972 52 23...</td>\n",
              "    </tr>\n",
              "    <tr>\n",
              "      <th>1</th>\n",
              "      <td>4f949bd8d914bbfa06f40d6a0e2b5b75c38bf53dbcbafc...</td>\n",
              "      <td>50366 3 50756 4 51146 9 51535 11 51923 15 5231...</td>\n",
              "    </tr>\n",
              "    <tr>\n",
              "      <th>2</th>\n",
              "      <td>4f949bd8d914bbfa06f40d6a0e2b5b75c38bf53dbcbafc...</td>\n",
              "      <td>41009 6 41399 8 41789 9 42177 11 42566 12 4295...</td>\n",
              "    </tr>\n",
              "    <tr>\n",
              "      <th>3</th>\n",
              "      <td>4f949bd8d914bbfa06f40d6a0e2b5b75c38bf53dbcbafc...</td>\n",
              "      <td>45314 9 45703 10 46091 12 46481 12 46871 12 47...</td>\n",
              "    </tr>\n",
              "    <tr>\n",
              "      <th>4</th>\n",
              "      <td>4f949bd8d914bbfa06f40d6a0e2b5b75c38bf53dbcbafc...</td>\n",
              "      <td>50390 9 50779 11 51164 21 51554 21 51944 21 52...</td>\n",
              "    </tr>\n",
              "  </tbody>\n",
              "</table>\n",
              "</div>"
            ],
            "text/plain": [
              "                                             ImageId  \\\n",
              "0  4f949bd8d914bbfa06f40d6a0e2b5b75c38bf53dbcbafc...   \n",
              "1  4f949bd8d914bbfa06f40d6a0e2b5b75c38bf53dbcbafc...   \n",
              "2  4f949bd8d914bbfa06f40d6a0e2b5b75c38bf53dbcbafc...   \n",
              "3  4f949bd8d914bbfa06f40d6a0e2b5b75c38bf53dbcbafc...   \n",
              "4  4f949bd8d914bbfa06f40d6a0e2b5b75c38bf53dbcbafc...   \n",
              "\n",
              "                                       EncodedPixels  \n",
              "0  23 35 412 38 802 43 1192 44 1582 52 1972 52 23...  \n",
              "1  50366 3 50756 4 51146 9 51535 11 51923 15 5231...  \n",
              "2  41009 6 41399 8 41789 9 42177 11 42566 12 4295...  \n",
              "3  45314 9 45703 10 46091 12 46481 12 46871 12 47...  \n",
              "4  50390 9 50779 11 51164 21 51554 21 51944 21 52...  "
            ]
          },
          "metadata": {
            "tags": []
          },
          "execution_count": 202
        }
      ]
    },
    {
      "metadata": {
        "id": "UpcyPs76H2iG",
        "colab_type": "code",
        "colab": {
          "autoexec": {
            "startup": false,
            "wait_interval": 0
          }
        }
      },
      "cell_type": "code",
      "source": [
        "from google.colab import files\n",
        "files.download('./submission.csv')"
      ],
      "execution_count": 0,
      "outputs": []
    }
  ]
}