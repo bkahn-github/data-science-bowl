{
  "nbformat": 4,
  "nbformat_minor": 0,
  "metadata": {
    "colab": {
      "name": "data-science-bowl-pytorch-unet",
      "version": "0.3.2",
      "views": {},
      "default_view": {},
      "provenance": [],
      "collapsed_sections": []
    },
    "kernelspec": {
      "name": "python3",
      "display_name": "Python 3"
    },
    "accelerator": "GPU"
  },
  "cells": [
    {
      "metadata": {
        "id": "7Mh8DJJSbd2T",
        "colab_type": "code",
        "colab": {
          "autoexec": {
            "startup": false,
            "wait_interval": 0
          }
        }
      },
      "cell_type": "code",
      "source": [
        "import os\n",
        "!rm -rf *\n",
        "!rm -rf .kaggle/\n",
        "!git clone https://github.com/bkahn-github/data-science-bowl.git\n",
        "!pip install -r data-science-bowl/requirements.txt\n",
        "!mkdir ~/.kaggle\n",
        "f = open(\".kaggle/kaggle.json\", \"w\")\n",
        "f.write('{\"username\":\"bkkaggle\",\"key\":\"bf4e62680116284087ace0484990f87a\"}')\n",
        "f.close()\n",
        "!kaggle competitions download -c data-science-bowl-2018\n",
        "!unzip ~/.kaggle/competitions/data-science-bowl-2018/stage1_train.zip -d ~/.kaggle/competitions/data-science-bowl-2018/train\n",
        "!unzip ~/.kaggle/competitions/data-science-bowl-2018/stage1_test.zip -d ~/.kaggle/competitions/data-science-bowl-2018/test\n",
        "!unzip ~/.kaggle/competitions/data-science-bowl-2018/stage1_train_labels.csv.zip -d ~/.kaggle/competitions/data-science-bowl-2018/labels\n",
        "os.chdir('data-science-bowl/pytorchUnet')\n",
        "\n",
        "!pip3 install http://download.pytorch.org/whl/cu80/torch-0.3.0.post4-cp36-cp36m-linux_x86_64.whl \n",
        "!pip3 install torchvision"
      ],
      "execution_count": 0,
      "outputs": []
    },
    {
      "metadata": {
        "id": "WiaHNzhpbnIv",
        "colab_type": "code",
        "colab": {
          "autoexec": {
            "startup": false,
            "wait_interval": 0
          }
        }
      },
      "cell_type": "code",
      "source": [
        "os.chdir('../../')\n",
        "!rm -rf data-science-bowl/\n",
        "%reload_ext autoreload\n",
        "%autoreload 0\n",
        "!git clone https://github.com/bkahn-github/data-science-bowl.git\n",
        "os.chdir('data-science-bowl/pytorchUnet')"
      ],
      "execution_count": 0,
      "outputs": []
    },
    {
      "metadata": {
        "id": "Md6VniycbxQM",
        "colab_type": "code",
        "colab": {
          "autoexec": {
            "startup": false,
            "wait_interval": 0
          }
        }
      },
      "cell_type": "code",
      "source": [
        "import PIL\n",
        "import numpy as np\n",
        "import pandas as pd\n",
        "import matplotlib.pyplot as plt\n",
        "\n",
        "import torch\n",
        "from torch.autograd import Variable\n",
        "from torch.backends import cudnn\n",
        "\n",
        "from tqdm import tqdm, tqdm_notebook\n",
        "\n",
        "np.random.seed(123)\n",
        "torch.manual_seed(123)\n",
        "torch.cuda.manual_seed(123)\n",
        "cudnn.benchmark = True\n",
        "\n",
        "%matplotlib inline\n",
        "\n",
        "from load_data import load_data\n",
        "from metrics import dice_loss, iou\n",
        "from model import UNet\n",
        "from process_data import threshold_preds, predict, encode, upsample\n",
        "from visualize import show_val, show_test\n",
        "from submit import submit"
      ],
      "execution_count": 0,
      "outputs": []
    },
    {
      "metadata": {
        "id": "fVQfVj4TuEAY",
        "colab_type": "code",
        "colab": {
          "autoexec": {
            "startup": false,
            "wait_interval": 0
          },
          "output_extras": [
            {
              "item_id": 46
            }
          ],
          "base_uri": "https://localhost:8080/",
          "height": 69
        },
        "outputId": "c3258c5d-fa2b-4a2f-dc66-2c11f7cb9380",
        "executionInfo": {
          "status": "ok",
          "timestamp": 1519705400313,
          "user_tz": 360,
          "elapsed": 54997,
          "user": {
            "displayName": "Imran Khan",
            "photoUrl": "https://lh3.googleusercontent.com/a/default-user=s128",
            "userId": "116974156090080387307"
          }
        }
      },
      "cell_type": "code",
      "source": [
        "train, val, x_test_sizes, train_dataset, val_dataset, test_dataset, train_dataloader, val_dataloader, test_dataloader = load_data()"
      ],
      "execution_count": 3,
      "outputs": [
        {
          "output_type": "stream",
          "text": [
            "100%|██████████| 670/670 [00:53<00:00, 12.45it/s]\n",
            "100%|██████████| 65/65 [00:00<00:00, 146.04it/s]\n",
            "100%|██████████| 65/65 [00:00<00:00, 148.64it/s]\n"
          ],
          "name": "stderr"
        }
      ]
    },
    {
      "metadata": {
        "id": "tC3j3R1BgPnp",
        "colab_type": "code",
        "colab": {
          "autoexec": {
            "startup": false,
            "wait_interval": 0
          }
        }
      },
      "cell_type": "code",
      "source": [
        "import torch\n",
        "import torch.nn as nn\n",
        "import torch.nn.functional as F\n",
        "\n",
        "class double_conv(nn.Module):\n",
        "    def __init__(self, in_ch, out_ch):\n",
        "        super(double_conv, self).__init__()\n",
        "        self.conv = nn.Sequential(\n",
        "            nn.Conv2d(in_ch, out_ch, 3, padding=1),\n",
        "            nn.BatchNorm2d(out_ch),\n",
        "            nn.ReLU(inplace=True),\n",
        "            nn.Dropout2d(0.2),\n",
        "            nn.Conv2d(out_ch, out_ch, 3, padding=1),\n",
        "            nn.BatchNorm2d(out_ch),\n",
        "            nn.ReLU(inplace=True),\n",
        "            nn.Dropout2d(0.2)\n",
        "        )\n",
        "\n",
        "    def forward(self, x):\n",
        "        x = self.conv(x)\n",
        "        return x\n",
        "\n",
        "class inconv(nn.Module):\n",
        "    def __init__(self, in_ch, out_ch):\n",
        "        super(inconv, self).__init__()\n",
        "        self.conv = double_conv(in_ch, out_ch)\n",
        "\n",
        "    def forward(self, x):\n",
        "        x = self.conv(x)\n",
        "        return x\n",
        "\n",
        "class down(nn.Module):\n",
        "    def __init__(self, in_ch, out_ch):\n",
        "        super(down, self).__init__()\n",
        "        self.mpconv = nn.Sequential(\n",
        "            nn.MaxPool2d(2),\n",
        "            double_conv(in_ch, out_ch)\n",
        "        )\n",
        "\n",
        "    def forward(self, x):\n",
        "        x = self.mpconv(x)\n",
        "        return x\n",
        "\n",
        "class up(nn.Module):\n",
        "    def __init__(self, in_ch, out_ch, bilinear=True):\n",
        "        super(up, self).__init__()\n",
        "\n",
        "        if bilinear:\n",
        "            self.up = nn.Upsample(scale_factor=2)\n",
        "        else:\n",
        "            self.up = nn.ConvTranspose2d(in_ch, out_ch, 2, stride=2)\n",
        "\n",
        "        self.conv = double_conv(in_ch, out_ch)\n",
        "\n",
        "    def forward(self, x1, x2):\n",
        "        x1 = self.up(x1)\n",
        "        diffX = x1.size()[2] - x2.size()[2]\n",
        "        diffY = x1.size()[3] - x2.size()[3]\n",
        "        x2 = F.pad(x2, (diffX // 2, int(diffX / 2), diffY // 2, int(diffY / 2)))\n",
        "        x = torch.cat([x2, x1], dim=1)\n",
        "        x = self.conv(x)\n",
        "        return x\n",
        "\n",
        "class outconv(nn.Module):\n",
        "    def __init__(self, in_ch, out_ch):\n",
        "        super(outconv, self).__init__()\n",
        "        self.conv = nn.Conv2d(in_ch, out_ch, 1)\n",
        "\n",
        "    def forward(self, x):\n",
        "        x = self.conv(x)\n",
        "        return x\n",
        "\n",
        "class UNet(nn.Module):\n",
        "    def __init__(self, n_channels, n_classes):\n",
        "        super(UNet, self).__init__()\n",
        "        self.inc = inconv(n_channels, 64)\n",
        "        self.down1 = down(64, 128)\n",
        "        self.down2 = down(128, 256)\n",
        "        self.down3 = down(256, 512)\n",
        "        self.down4 = down(512, 512)\n",
        "        self.up1 = up(1024, 256)\n",
        "        self.up2 = up(512, 128)\n",
        "        self.up3 = up(256, 64)\n",
        "        self.up4 = up(128, 64)\n",
        "        self.outc = outconv(64, n_classes)\n",
        "\n",
        "    def forward(self, x):\n",
        "      x1 = self.inc(x)\n",
        "      x2 = self.down1(x1)\n",
        "      x3 = self.down2(x2)\n",
        "      x4 = self.down3(x3)\n",
        "      x5 = self.down4(x4)\n",
        "      x = self.up1(x5, x4)\n",
        "      x = self.up2(x, x3)\n",
        "      x = self.up3(x, x2)\n",
        "      x = self.up4(x, x1)\n",
        "      x = self.outc(x)\n",
        "      x = F.sigmoid(x)\n",
        "      return x"
      ],
      "execution_count": 0,
      "outputs": []
    },
    {
      "metadata": {
        "id": "YrUem2M9iMij",
        "colab_type": "code",
        "colab": {
          "autoexec": {
            "startup": false,
            "wait_interval": 0
          },
          "output_extras": [
            {
              "item_id": 100
            },
            {
              "item_id": 101
            },
            {
              "item_id": 174
            },
            {
              "item_id": 175
            },
            {
              "item_id": 236
            },
            {
              "item_id": 237
            },
            {
              "item_id": 277
            },
            {
              "item_id": 278
            },
            {
              "item_id": 313
            },
            {
              "item_id": 314
            },
            {
              "item_id": 355
            },
            {
              "item_id": 356
            },
            {
              "item_id": 371
            },
            {
              "item_id": 372
            },
            {
              "item_id": 417
            },
            {
              "item_id": 418
            },
            {
              "item_id": 423
            },
            {
              "item_id": 424
            },
            {
              "item_id": 495
            },
            {
              "item_id": 496
            },
            {
              "item_id": 497
            }
          ],
          "base_uri": "https://localhost:8080/",
          "height": 884
        },
        "outputId": "09a40fea-adfe-466e-b938-2f0f29b9727c",
        "executionInfo": {
          "status": "ok",
          "timestamp": 1519705653676,
          "user_tz": 360,
          "elapsed": 252534,
          "user": {
            "displayName": "Imran Khan",
            "photoUrl": "https://lh3.googleusercontent.com/a/default-user=s128",
            "userId": "116974156090080387307"
          }
        }
      },
      "cell_type": "code",
      "source": [
        "model = UNet(3, 1).cuda()\n",
        "optimizer = torch.optim.Adam(model.parameters(), lr = 1e-4)\n",
        "\n",
        "for epoch in range(10):\n",
        "  train_ious = []\n",
        "  val_ious = []\n",
        "\n",
        "  for x_train, y_train in tqdm(train_dataloader):\n",
        "    x_train = Variable(x_train).cuda()\n",
        "    y_train = Variable(y_train).cuda()\n",
        "\n",
        "    optimizer.zero_grad()\n",
        "\n",
        "    outputs = model(x_train)\n",
        "\n",
        "    loss = dice_loss(outputs, y_train)\n",
        "    train_iou, _ = iou((outputs.cpu().data.squeeze(0).numpy() > 0.5), y_train.cpu().data.numpy())\n",
        "    train_ious.append(train_iou)\n",
        "\n",
        "    loss.backward()\n",
        "    optimizer.step()\n",
        "\n",
        "  for x_val, y_val in tqdm(val_dataloader):\n",
        "    x_val = Variable(x_val).cuda()\n",
        "    y_val = Variable(y_val).cuda()\n",
        "\n",
        "    optimizer.zero_grad()\n",
        "\n",
        "    o = model(x_val)\n",
        "\n",
        "    val_loss = dice_loss(o, y_val)\n",
        "    val_iou, _ = iou((o.cpu().data.squeeze(0).numpy() > 0.5), y_val.cpu().data.numpy())\n",
        "    val_ious.append(val_iou)\n",
        "\n",
        "  print('\\n')\n",
        "  print(f'Epoch: {epoch + 1} Training Loss: {round(loss.data[0], 4)} Training IOU: {np.asarray(train_ious).mean()} Val Loss: {round(val_loss.data[0], 4)} Val IOU: {np.asarray(val_ious).mean()}', end='\\n')"
      ],
      "execution_count": 5,
      "outputs": [
        {
          "output_type": "stream",
          "text": [
            "100%|██████████| 134/134 [00:25<00:00,  5.30it/s]\n",
            "100%|██████████| 34/34 [00:03<00:00,  9.35it/s]\n",
            "  0%|          | 0/134 [00:00<?, ?it/s]"
          ],
          "name": "stderr"
        },
        {
          "output_type": "stream",
          "text": [
            "\n",
            "\n",
            "Epoch: 1 Training Loss: 0.588 Training IOU: 0.013432835820895524 Val Loss: 0.7414 Val IOU: 0.03529411764705882\n"
          ],
          "name": "stdout"
        },
        {
          "output_type": "stream",
          "text": [
            "100%|██████████| 134/134 [00:21<00:00,  6.15it/s]\n",
            "100%|██████████| 34/34 [00:02<00:00, 12.80it/s]\n",
            "  0%|          | 0/134 [00:00<?, ?it/s]"
          ],
          "name": "stderr"
        },
        {
          "output_type": "stream",
          "text": [
            "\n",
            "\n",
            "Epoch: 2 Training Loss: 0.553 Training IOU: 0.057462686567164176 Val Loss: 0.7141 Val IOU: 0.08529411764705884\n"
          ],
          "name": "stdout"
        },
        {
          "output_type": "stream",
          "text": [
            "100%|██████████| 134/134 [00:21<00:00,  6.14it/s]\n",
            "100%|██████████| 34/34 [00:02<00:00, 12.92it/s]\n",
            "  0%|          | 0/134 [00:00<?, ?it/s]"
          ],
          "name": "stderr"
        },
        {
          "output_type": "stream",
          "text": [
            "\n",
            "\n",
            "Epoch: 3 Training Loss: 0.5195 Training IOU: 0.12089552238805973 Val Loss: 0.6553 Val IOU: 0.12352941176470586\n"
          ],
          "name": "stdout"
        },
        {
          "output_type": "stream",
          "text": [
            "100%|██████████| 134/134 [00:21<00:00,  6.13it/s]\n",
            "100%|██████████| 34/34 [00:02<00:00, 12.64it/s]\n",
            "  0%|          | 0/134 [00:00<?, ?it/s]"
          ],
          "name": "stderr"
        },
        {
          "output_type": "stream",
          "text": [
            "\n",
            "\n",
            "Epoch: 4 Training Loss: 0.4685 Training IOU: 0.16567164179104477 Val Loss: 0.6249 Val IOU: 0.15588235294117647\n"
          ],
          "name": "stdout"
        },
        {
          "output_type": "stream",
          "text": [
            "100%|██████████| 134/134 [00:21<00:00,  6.13it/s]\n",
            "100%|██████████| 34/34 [00:02<00:00, 12.57it/s]\n",
            "  0%|          | 0/134 [00:00<?, ?it/s]"
          ],
          "name": "stderr"
        },
        {
          "output_type": "stream",
          "text": [
            "\n",
            "\n",
            "Epoch: 5 Training Loss: 0.4318 Training IOU: 0.2111940298507463 Val Loss: 0.5952 Val IOU: 0.22647058823529412\n"
          ],
          "name": "stdout"
        },
        {
          "output_type": "stream",
          "text": [
            "100%|██████████| 134/134 [00:21<00:00,  6.14it/s]\n",
            "100%|██████████| 34/34 [00:02<00:00, 12.73it/s]\n",
            "  0%|          | 0/134 [00:00<?, ?it/s]"
          ],
          "name": "stderr"
        },
        {
          "output_type": "stream",
          "text": [
            "\n",
            "\n",
            "Epoch: 6 Training Loss: 0.3865 Training IOU: 0.23134328358208955 Val Loss: 0.5655 Val IOU: 0.2529411764705883\n"
          ],
          "name": "stdout"
        },
        {
          "output_type": "stream",
          "text": [
            "100%|██████████| 134/134 [00:21<00:00,  6.13it/s]\n",
            "100%|██████████| 34/34 [00:02<00:00, 12.57it/s]\n",
            "  0%|          | 0/134 [00:00<?, ?it/s]"
          ],
          "name": "stderr"
        },
        {
          "output_type": "stream",
          "text": [
            "\n",
            "\n",
            "Epoch: 7 Training Loss: 0.3363 Training IOU: 0.2888059701492537 Val Loss: 0.5421 Val IOU: 0.2882352941176471\n"
          ],
          "name": "stdout"
        },
        {
          "output_type": "stream",
          "text": [
            "100%|██████████| 134/134 [00:21<00:00,  6.13it/s]\n",
            "100%|██████████| 34/34 [00:02<00:00, 12.80it/s]\n",
            "  0%|          | 0/134 [00:00<?, ?it/s]"
          ],
          "name": "stderr"
        },
        {
          "output_type": "stream",
          "text": [
            "\n",
            "\n",
            "Epoch: 8 Training Loss: 0.3182 Training IOU: 0.30671641791044774 Val Loss: 0.5554 Val IOU: 0.3264705882352941\n"
          ],
          "name": "stdout"
        },
        {
          "output_type": "stream",
          "text": [
            "100%|██████████| 134/134 [00:21<00:00,  6.13it/s]\n",
            "100%|██████████| 34/34 [00:02<00:00, 12.52it/s]\n",
            "  0%|          | 0/134 [00:00<?, ?it/s]"
          ],
          "name": "stderr"
        },
        {
          "output_type": "stream",
          "text": [
            "\n",
            "\n",
            "Epoch: 9 Training Loss: 0.3136 Training IOU: 0.3343283582089552 Val Loss: 0.5263 Val IOU: 0.35882352941176476\n"
          ],
          "name": "stdout"
        },
        {
          "output_type": "stream",
          "text": [
            "100%|██████████| 134/134 [00:21<00:00,  6.12it/s]\n",
            "100%|██████████| 34/34 [00:02<00:00, 12.56it/s]"
          ],
          "name": "stderr"
        },
        {
          "output_type": "stream",
          "text": [
            "\n",
            "\n",
            "Epoch: 10 Training Loss: 0.2739 Training IOU: 0.3567164179104477 Val Loss: 0.5045 Val IOU: 0.36470588235294116\n"
          ],
          "name": "stdout"
        },
        {
          "output_type": "stream",
          "text": [
            "\n"
          ],
          "name": "stderr"
        }
      ]
    },
    {
      "metadata": {
        "id": "HyvgKyE9yLZv",
        "colab_type": "code",
        "colab": {
          "autoexec": {
            "startup": false,
            "wait_interval": 0
          },
          "output_extras": [
            {
              "item_id": 1
            },
            {
              "item_id": 2
            }
          ],
          "base_uri": "https://localhost:8080/",
          "height": 396
        },
        "outputId": "d3ca506f-5212-4fc4-fcae-bb0c340fb73f",
        "executionInfo": {
          "status": "ok",
          "timestamp": 1519705655662,
          "user_tz": 360,
          "elapsed": 1916,
          "user": {
            "displayName": "Imran Khan",
            "photoUrl": "https://lh3.googleusercontent.com/a/default-user=s128",
            "userId": "116974156090080387307"
          }
        }
      },
      "cell_type": "code",
      "source": [
        "show_val(1, model, iou, val_dataset)"
      ],
      "execution_count": 6,
      "outputs": [
        {
          "output_type": "stream",
          "text": [
            "0.7\n"
          ],
          "name": "stdout"
        },
        {
          "output_type": "display_data",
          "data": {
            "image/png": "[encoded data removed]",
            "text/plain": [
              "<matplotlib.figure.Figure at 0x7fc213e14f98>"
            ]
          },
          "metadata": {
            "tags": []
          }
        }
      ]
    },
    {
      "metadata": {
        "id": "akUqcXhX01hF",
        "colab_type": "code",
        "colab": {
          "autoexec": {
            "startup": false,
            "wait_interval": 0
          },
          "output_extras": [
            {
              "item_id": 1
            }
          ],
          "base_uri": "https://localhost:8080/",
          "height": 431
        },
        "outputId": "79b713d6-6ce7-461e-a022-875923da3fd3",
        "executionInfo": {
          "status": "ok",
          "timestamp": 1519705656512,
          "user_tz": 360,
          "elapsed": 829,
          "user": {
            "displayName": "Imran Khan",
            "photoUrl": "https://lh3.googleusercontent.com/a/default-user=s128",
            "userId": "116974156090080387307"
          }
        }
      },
      "cell_type": "code",
      "source": [
        "show_test(1, model, test_dataset)"
      ],
      "execution_count": 7,
      "outputs": [
        {
          "output_type": "display_data",
          "data": {
            "image/png": "[encoded data removed]",
            "text/plain": [
              "<matplotlib.figure.Figure at 0x7fc259960ba8>"
            ]
          },
          "metadata": {
            "tags": []
          }
        }
      ]
    },
    {
      "metadata": {
        "id": "4idIzLms2fVx",
        "colab_type": "code",
        "colab": {
          "autoexec": {
            "startup": false,
            "wait_interval": 0
          },
          "output_extras": [
            {
              "item_id": 7
            }
          ],
          "base_uri": "https://localhost:8080/",
          "height": 34
        },
        "outputId": "23df558d-ad6c-43c6-d6be-00082555c3cb",
        "executionInfo": {
          "status": "ok",
          "timestamp": 1519705672988,
          "user_tz": 360,
          "elapsed": 1615,
          "user": {
            "displayName": "Imran Khan",
            "photoUrl": "https://lh3.googleusercontent.com/a/default-user=s128",
            "userId": "116974156090080387307"
          }
        }
      },
      "cell_type": "code",
      "source": [
        "preds = predict(model, test_dataset, test_dataloader, optimizer)"
      ],
      "execution_count": 8,
      "outputs": [
        {
          "output_type": "stream",
          "text": [
            "65it [00:01, 47.24it/s]\n"
          ],
          "name": "stderr"
        }
      ]
    },
    {
      "metadata": {
        "id": "FobXkre220Dr",
        "colab_type": "code",
        "colab": {
          "autoexec": {
            "startup": false,
            "wait_interval": 0
          }
        }
      },
      "cell_type": "code",
      "source": [
        "preds = threshold_preds(preds)"
      ],
      "execution_count": 0,
      "outputs": []
    },
    {
      "metadata": {
        "id": "k06L2w2Z23VQ",
        "colab_type": "code",
        "colab": {
          "autoexec": {
            "startup": false,
            "wait_interval": 0
          },
          "output_extras": [
            {
              "item_id": 1
            },
            {
              "item_id": 2
            }
          ],
          "base_uri": "https://localhost:8080/",
          "height": 322
        },
        "outputId": "5d07fb59-ac23-42f6-e15b-bbc85a0c8d65",
        "executionInfo": {
          "status": "ok",
          "timestamp": 1519705675368,
          "user_tz": 360,
          "elapsed": 675,
          "user": {
            "displayName": "Imran Khan",
            "photoUrl": "https://lh3.googleusercontent.com/a/default-user=s128",
            "userId": "116974156090080387307"
          }
        }
      },
      "cell_type": "code",
      "source": [
        "plt.figure(figsize=(10, 10))\n",
        "plt.subplot(1, 2, 1)\n",
        "plt.imshow(test_dataset[1][0].numpy().reshape(128, 128)*0.5+0.5)\n",
        "\n",
        "plt.subplot(1, 2, 2)\n",
        "plt.imshow(preds[1])"
      ],
      "execution_count": 10,
      "outputs": [
        {
          "output_type": "execute_result",
          "data": {
            "text/plain": [
              "<matplotlib.image.AxesImage at 0x7fc20e731710>"
            ]
          },
          "metadata": {
            "tags": []
          },
          "execution_count": 10
        },
        {
          "output_type": "display_data",
          "data": {
            "image/png": "[encoded data removed]",
            "text/plain": [
              "<matplotlib.figure.Figure at 0x7fc20e833710>"
            ]
          },
          "metadata": {
            "tags": []
          }
        }
      ]
    },
    {
      "metadata": {
        "id": "5jKbiPrj26Do",
        "colab_type": "code",
        "colab": {
          "autoexec": {
            "startup": false,
            "wait_interval": 0
          }
        }
      },
      "cell_type": "code",
      "source": [
        "preds_upsampled = upsample(preds, x_test_sizes)"
      ],
      "execution_count": 0,
      "outputs": []
    },
    {
      "metadata": {
        "id": "lquAjKvN3MAJ",
        "colab_type": "code",
        "colab": {
          "autoexec": {
            "startup": false,
            "wait_interval": 0
          }
        }
      },
      "cell_type": "code",
      "source": [
        "test_path = '../../.kaggle/competitions/data-science-bowl-2018/test/'\n",
        "test_ids = next(os.walk(test_path))[1]\n",
        "\n",
        "rles, new_test_ids = encode(preds_upsampled, test_ids)"
      ],
      "execution_count": 0,
      "outputs": []
    },
    {
      "metadata": {
        "id": "ElP4giNM3iwk",
        "colab_type": "code",
        "colab": {
          "autoexec": {
            "startup": false,
            "wait_interval": 0
          }
        }
      },
      "cell_type": "code",
      "source": [
        "submit(new_test_ids, rles)"
      ],
      "execution_count": 0,
      "outputs": []
    },
    {
      "metadata": {
        "id": "Y3ZBGhNW3vq2",
        "colab_type": "code",
        "colab": {
          "autoexec": {
            "startup": false,
            "wait_interval": 0
          }
        }
      },
      "cell_type": "code",
      "source": [
        "pd.read_csv('./submission.csv')"
      ],
      "execution_count": 0,
      "outputs": []
    },
    {
      "metadata": {
        "id": "cUm4paljVX5R",
        "colab_type": "code",
        "colab": {
          "autoexec": {
            "startup": false,
            "wait_interval": 0
          }
        }
      },
      "cell_type": "code",
      "source": [
        "from google.colab import files\n",
        "\n",
        "files.download('submission.csv')"
      ],
      "execution_count": 0,
      "outputs": []
    }
  ]
}