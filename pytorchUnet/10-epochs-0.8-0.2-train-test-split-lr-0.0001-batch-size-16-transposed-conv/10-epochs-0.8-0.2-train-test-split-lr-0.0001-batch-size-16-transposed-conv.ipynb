{
  "nbformat": 4,
  "nbformat_minor": 0,
  "metadata": {
    "colab": {
      "name": "data-science-bowl-pytorch-unet",
      "version": "0.3.2",
      "views": {},
      "default_view": {},
      "provenance": [],
      "collapsed_sections": []
    },
    "kernelspec": {
      "name": "python3",
      "display_name": "Python 3"
    },
    "accelerator": "GPU"
  },
  "cells": [
    {
      "metadata": {
        "id": "7Mh8DJJSbd2T",
        "colab_type": "code",
        "colab": {
          "autoexec": {
            "startup": false,
            "wait_interval": 0
          }
        }
      },
      "cell_type": "code",
      "source": [
        "import os\n",
        "!rm -rf *\n",
        "!rm -rf .kaggle/\n",
        "!git clone https://github.com/bkahn-github/data-science-bowl.git\n",
        "!pip install -r data-science-bowl/requirements.txt\n",
        "!mkdir ~/.kaggle\n",
        "f = open(\".kaggle/kaggle.json\", \"w\")\n",
        "f.write('{\"username\":\"bkkaggle\",\"key\":\"bf4e62680116284087ace0484990f87a\"}')\n",
        "f.close()\n",
        "!kaggle competitions download -c data-science-bowl-2018\n",
        "!unzip ~/.kaggle/competitions/data-science-bowl-2018/stage1_train.zip -d ~/.kaggle/competitions/data-science-bowl-2018/train\n",
        "!unzip ~/.kaggle/competitions/data-science-bowl-2018/stage1_test.zip -d ~/.kaggle/competitions/data-science-bowl-2018/test\n",
        "!unzip ~/.kaggle/competitions/data-science-bowl-2018/stage1_train_labels.csv.zip -d ~/.kaggle/competitions/data-science-bowl-2018/labels\n",
        "os.chdir('data-science-bowl/pytorchUnet')\n",
        "\n",
        "!pip3 install http://download.pytorch.org/whl/cu80/torch-0.3.0.post4-cp36-cp36m-linux_x86_64.whl \n",
        "!pip3 install torchvision"
      ],
      "execution_count": 0,
      "outputs": []
    },
    {
      "metadata": {
        "id": "WiaHNzhpbnIv",
        "colab_type": "code",
        "colab": {
          "autoexec": {
            "startup": false,
            "wait_interval": 0
          }
        }
      },
      "cell_type": "code",
      "source": [
        "os.chdir('../../')\n",
        "!rm -rf data-science-bowl/\n",
        "%reload_ext autoreload\n",
        "%autoreload 0\n",
        "!git clone https://github.com/bkahn-github/data-science-bowl.git\n",
        "os.chdir('data-science-bowl/pytorchUnet')"
      ],
      "execution_count": 0,
      "outputs": []
    },
    {
      "metadata": {
        "id": "Md6VniycbxQM",
        "colab_type": "code",
        "colab": {
          "autoexec": {
            "startup": false,
            "wait_interval": 0
          }
        }
      },
      "cell_type": "code",
      "source": [
        "import PIL\n",
        "import numpy as np\n",
        "import pandas as pd\n",
        "import matplotlib.pyplot as plt\n",
        "\n",
        "import torch\n",
        "from torch.autograd import Variable\n",
        "from torch.backends import cudnn\n",
        "import torchvision.transforms as transforms\n",
        "\n",
        "from tqdm import tqdm, tqdm_notebook\n",
        "\n",
        "np.random.seed(123)\n",
        "torch.manual_seed(123)\n",
        "torch.cuda.manual_seed(123)\n",
        "cudnn.benchmark = True\n",
        "\n",
        "%matplotlib inline\n",
        "\n",
        "from load_data import load_data\n",
        "from metrics import dice_loss, iou\n",
        "from model import UNet\n",
        "from process_data import threshold_preds, predict, encode, upsample\n",
        "from visualize import show_val, show_test\n",
        "from submit import submit"
      ],
      "execution_count": 0,
      "outputs": []
    },
    {
      "metadata": {
        "id": "fVQfVj4TuEAY",
        "colab_type": "code",
        "colab": {
          "autoexec": {
            "startup": false,
            "wait_interval": 0
          },
          "output_extras": [
            {}
          ],
          "base_uri": "https://localhost:8080/",
          "height": 69
        },
        "outputId": "e0190ad3-3079-4093-8fc9-20e56b9eb9ca",
        "executionInfo": {
          "status": "ok",
          "timestamp": 1519866400409,
          "user_tz": 360,
          "elapsed": 61806,
          "user": {
            "displayName": "Imran Khan",
            "photoUrl": "https://lh3.googleusercontent.com/a/default-user=s128",
            "userId": "116974156090080387307"
          }
        }
      },
      "cell_type": "code",
      "source": [
        "train, val, x_test_sizes, train_dataset, val_dataset, test_dataset, train_dataloader, val_dataloader, test_dataloader = load_data(batch_size=16)"
      ],
      "execution_count": 0,
      "outputs": [
        {
          "output_type": "stream",
          "text": [
            "100%|██████████| 670/670 [00:50<00:00, 13.25it/s]\n",
            "100%|██████████| 65/65 [00:00<00:00, 150.85it/s]\n",
            "100%|██████████| 65/65 [00:00<00:00, 163.59it/s]\n"
          ],
          "name": "stderr"
        }
      ]
    },
    {
      "metadata": {
        "id": "tC3j3R1BgPnp",
        "colab_type": "code",
        "colab": {
          "autoexec": {
            "startup": false,
            "wait_interval": 0
          }
        }
      },
      "cell_type": "code",
      "source": [
        "import torch\n",
        "import torch.nn as nn\n",
        "import torch.nn.functional as F\n",
        "\n",
        "class double_conv(nn.Module):\n",
        "    def __init__(self, in_ch, out_ch):\n",
        "        super(double_conv, self).__init__()\n",
        "        self.conv = nn.Sequential(\n",
        "            nn.Conv2d(in_ch, out_ch, 3, padding=1),\n",
        "            nn.BatchNorm2d(out_ch),\n",
        "            nn.ReLU(inplace=True),\n",
        "            nn.Dropout2d(0.2),\n",
        "            nn.Conv2d(out_ch, out_ch, 3, padding=1),\n",
        "            nn.BatchNorm2d(out_ch),\n",
        "            nn.ReLU(inplace=True),\n",
        "            nn.Dropout2d(0.2)\n",
        "        )\n",
        "\n",
        "    def forward(self, x):\n",
        "        x = self.conv(x)\n",
        "        return x\n",
        "\n",
        "class inconv(nn.Module):\n",
        "    def __init__(self, in_ch, out_ch):\n",
        "        super(inconv, self).__init__()\n",
        "        self.conv = double_conv(in_ch, out_ch)\n",
        "\n",
        "    def forward(self, x):\n",
        "        x = self.conv(x)\n",
        "        return x\n",
        "\n",
        "class down(nn.Module):\n",
        "    def __init__(self, in_ch, out_ch):\n",
        "        super(down, self).__init__()\n",
        "        self.mpconv = nn.Sequential(\n",
        "            nn.MaxPool2d(2),\n",
        "            double_conv(in_ch, out_ch)\n",
        "        )\n",
        "\n",
        "    def forward(self, x):\n",
        "        x = self.mpconv(x)\n",
        "        return x\n",
        "\n",
        "class up(nn.Module):\n",
        "    def __init__(self, in_ch, out_ch, bilinear=False):\n",
        "        super(up, self).__init__()\n",
        "\n",
        "        if bilinear:\n",
        "            self.up = nn.Upsample(scale_factor=2)\n",
        "        else:\n",
        "            self.up = nn.ConvTranspose2d(in_ch, out_ch, 2, stride=2)\n",
        "\n",
        "        self.conv = double_conv(in_ch, out_ch)\n",
        "\n",
        "    def forward(self, x1, x2):\n",
        "        x1 = self.up(x1)\n",
        "        diffX = x1.size()[2] - x2.size()[2]\n",
        "        diffY = x1.size()[3] - x2.size()[3]\n",
        "        x2 = F.pad(x2, (diffX // 2, int(diffX / 2), diffY // 2, int(diffY / 2)))\n",
        "        x = torch.cat([x2, x1], dim=1)\n",
        "        x = self.conv(x)\n",
        "        return x\n",
        "\n",
        "class outconv(nn.Module):\n",
        "    def __init__(self, in_ch, out_ch):\n",
        "        super(outconv, self).__init__()\n",
        "        self.conv = nn.Conv2d(in_ch, out_ch, 1)\n",
        "\n",
        "    def forward(self, x):\n",
        "        x = self.conv(x)\n",
        "        return x\n",
        "\n",
        "class UNet(nn.Module):\n",
        "    def __init__(self, n_channels, n_classes):\n",
        "        super(UNet, self).__init__()\n",
        "        self.inc = inconv(n_channels, 64)\n",
        "        self.down1 = down(64, 128)\n",
        "        self.down2 = down(128, 256)\n",
        "        self.down3 = down(256, 512)\n",
        "        self.down4 = down(512, 1024)\n",
        "\n",
        "        self.up1 = up(1024, 512)\n",
        "        self.up2 = up(512, 256)\n",
        "        self.up3 = up(256, 128)\n",
        "        self.up4 = up(128, 64)\n",
        "        self.outc = outconv(64, n_classes)\n",
        "\n",
        "    def forward(self, x):\n",
        "      x1 = self.inc(x)\n",
        "      x2 = self.down1(x1)\n",
        "      x3 = self.down2(x2)\n",
        "      x4 = self.down3(x3)\n",
        "      x5 = self.down4(x4)\n",
        "      x = self.up1(x5, x4)\n",
        "      x = self.up2(x, x3)\n",
        "      x = self.up3(x, x2)\n",
        "      x = self.up4(x, x1)\n",
        "      x = self.outc(x)\n",
        "      x = F.sigmoid(x)\n",
        "      return x"
      ],
      "execution_count": 0,
      "outputs": []
    },
    {
      "metadata": {
        "id": "YrUem2M9iMij",
        "colab_type": "code",
        "colab": {
          "autoexec": {
            "startup": false,
            "wait_interval": 0
          },
          "output_extras": [
            {},
            {},
            {},
            {},
            {},
            {},
            {},
            {},
            {},
            {},
            {},
            {},
            {},
            {},
            {},
            {},
            {},
            {},
            {},
            {},
            {}
          ],
          "base_uri": "https://localhost:8080/",
          "height": 884
        },
        "outputId": "18b20b31-3334-4e9d-8f06-3073f3355905",
        "executionInfo": {
          "status": "ok",
          "timestamp": 1519866611006,
          "user_tz": 360,
          "elapsed": 191564,
          "user": {
            "displayName": "Imran Khan",
            "photoUrl": "https://lh3.googleusercontent.com/a/default-user=s128",
            "userId": "116974156090080387307"
          }
        }
      },
      "cell_type": "code",
      "source": [
        "model = UNet(3, 1).cuda()\n",
        "optimizer = torch.optim.Adam(model.parameters(), lr = 1e-4)\n",
        "\n",
        "for epoch in range(10):\n",
        "  train_ious = []\n",
        "  val_ious = []\n",
        "\n",
        "  for x_train, y_train in tqdm(train_dataloader):\n",
        "\n",
        "    x_train = Variable(x_train).cuda()\n",
        "    y_train = Variable(y_train).cuda()\n",
        "\n",
        "    optimizer.zero_grad()\n",
        "\n",
        "    outputs = model(x_train)\n",
        "\n",
        "    loss = dice_loss(outputs, y_train)\n",
        "    train_iou, _ = iou((outputs.cpu().data.squeeze(0).numpy() > 0.5), y_train.cpu().data.numpy())\n",
        "    train_ious.append(train_iou)\n",
        "\n",
        "    loss.backward()\n",
        "    optimizer.step()\n",
        "\n",
        "  for x_val, y_val in tqdm(val_dataloader):\n",
        "    x_val = Variable(x_val).cuda()\n",
        "    y_val = Variable(y_val).cuda()\n",
        "\n",
        "    optimizer.zero_grad()\n",
        "\n",
        "    o = model(x_val)\n",
        "\n",
        "    val_loss = dice_loss(o, y_val)\n",
        "    val_iou, _ = iou((o.cpu().data.squeeze(0).numpy() > 0.5), y_val.cpu().data.numpy())\n",
        "    val_ious.append(val_iou)\n",
        "\n",
        "  print('\\n')\n",
        "  print(f'Epoch: {epoch + 1} Training IOU: {np.asarray(train_ious).mean()} Val IOU: {np.asarray(val_ious).mean()} Training Loss: {round(loss.data[0], 4)} Val Loss: {round(val_loss.data[0], 4)}', end='\\n')"
      ],
      "execution_count": 0,
      "outputs": [
        {
          "output_type": "stream",
          "text": [
            "100%|██████████| 34/34 [00:26<00:00,  1.27it/s]\n",
            "100%|██████████| 9/9 [00:03<00:00,  2.60it/s]\n",
            "  0%|          | 0/34 [00:00<?, ?it/s]"
          ],
          "name": "stderr"
        },
        {
          "output_type": "stream",
          "text": [
            "\n",
            "\n",
            "Epoch: 1 Training IOU: 0.0 Val IOU: 0.0 Training Loss: 0.6763 Val Loss: 0.6758\n"
          ],
          "name": "stdout"
        },
        {
          "output_type": "stream",
          "text": [
            "100%|██████████| 34/34 [00:15<00:00,  2.17it/s]\n",
            "100%|██████████| 9/9 [00:01<00:00,  4.69it/s]\n",
            "  0%|          | 0/34 [00:00<?, ?it/s]"
          ],
          "name": "stderr"
        },
        {
          "output_type": "stream",
          "text": [
            "\n",
            "\n",
            "Epoch: 2 Training IOU: 0.0058823529411764705 Val IOU: 0.022222222222222223 Training Loss: 0.6217 Val Loss: 0.6265\n"
          ],
          "name": "stdout"
        },
        {
          "output_type": "stream",
          "text": [
            "100%|██████████| 34/34 [00:15<00:00,  2.17it/s]\n",
            "100%|██████████| 9/9 [00:01<00:00,  4.79it/s]\n",
            "  0%|          | 0/34 [00:00<?, ?it/s]"
          ],
          "name": "stderr"
        },
        {
          "output_type": "stream",
          "text": [
            "\n",
            "\n",
            "Epoch: 3 Training IOU: 0.0058823529411764705 Val IOU: 0.011111111111111112 Training Loss: 0.6112 Val Loss: 0.5778\n"
          ],
          "name": "stdout"
        },
        {
          "output_type": "stream",
          "text": [
            "100%|██████████| 34/34 [00:15<00:00,  2.17it/s]\n",
            "100%|██████████| 9/9 [00:01<00:00,  4.73it/s]\n",
            "  0%|          | 0/34 [00:00<?, ?it/s]"
          ],
          "name": "stderr"
        },
        {
          "output_type": "stream",
          "text": [
            "\n",
            "\n",
            "Epoch: 4 Training IOU: 0.02647058823529412 Val IOU: 0.06666666666666668 Training Loss: 0.5913 Val Loss: 0.5462\n"
          ],
          "name": "stdout"
        },
        {
          "output_type": "stream",
          "text": [
            "100%|██████████| 34/34 [00:15<00:00,  2.17it/s]\n",
            "100%|██████████| 9/9 [00:01<00:00,  4.68it/s]\n",
            "  0%|          | 0/34 [00:00<?, ?it/s]"
          ],
          "name": "stderr"
        },
        {
          "output_type": "stream",
          "text": [
            "\n",
            "\n",
            "Epoch: 5 Training IOU: 0.047058823529411764 Val IOU: 0.08888888888888888 Training Loss: 0.569 Val Loss: 0.5457\n"
          ],
          "name": "stdout"
        },
        {
          "output_type": "stream",
          "text": [
            "100%|██████████| 34/34 [00:15<00:00,  2.16it/s]\n",
            "100%|██████████| 9/9 [00:01<00:00,  4.70it/s]\n",
            "  0%|          | 0/34 [00:00<?, ?it/s]"
          ],
          "name": "stderr"
        },
        {
          "output_type": "stream",
          "text": [
            "\n",
            "\n",
            "Epoch: 6 Training IOU: 0.07058823529411765 Val IOU: 0.12222222222222223 Training Loss: 0.5416 Val Loss: 0.5217\n"
          ],
          "name": "stdout"
        },
        {
          "output_type": "stream",
          "text": [
            "100%|██████████| 34/34 [00:15<00:00,  2.17it/s]\n",
            "100%|██████████| 9/9 [00:01<00:00,  4.80it/s]\n",
            "  0%|          | 0/34 [00:00<?, ?it/s]"
          ],
          "name": "stderr"
        },
        {
          "output_type": "stream",
          "text": [
            "\n",
            "\n",
            "Epoch: 7 Training IOU: 0.09999999999999999 Val IOU: 0.18888888888888888 Training Loss: 0.5236 Val Loss: 0.5071\n"
          ],
          "name": "stdout"
        },
        {
          "output_type": "stream",
          "text": [
            "100%|██████████| 34/34 [00:15<00:00,  2.17it/s]\n",
            "100%|██████████| 9/9 [00:01<00:00,  4.69it/s]\n",
            "  0%|          | 0/34 [00:00<?, ?it/s]"
          ],
          "name": "stderr"
        },
        {
          "output_type": "stream",
          "text": [
            "\n",
            "\n",
            "Epoch: 8 Training IOU: 0.1411764705882353 Val IOU: 0.2 Training Loss: 0.5269 Val Loss: 0.5139\n"
          ],
          "name": "stdout"
        },
        {
          "output_type": "stream",
          "text": [
            "100%|██████████| 34/34 [00:15<00:00,  2.17it/s]\n",
            "100%|██████████| 9/9 [00:01<00:00,  4.72it/s]\n",
            "  0%|          | 0/34 [00:00<?, ?it/s]"
          ],
          "name": "stderr"
        },
        {
          "output_type": "stream",
          "text": [
            "\n",
            "\n",
            "Epoch: 9 Training IOU: 0.19117647058823528 Val IOU: 0.21111111111111114 Training Loss: 0.4948 Val Loss: 0.5193\n"
          ],
          "name": "stdout"
        },
        {
          "output_type": "stream",
          "text": [
            "100%|██████████| 34/34 [00:15<00:00,  2.17it/s]\n",
            "100%|██████████| 9/9 [00:01<00:00,  4.75it/s]"
          ],
          "name": "stderr"
        },
        {
          "output_type": "stream",
          "text": [
            "\n",
            "\n",
            "Epoch: 10 Training IOU: 0.18529411764705883 Val IOU: 0.23333333333333334 Training Loss: 0.4941 Val Loss: 0.4778\n"
          ],
          "name": "stdout"
        },
        {
          "output_type": "stream",
          "text": [
            "\n"
          ],
          "name": "stderr"
        }
      ]
    },
    {
      "metadata": {
        "id": "HyvgKyE9yLZv",
        "colab_type": "code",
        "colab": {
          "autoexec": {
            "startup": false,
            "wait_interval": 0
          },
          "output_extras": [
            {},
            {}
          ],
          "base_uri": "https://localhost:8080/",
          "height": 396
        },
        "outputId": "bdac83f2-f97a-4d35-f0d9-bc76cae5647b",
        "executionInfo": {
          "status": "ok",
          "timestamp": 1519866613995,
          "user_tz": 360,
          "elapsed": 2567,
          "user": {
            "displayName": "Imran Khan",
            "photoUrl": "https://lh3.googleusercontent.com/a/default-user=s128",
            "userId": "116974156090080387307"
          }
        }
      },
      "cell_type": "code",
      "source": [
        "show_val(1, model, iou, val_dataset)"
      ],
      "execution_count": 0,
      "outputs": [
        {
          "output_type": "stream",
          "text": [
            "0.6\n"
          ],
          "name": "stdout"
        },
        {
          "output_type": "display_data",
          "data": {
            "image/png": "[encoded data removed]",
            "text/plain": [
              "<matplotlib.figure.Figure at 0x7f348ce12c50>"
            ]
          },
          "metadata": {
            "tags": []
          }
        }
      ]
    },
    {
      "metadata": {
        "id": "akUqcXhX01hF",
        "colab_type": "code",
        "colab": {
          "autoexec": {
            "startup": false,
            "wait_interval": 0
          },
          "output_extras": [
            {}
          ],
          "base_uri": "https://localhost:8080/",
          "height": 431
        },
        "outputId": "c2e865de-813c-4f32-e50f-b65d8929c1a4",
        "executionInfo": {
          "status": "ok",
          "timestamp": 1519866615690,
          "user_tz": 360,
          "elapsed": 967,
          "user": {
            "displayName": "Imran Khan",
            "photoUrl": "https://lh3.googleusercontent.com/a/default-user=s128",
            "userId": "116974156090080387307"
          }
        }
      },
      "cell_type": "code",
      "source": [
        "show_test(1, model, test_dataset)"
      ],
      "execution_count": 0,
      "outputs": [
        {
          "output_type": "display_data",
          "data": {
            "image/png": "[encoded data removed]",
            "text/plain": [
              "<matplotlib.figure.Figure at 0x7f3489caaac8>"
            ]
          },
          "metadata": {
            "tags": []
          }
        }
      ]
    },
    {
      "metadata": {
        "id": "4idIzLms2fVx",
        "colab_type": "code",
        "colab": {
          "autoexec": {
            "startup": false,
            "wait_interval": 0
          },
          "output_extras": [
            {}
          ],
          "base_uri": "https://localhost:8080/",
          "height": 34
        },
        "outputId": "dfa3255e-e46e-4d67-9046-42b61f1a96a4",
        "executionInfo": {
          "status": "ok",
          "timestamp": 1519866620238,
          "user_tz": 360,
          "elapsed": 3111,
          "user": {
            "displayName": "Imran Khan",
            "photoUrl": "https://lh3.googleusercontent.com/a/default-user=s128",
            "userId": "116974156090080387307"
          }
        }
      },
      "cell_type": "code",
      "source": [
        "preds = predict(model, test_dataset, test_dataloader, optimizer)"
      ],
      "execution_count": 0,
      "outputs": [
        {
          "output_type": "stream",
          "text": [
            "65it [00:01, 35.26it/s]\n"
          ],
          "name": "stderr"
        }
      ]
    },
    {
      "metadata": {
        "id": "FobXkre220Dr",
        "colab_type": "code",
        "colab": {
          "autoexec": {
            "startup": false,
            "wait_interval": 0
          }
        }
      },
      "cell_type": "code",
      "source": [
        "preds = threshold_preds(preds)"
      ],
      "execution_count": 0,
      "outputs": []
    },
    {
      "metadata": {
        "id": "k06L2w2Z23VQ",
        "colab_type": "code",
        "colab": {
          "autoexec": {
            "startup": false,
            "wait_interval": 0
          },
          "output_extras": [
            {},
            {}
          ],
          "base_uri": "https://localhost:8080/",
          "height": 322
        },
        "outputId": "9b959aaa-86de-4444-c38d-c9eab8657401",
        "executionInfo": {
          "status": "ok",
          "timestamp": 1519866625106,
          "user_tz": 360,
          "elapsed": 1079,
          "user": {
            "displayName": "Imran Khan",
            "photoUrl": "https://lh3.googleusercontent.com/a/default-user=s128",
            "userId": "116974156090080387307"
          }
        }
      },
      "cell_type": "code",
      "source": [
        "plt.figure(figsize=(10, 10))\n",
        "plt.subplot(1, 2, 1)\n",
        "plt.imshow(test_dataset[1][0].numpy().reshape(128, 128)*0.5+0.5)\n",
        "\n",
        "plt.subplot(1, 2, 2)\n",
        "plt.imshow(preds[1])"
      ],
      "execution_count": 0,
      "outputs": [
        {
          "output_type": "execute_result",
          "data": {
            "text/plain": [
              "<matplotlib.image.AxesImage at 0x7f3487aa08d0>"
            ]
          },
          "metadata": {
            "tags": []
          },
          "execution_count": 11
        },
        {
          "output_type": "display_data",
          "data": {
            "image/png": "[encoded data removed]",
            "text/plain": [
              "<matplotlib.figure.Figure at 0x7f3487c37e48>"
            ]
          },
          "metadata": {
            "tags": []
          }
        }
      ]
    },
    {
      "metadata": {
        "id": "5jKbiPrj26Do",
        "colab_type": "code",
        "colab": {
          "autoexec": {
            "startup": false,
            "wait_interval": 0
          }
        }
      },
      "cell_type": "code",
      "source": [
        "from skimage.transform import resize\n",
        "from skimage.morphology import label\n",
        "\n",
        "def upsample(preds, x_test_sizes):\n",
        "    preds_test_upsampled = []\n",
        "    for i in range(len(preds)):\n",
        "        preds_test_upsampled.append(resize(np.squeeze(preds[i]), x_test_sizes[i], mode='constant', preserve_range=True).astype(np.uint8))\n",
        "\n",
        "    return preds_test_upsampled\n",
        "\n",
        "preds_upsampled = upsample(preds, x_test_sizes)"
      ],
      "execution_count": 0,
      "outputs": []
    },
    {
      "metadata": {
        "id": "lquAjKvN3MAJ",
        "colab_type": "code",
        "colab": {
          "autoexec": {
            "startup": false,
            "wait_interval": 0
          }
        }
      },
      "cell_type": "code",
      "source": [
        "test_path = '../../.kaggle/competitions/data-science-bowl-2018/test/'\n",
        "test_ids = next(os.walk(test_path))[1]\n",
        "\n",
        "rles, new_test_ids = encode(preds_upsampled, test_ids)"
      ],
      "execution_count": 0,
      "outputs": []
    },
    {
      "metadata": {
        "id": "ElP4giNM3iwk",
        "colab_type": "code",
        "colab": {
          "autoexec": {
            "startup": false,
            "wait_interval": 0
          }
        }
      },
      "cell_type": "code",
      "source": [
        "submit(new_test_ids, rles)"
      ],
      "execution_count": 0,
      "outputs": []
    },
    {
      "metadata": {
        "id": "Y3ZBGhNW3vq2",
        "colab_type": "code",
        "colab": {
          "autoexec": {
            "startup": false,
            "wait_interval": 0
          }
        }
      },
      "cell_type": "code",
      "source": [
        "pd.read_csv('./submission.csv')"
      ],
      "execution_count": 0,
      "outputs": []
    },
    {
      "metadata": {
        "id": "cUm4paljVX5R",
        "colab_type": "code",
        "colab": {
          "autoexec": {
            "startup": false,
            "wait_interval": 0
          }
        }
      },
      "cell_type": "code",
      "source": [
        "from google.colab import files\n",
        "\n",
        "files.download('submission.csv')"
      ],
      "execution_count": 0,
      "outputs": []
    }
  ]
}