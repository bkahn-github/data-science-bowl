{
  "nbformat": 4,
  "nbformat_minor": 0,
  "metadata": {
    "colab": {
      "name": "train-alternate-config-coco.ipynb",
      "version": "0.3.2",
      "views": {},
      "default_view": {},
      "provenance": [],
      "collapsed_sections": []
    },
    "kernelspec": {
      "name": "python3",
      "display_name": "Python 3"
    },
    "accelerator": "GPU"
  },
  "cells": [
    {
      "metadata": {
        "id": "drfvOGINSyja",
        "colab_type": "code",
        "colab": {
          "autoexec": {
            "startup": false,
            "wait_interval": 0
          }
        }
      },
      "cell_type": "code",
      "source": [
        "import os\n",
        "!rm -rf *\n",
        "!rm -rf .kaggle/\n",
        "!git clone https://github.com/bkahn-github/data-science-bowl.git\n",
        "!pip install -r data-science-bowl/requirements.txt\n",
        "!pip3 install http://download.pytorch.org/whl/cu80/torch-0.3.0.post4-cp36-cp36m-linux_x86_64.whl \n",
        "!pip3 install torchvision\n",
        "!pip3 install Pillow\n",
        "!mkdir ~/.kaggle\n",
        "f = open(\".kaggle/kaggle.json\", \"w\")\n",
        "f.write('{\"username\":\"bkkaggle\",\"key\":\"bf4e62680116284087ace0484990f87a\"}')\n",
        "f.close()\n",
        "!kaggle competitions download -c data-science-bowl-2018\n",
        "!unzip ~/.kaggle/competitions/data-science-bowl-2018/stage1_train.zip -d ~/.kaggle/competitions/data-science-bowl-2018/train\n",
        "!unzip ~/.kaggle/competitions/data-science-bowl-2018/stage1_test.zip -d ~/.kaggle/competitions/data-science-bowl-2018/test\n",
        "!unzip ~/.kaggle/competitions/data-science-bowl-2018/stage1_train_labels.csv.zip -d ~/.kaggle/competitions/data-science-bowl-2018/\n",
        "!unzip ~/.kaggle/competitions/data-science-bowl-2018/stage1_sample_submission.csv.zip -d ~/.kaggle/competitions/data-science-bowl-2018/"
      ],
      "execution_count": 0,
      "outputs": []
    },
    {
      "metadata": {
        "id": "c3-HYZeu0y6c",
        "colab_type": "code",
        "colab": {
          "autoexec": {
            "startup": false,
            "wait_interval": 0
          }
        }
      },
      "cell_type": "code",
      "source": [
        "os.chdir('data-science-bowl/maskRcnn')\n",
        "!git checkout mask-rcnn-coco"
      ],
      "execution_count": 0,
      "outputs": []
    },
    {
      "metadata": {
        "id": "9g-0L_0pTUPt",
        "colab_type": "code",
        "colab": {
          "autoexec": {
            "startup": false,
            "wait_interval": 0
          }
        }
      },
      "cell_type": "code",
      "source": [
        "!git clone https://github.com/lopuhin/kaggle-dsbowl-2018-dataset-fixes ./kaggle-dsbowl-2018-dataset-fixes\n",
        "!ln -s ./kaggle-dsbowl-2018-dataset-fixes/stage1_train stage1_train\n",
        "!mv ~/.kaggle/competitions/data-science-bowl-2018/test/ stage1_test\n",
        "!mv ~/.kaggle/competitions/data-science-bowl-2018/stage1_train_labels.csv .\n",
        "!mv ~/.kaggle/competitions/data-science-bowl-2018/stage1_sample_submission.csv ."
      ],
      "execution_count": 0,
      "outputs": []
    },
    {
      "metadata": {
        "id": "nt4ixNI3W8NS",
        "colab_type": "code",
        "colab": {
          "autoexec": {
            "startup": false,
            "wait_interval": 0
          }
        }
      },
      "cell_type": "code",
      "source": [
        "!wget \"https://github.com/matterport/Mask_RCNN/releases/download/v2.0/mask_rcnn_coco.h5\""
      ],
      "execution_count": 0,
      "outputs": []
    },
    {
      "metadata": {
        "id": "9c9_38VpWLvU",
        "colab_type": "code",
        "colab": {
          "autoexec": {
            "startup": false,
            "wait_interval": 0
          }
        }
      },
      "cell_type": "code",
      "source": [
        "!git clone https://github.com/waleedka/coco.git"
      ],
      "execution_count": 0,
      "outputs": []
    },
    {
      "metadata": {
        "id": "1lStG3LzYKEj",
        "colab_type": "code",
        "colab": {
          "autoexec": {
            "startup": false,
            "wait_interval": 0
          }
        }
      },
      "cell_type": "code",
      "source": [
        "!apt-get install make"
      ],
      "execution_count": 0,
      "outputs": []
    },
    {
      "metadata": {
        "id": "4Fr7F_fdXUvh",
        "colab_type": "code",
        "colab": {
          "autoexec": {
            "startup": false,
            "wait_interval": 0
          }
        }
      },
      "cell_type": "code",
      "source": [
        "os.chdir('coco/PythonAPI/')\n",
        "!pip install Cython\n",
        "!make install\n",
        "!pwd"
      ],
      "execution_count": 0,
      "outputs": []
    },
    {
      "metadata": {
        "id": "AVn2WwQ0Yq6h",
        "colab_type": "code",
        "colab": {
          "autoexec": {
            "startup": false,
            "wait_interval": 0
          }
        }
      },
      "cell_type": "code",
      "source": [
        "os.chdir('../../')\n",
        "!pwd\n",
        "!ls"
      ],
      "execution_count": 0,
      "outputs": []
    },
    {
      "metadata": {
        "id": "oR-Qa2ETQAps",
        "colab_type": "code",
        "colab": {
          "autoexec": {
            "startup": false,
            "wait_interval": 0
          }
        }
      },
      "cell_type": "code",
      "source": [
        "!pip install -U -q PyDrive\n",
        "from pydrive.auth import GoogleAuth\n",
        "from pydrive.drive import GoogleDrive\n",
        "from google.colab import auth\n",
        "from oauth2client.client import GoogleCredentials\n",
        "\n",
        "auth.authenticate_user()\n",
        "gauth = GoogleAuth()\n",
        "gauth.credentials = GoogleCredentials.get_application_default()\n",
        "drive = GoogleDrive(gauth)\n",
        "\n",
        "file_id = ''\n",
        "downloaded = drive.CreateFile({'id': file_id})\n",
        "downloaded.GetContentFile('mask-rcnn-alternate-config-12-epochs.h5')"
      ],
      "execution_count": 0,
      "outputs": []
    },
    {
      "metadata": {
        "id": "SN7kcjCbQ5Sw",
        "colab_type": "code",
        "colab": {
          "autoexec": {
            "startup": false,
            "wait_interval": 0
          }
        }
      },
      "cell_type": "code",
      "source": [
        "mv mask-rcnn-alternate-config-12-epochs.h5 model.h5"
      ],
      "execution_count": 0,
      "outputs": []
    },
    {
      "metadata": {
        "id": "zFB4sI-FaeXM",
        "colab_type": "code",
        "colab": {
          "autoexec": {
            "startup": false,
            "wait_interval": 0
          },
          "output_extras": [
            {
              "item_id": 500
            },
            {
              "item_id": 789
            },
            {
              "item_id": 1209
            },
            {
              "item_id": 1722
            },
            {
              "item_id": 1967
            },
            {
              "item_id": 2480
            },
            {
              "item_id": 2665
            },
            {
              "item_id": 3170
            },
            {
              "item_id": 3682
            },
            {
              "item_id": 3853
            }
          ],
          "base_uri": "https://localhost:8080/",
          "height": 280
        },
        "outputId": "9cadb368-4a52-4f7e-a965-1119b6458aa3",
        "executionInfo": {
          "status": "ok",
          "timestamp": 1522192036309,
          "user_tz": 300,
          "elapsed": 5181643,
          "user": {
            "displayName": "Imran Khan",
            "photoUrl": "https://lh3.googleusercontent.com/a/default-user=s128",
            "userId": "116974156090080387307"
          }
        }
      },
      "cell_type": "code",
      "source": [
        "!CUDA_VISIBLE_DEVICES=\"0\" python train.py"
      ],
      "execution_count": 9,
      "outputs": [
        {
          "output_type": "stream",
          "text": [
            "664/664 [==============================] - 893s 1s/step - loss: 1.1660 - rpn_class_loss: 0.0517 - rpn_bbox_loss: 0.6310 - mrcnn_class_loss: 0.0999 - mrcnn_bbox_loss: 0.1588 - mrcnn_mask_loss: 0.2246 - val_loss: 1.8203 - val_rpn_class_loss: 0.0841 - val_rpn_bbox_loss: 0.7573 - val_mrcnn_class_loss: 0.2566 - val_mrcnn_bbox_loss: 0.3213 - val_mrcnn_mask_loss: 0.4010\n",
            "Epoch 4/100\n",
            "  6/664 [..............................] - ETA: 14:20 - loss: 0.7853 - rpn_class_loss: 0.0389 - rpn_bbox_loss: 0.3596 - mrcnn_class_loss: 0.0816 - mrcnn_bbox_loss: 0.1059 - mrcnn_mask_loss: 0.1992"
          ],
          "name": "stdout"
        },
        {
          "output_type": "stream",
          "text": [
            "221/664 [========>.....................] - ETA: 9:58 - loss: 1.0081 - rpn_class_loss: 0.0440 - rpn_bbox_loss: 0.5116 - mrcnn_class_loss: 0.0937 - mrcnn_bbox_loss: 0.1415 - mrcnn_mask_loss: 0.2174tcmalloc: large alloc 2301050880 bytes == 0x7f6774e1a000 @  0x7f6a500da107 0x7f6a4d8ab9a1 0x7f6a4d90e9a3 0x7f6a4d90ea6a 0x7f6a4d9bc7ad 0x7f6a4d9bd0fb 0x7f6a4d9c092c 0x7f6a4d9a5515 0x7f6a4d9a60a7 0x4c4a3d 0x54f3c4 0x553aaf 0x54e4c8 0x54f4f6 0x553aaf 0x54efc1 0x54f24d 0x551ee0 0x47eea4 0x54afb5 0x4c4a3d 0x54f3c4 0x553aaf 0x54e4c8 0x5582c2 0x459c11 0x45969e 0x552029 0x54e4c8 0x54f4f6 0x553aaf\n",
            "293/664 [============>.................] - ETA: 8:20 - loss: 1.0177 - rpn_class_loss: 0.0461 - rpn_bbox_loss: 0.5167 - mrcnn_class_loss: 0.0953 - mrcnn_bbox_loss: 0.1430 - mrcnn_mask_loss: 0.2167"
          ],
          "name": "stdout"
        },
        {
          "output_type": "stream",
          "text": [
            "664/664 [==============================] - 897s 1s/step - loss: 1.0365 - rpn_class_loss: 0.0472 - rpn_bbox_loss: 0.5239 - mrcnn_class_loss: 0.0976 - mrcnn_bbox_loss: 0.1478 - mrcnn_mask_loss: 0.2200 - val_loss: 1.5762 - val_rpn_class_loss: 0.0722 - val_rpn_bbox_loss: 0.6766 - val_mrcnn_class_loss: 0.1981 - val_mrcnn_bbox_loss: 0.2610 - val_mrcnn_mask_loss: 0.3682\n",
            "Epoch 5/100\n",
            " 46/664 [=>............................] - ETA: 14:02 - loss: 0.9037 - rpn_class_loss: 0.0446 - rpn_bbox_loss: 0.4621 - mrcnn_class_loss: 0.0732 - mrcnn_bbox_loss: 0.1269 - mrcnn_mask_loss: 0.1969"
          ],
          "name": "stdout"
        },
        {
          "output_type": "stream",
          "text": [
            "556/664 [========================>.....] - ETA: 2:26 - loss: 0.9618 - rpn_class_loss: 0.0442 - rpn_bbox_loss: 0.4651 - mrcnn_class_loss: 0.0923 - mrcnn_bbox_loss: 0.1415 - mrcnn_mask_loss: 0.2186"
          ],
          "name": "stdout"
        },
        {
          "output_type": "stream",
          "text": [
            "664/664 [==============================] - 899s 1s/step - loss: 0.9568 - rpn_class_loss: 0.0436 - rpn_bbox_loss: 0.4610 - mrcnn_class_loss: 0.0933 - mrcnn_bbox_loss: 0.1407 - mrcnn_mask_loss: 0.2182 - val_loss: 1.6413 - val_rpn_class_loss: 0.0672 - val_rpn_bbox_loss: 0.6823 - val_mrcnn_class_loss: 0.2529 - val_mrcnn_bbox_loss: 0.2595 - val_mrcnn_mask_loss: 0.3795\n",
            "Epoch 6/100\n",
            "134/664 [=====>........................] - ETA: 12:05 - loss: 0.8993 - rpn_class_loss: 0.0372 - rpn_bbox_loss: 0.4197 - mrcnn_class_loss: 0.0930 - mrcnn_bbox_loss: 0.1373 - mrcnn_mask_loss: 0.2120"
          ],
          "name": "stdout"
        },
        {
          "output_type": "stream",
          "text": [
            "645/664 [============================>.] - ETA: 25s - loss: 0.9022 - rpn_class_loss: 0.0405 - rpn_bbox_loss: 0.4188 - mrcnn_class_loss: 0.0915 - mrcnn_bbox_loss: 0.1370 - mrcnn_mask_loss: 0.2145"
          ],
          "name": "stdout"
        },
        {
          "output_type": "stream",
          "text": [
            "664/664 [==============================] - 900s 1s/step - loss: 0.9018 - rpn_class_loss: 0.0402 - rpn_bbox_loss: 0.4191 - mrcnn_class_loss: 0.0913 - mrcnn_bbox_loss: 0.1370 - mrcnn_mask_loss: 0.2142 - val_loss: 1.5050 - val_rpn_class_loss: 0.0711 - val_rpn_bbox_loss: 0.6239 - val_mrcnn_class_loss: 0.2261 - val_mrcnn_bbox_loss: 0.2544 - val_mrcnn_mask_loss: 0.3296\n",
            "Epoch 7/100\n",
            "164/664 [======>.......................] - ETA: 11:20 - loss: 0.9062 - rpn_class_loss: 0.0375 - rpn_bbox_loss: 0.4121 - mrcnn_class_loss: 0.0923 - mrcnn_bbox_loss: 0.1434 - mrcnn_mask_loss: 0.2209"
          ],
          "name": "stdout"
        },
        {
          "output_type": "stream",
          "text": [
            "664/664 [==============================] - 900s 1s/step - loss: 0.8575 - rpn_class_loss: 0.0375 - rpn_bbox_loss: 0.3869 - mrcnn_class_loss: 0.0888 - mrcnn_bbox_loss: 0.1317 - mrcnn_mask_loss: 0.2126 - val_loss: 1.4586 - val_rpn_class_loss: 0.0684 - val_rpn_bbox_loss: 0.6140 - val_mrcnn_class_loss: 0.1891 - val_mrcnn_bbox_loss: 0.2456 - val_mrcnn_mask_loss: 0.3415\n",
            "Epoch 8/100\n",
            "  3/664 [..............................] - ETA: 14:53 - loss: 0.6487 - rpn_class_loss: 0.0291 - rpn_bbox_loss: 0.2782 - mrcnn_class_loss: 0.0350 - mrcnn_bbox_loss: 0.1134 - mrcnn_mask_loss: 0.1929"
          ],
          "name": "stdout"
        },
        {
          "output_type": "stream",
          "text": [
            "513/664 [======================>.......] - ETA: 3:23 - loss: 0.8260 - rpn_class_loss: 0.0377 - rpn_bbox_loss: 0.3588 - mrcnn_class_loss: 0.0887 - mrcnn_bbox_loss: 0.1287 - mrcnn_mask_loss: 0.2120"
          ],
          "name": "stdout"
        },
        {
          "output_type": "stream",
          "text": [
            "664/664 [==============================] - 896s 1s/step - loss: 0.8190 - rpn_class_loss: 0.0361 - rpn_bbox_loss: 0.3565 - mrcnn_class_loss: 0.0857 - mrcnn_bbox_loss: 0.1288 - mrcnn_mask_loss: 0.2118 - val_loss: 1.3832 - val_rpn_class_loss: 0.0552 - val_rpn_bbox_loss: 0.5884 - val_mrcnn_class_loss: 0.1906 - val_mrcnn_bbox_loss: 0.2171 - val_mrcnn_mask_loss: 0.3318\n",
            "Epoch 9/100\n",
            " 17/664 [..............................] - ETA: 14:28 - loss: 0.8554 - rpn_class_loss: 0.0423 - rpn_bbox_loss: 0.3479 - mrcnn_class_loss: 0.1067 - mrcnn_bbox_loss: 0.1314 - mrcnn_mask_loss: 0.2272^C\n"
          ],
          "name": "stdout"
        }
      ]
    },
    {
      "metadata": {
        "id": "Y8wqXhQvPHR2",
        "colab_type": "code",
        "colab": {
          "autoexec": {
            "startup": false,
            "wait_interval": 0
          },
          "output_extras": [
            {
              "item_id": 1
            }
          ],
          "base_uri": "https://localhost:8080/",
          "height": 104
        },
        "outputId": "982da529-e165-4055-ced6-0175628f385e",
        "executionInfo": {
          "status": "ok",
          "timestamp": 1522192041726,
          "user_tz": 300,
          "elapsed": 1630,
          "user": {
            "displayName": "Imran Khan",
            "photoUrl": "https://lh3.googleusercontent.com/a/default-user=s128",
            "userId": "116974156090080387307"
          }
        }
      },
      "cell_type": "code",
      "source": [
        "!ls logs/bowl20180327T2105/"
      ],
      "execution_count": 10,
      "outputs": [
        {
          "output_type": "stream",
          "text": [
            "events.out.tfevents.1522184733.897cbaafd9d2  mask_rcnn_bowl_0005.h5\r\n",
            "mask_rcnn_bowl_0001.h5\t\t\t     mask_rcnn_bowl_0006.h5\r\n",
            "mask_rcnn_bowl_0002.h5\t\t\t     mask_rcnn_bowl_0007.h5\r\n",
            "mask_rcnn_bowl_0003.h5\t\t\t     mask_rcnn_bowl_0008.h5\r\n",
            "mask_rcnn_bowl_0004.h5\r\n"
          ],
          "name": "stdout"
        }
      ]
    },
    {
      "metadata": {
        "id": "PvU9-7RqnKeL",
        "colab_type": "code",
        "colab": {
          "autoexec": {
            "startup": false,
            "wait_interval": 0
          },
          "output_extras": [
            {
              "item_id": 1
            }
          ],
          "base_uri": "https://localhost:8080/",
          "height": 34
        },
        "outputId": "6930f489-bc15-4224-d3c6-6279b90423e9",
        "executionInfo": {
          "status": "ok",
          "timestamp": 1522192092266,
          "user_tz": 300,
          "elapsed": 5066,
          "user": {
            "displayName": "Imran Khan",
            "photoUrl": "https://lh3.googleusercontent.com/a/default-user=s128",
            "userId": "116974156090080387307"
          }
        }
      },
      "cell_type": "code",
      "source": [
        "!pip install -U -q PyDrive\n",
        "from pydrive.auth import GoogleAuth\n",
        "from pydrive.drive import GoogleDrive\n",
        "from google.colab import auth\n",
        "from oauth2client.client import GoogleCredentials\n",
        "\n",
        "auth.authenticate_user()\n",
        "gauth = GoogleAuth()\n",
        "gauth.credentials = GoogleCredentials.get_application_default()\n",
        "drive = GoogleDrive(gauth)\n",
        "\n",
        "uploaded = drive.CreateFile({'title': 'mask-rcnn-alternate-config-coco-8-epochs.h5'})\n",
        "uploaded.SetContentFile('logs/bowl20180327T2105/mask_rcnn_bowl_0008.h5')\n",
        "uploaded.Upload()\n",
        "print('Uploaded file with ID {}'.format(uploaded.get('id')))"
      ],
      "execution_count": 11,
      "outputs": [
        {
          "output_type": "stream",
          "text": [
            "Uploaded file with ID 1RqMa0hWbD4DXQWkHj3TYuHFBE3CqalKE\n"
          ],
          "name": "stdout"
        }
      ]
    },
    {
      "metadata": {
        "id": "JfqtkdLJX7lg",
        "colab_type": "code",
        "colab": {
          "autoexec": {
            "startup": false,
            "wait_interval": 0
          }
        }
      },
      "cell_type": "code",
      "source": [
        "!kill -9 -1"
      ],
      "execution_count": 0,
      "outputs": []
    }
  ]
}